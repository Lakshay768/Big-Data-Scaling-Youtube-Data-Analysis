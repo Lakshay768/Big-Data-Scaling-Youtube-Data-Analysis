{
  "nbformat": 4,
  "nbformat_minor": 0,
  "metadata": {
    "colab": {
      "name": "Big_data_project_EDA.ipynb",
      "provenance": [],
      "collapsed_sections": [
        "p0-YhEpP_Ds-",
        "pH2HyTOsLL_0",
        "bYC_KbFN0vC8",
        "am1pG0RfI9ad",
        "-D4bFvLbc13N",
        "8Psqzk0Ad7TT",
        "-e4XIv1GfJ3b"
      ]
    },
    "kernelspec": {
      "name": "python3",
      "display_name": "Python 3"
    }
  },
  "cells": [
    {
      "cell_type": "markdown",
      "metadata": {
        "id": "p0-YhEpP_Ds-"
      },
      "source": [
        "### Setup"
      ]
    },
    {
      "cell_type": "markdown",
      "metadata": {
        "id": "Zsj5WYpR9QId"
      },
      "source": [
        "Let's setup Spark on your Colab environment.  Run the cell below!"
      ]
    },
    {
      "cell_type": "code",
      "metadata": {
        "id": "k-qHai2252mI",
        "colab": {
          "base_uri": "https://localhost:8080/"
        },
        "outputId": "2bebf29b-e935-4e11-9db3-55f7f94e007d"
      },
      "source": [
        "!pip install pyspark\n",
        "!apt update\n",
        "!pip install -U -q PyDrive\n",
        "!apt install openjdk-8-jdk-headless -qq\n",
        "import os\n",
        "os.environ[\"JAVA_HOME\"] = \"/usr/lib/jvm/java-8-openjdk-amd64\""
      ],
      "execution_count": 2,
      "outputs": [
        {
          "output_type": "stream",
          "text": [
            "Requirement already satisfied: pyspark in /usr/local/lib/python3.7/dist-packages (3.1.1)\n",
            "Requirement already satisfied: py4j==0.10.9 in /usr/local/lib/python3.7/dist-packages (from pyspark) (0.10.9)\n",
            "Get:1 https://cloud.r-project.org/bin/linux/ubuntu bionic-cran40/ InRelease [3,626 B]\n",
            "Ign:2 https://developer.download.nvidia.com/compute/cuda/repos/ubuntu1804/x86_64  InRelease\n",
            "Ign:3 https://developer.download.nvidia.com/compute/machine-learning/repos/ubuntu1804/x86_64  InRelease\n",
            "Get:4 http://ppa.launchpad.net/c2d4u.team/c2d4u4.0+/ubuntu bionic InRelease [15.9 kB]\n",
            "Get:5 https://developer.download.nvidia.com/compute/cuda/repos/ubuntu1804/x86_64  Release [697 B]\n",
            "Hit:6 https://developer.download.nvidia.com/compute/machine-learning/repos/ubuntu1804/x86_64  Release\n",
            "Get:7 http://security.ubuntu.com/ubuntu bionic-security InRelease [88.7 kB]\n",
            "Get:8 https://developer.download.nvidia.com/compute/cuda/repos/ubuntu1804/x86_64  Release.gpg [836 B]\n",
            "Hit:9 http://archive.ubuntu.com/ubuntu bionic InRelease\n",
            "Get:10 http://archive.ubuntu.com/ubuntu bionic-updates InRelease [88.7 kB]\n",
            "Get:11 https://cloud.r-project.org/bin/linux/ubuntu bionic-cran40/ Packages [53.9 kB]\n",
            "Hit:12 http://ppa.launchpad.net/cran/libgit2/ubuntu bionic InRelease\n",
            "Get:14 http://ppa.launchpad.net/deadsnakes/ppa/ubuntu bionic InRelease [15.9 kB]\n",
            "Get:15 http://archive.ubuntu.com/ubuntu bionic-backports InRelease [74.6 kB]\n",
            "Ign:16 https://developer.download.nvidia.com/compute/cuda/repos/ubuntu1804/x86_64  Packages\n",
            "Get:16 https://developer.download.nvidia.com/compute/cuda/repos/ubuntu1804/x86_64  Packages [770 kB]\n",
            "Get:17 http://ppa.launchpad.net/graphics-drivers/ppa/ubuntu bionic InRelease [15.9 kB]\n",
            "Get:18 http://ppa.launchpad.net/c2d4u.team/c2d4u4.0+/ubuntu bionic/main Sources [1,759 kB]\n",
            "Get:19 http://security.ubuntu.com/ubuntu bionic-security/restricted amd64 Packages [399 kB]\n",
            "Get:20 http://security.ubuntu.com/ubuntu bionic-security/universe amd64 Packages [1,410 kB]\n",
            "Get:21 http://archive.ubuntu.com/ubuntu bionic-updates/main amd64 Packages [2,550 kB]\n",
            "Get:22 http://security.ubuntu.com/ubuntu bionic-security/multiverse amd64 Packages [24.7 kB]\n",
            "Get:23 http://security.ubuntu.com/ubuntu bionic-security/main amd64 Packages [2,119 kB]\n",
            "Get:24 http://ppa.launchpad.net/c2d4u.team/c2d4u4.0+/ubuntu bionic/main amd64 Packages [900 kB]\n",
            "Get:25 http://archive.ubuntu.com/ubuntu bionic-updates/universe amd64 Packages [2,181 kB]\n",
            "Get:26 http://archive.ubuntu.com/ubuntu bionic-updates/restricted amd64 Packages [429 kB]\n",
            "Get:27 http://archive.ubuntu.com/ubuntu bionic-updates/multiverse amd64 Packages [31.6 kB]\n",
            "Get:28 http://ppa.launchpad.net/deadsnakes/ppa/ubuntu bionic/main amd64 Packages [40.8 kB]\n",
            "Get:29 http://ppa.launchpad.net/graphics-drivers/ppa/ubuntu bionic/main amd64 Packages [53.2 kB]\n",
            "Fetched 13.0 MB in 4s (3,367 kB/s)\n",
            "Reading package lists... Done\n",
            "Building dependency tree       \n",
            "Reading state information... Done\n",
            "85 packages can be upgraded. Run 'apt list --upgradable' to see them.\n",
            "The following package was automatically installed and is no longer required:\n",
            "  libnvidia-common-460\n",
            "Use 'apt autoremove' to remove it.\n",
            "The following additional packages will be installed:\n",
            "  openjdk-8-jre-headless\n",
            "Suggested packages:\n",
            "  openjdk-8-demo openjdk-8-source libnss-mdns fonts-dejavu-extra\n",
            "  fonts-ipafont-gothic fonts-ipafont-mincho fonts-wqy-microhei\n",
            "  fonts-wqy-zenhei fonts-indic\n",
            "The following NEW packages will be installed:\n",
            "  openjdk-8-jdk-headless openjdk-8-jre-headless\n",
            "0 upgraded, 2 newly installed, 0 to remove and 85 not upgraded.\n",
            "Need to get 36.5 MB of archives.\n",
            "After this operation, 143 MB of additional disk space will be used.\n",
            "Selecting previously unselected package openjdk-8-jre-headless:amd64.\n",
            "(Reading database ... 160690 files and directories currently installed.)\n",
            "Preparing to unpack .../openjdk-8-jre-headless_8u292-b10-0ubuntu1~18.04_amd64.deb ...\n",
            "Unpacking openjdk-8-jre-headless:amd64 (8u292-b10-0ubuntu1~18.04) ...\n",
            "Selecting previously unselected package openjdk-8-jdk-headless:amd64.\n",
            "Preparing to unpack .../openjdk-8-jdk-headless_8u292-b10-0ubuntu1~18.04_amd64.deb ...\n",
            "Unpacking openjdk-8-jdk-headless:amd64 (8u292-b10-0ubuntu1~18.04) ...\n",
            "Setting up openjdk-8-jre-headless:amd64 (8u292-b10-0ubuntu1~18.04) ...\n",
            "update-alternatives: using /usr/lib/jvm/java-8-openjdk-amd64/jre/bin/orbd to provide /usr/bin/orbd (orbd) in auto mode\n",
            "update-alternatives: using /usr/lib/jvm/java-8-openjdk-amd64/jre/bin/servertool to provide /usr/bin/servertool (servertool) in auto mode\n",
            "update-alternatives: using /usr/lib/jvm/java-8-openjdk-amd64/jre/bin/tnameserv to provide /usr/bin/tnameserv (tnameserv) in auto mode\n",
            "Setting up openjdk-8-jdk-headless:amd64 (8u292-b10-0ubuntu1~18.04) ...\n",
            "update-alternatives: using /usr/lib/jvm/java-8-openjdk-amd64/bin/idlj to provide /usr/bin/idlj (idlj) in auto mode\n",
            "update-alternatives: using /usr/lib/jvm/java-8-openjdk-amd64/bin/wsimport to provide /usr/bin/wsimport (wsimport) in auto mode\n",
            "update-alternatives: using /usr/lib/jvm/java-8-openjdk-amd64/bin/jsadebugd to provide /usr/bin/jsadebugd (jsadebugd) in auto mode\n",
            "update-alternatives: using /usr/lib/jvm/java-8-openjdk-amd64/bin/native2ascii to provide /usr/bin/native2ascii (native2ascii) in auto mode\n",
            "update-alternatives: using /usr/lib/jvm/java-8-openjdk-amd64/bin/javah to provide /usr/bin/javah (javah) in auto mode\n",
            "update-alternatives: using /usr/lib/jvm/java-8-openjdk-amd64/bin/hsdb to provide /usr/bin/hsdb (hsdb) in auto mode\n",
            "update-alternatives: using /usr/lib/jvm/java-8-openjdk-amd64/bin/clhsdb to provide /usr/bin/clhsdb (clhsdb) in auto mode\n",
            "update-alternatives: using /usr/lib/jvm/java-8-openjdk-amd64/bin/extcheck to provide /usr/bin/extcheck (extcheck) in auto mode\n",
            "update-alternatives: using /usr/lib/jvm/java-8-openjdk-amd64/bin/schemagen to provide /usr/bin/schemagen (schemagen) in auto mode\n",
            "update-alternatives: using /usr/lib/jvm/java-8-openjdk-amd64/bin/xjc to provide /usr/bin/xjc (xjc) in auto mode\n",
            "update-alternatives: using /usr/lib/jvm/java-8-openjdk-amd64/bin/jhat to provide /usr/bin/jhat (jhat) in auto mode\n",
            "update-alternatives: using /usr/lib/jvm/java-8-openjdk-amd64/bin/wsgen to provide /usr/bin/wsgen (wsgen) in auto mode\n"
          ],
          "name": "stdout"
        }
      ]
    },
    {
      "cell_type": "markdown",
      "metadata": {
        "id": "qwtlO4_m_LbQ"
      },
      "source": [
        "Now we import some of the libraries usually needed by our workload.\n",
        "\n",
        "\n",
        "\n"
      ]
    },
    {
      "cell_type": "code",
      "metadata": {
        "id": "twk-K-jilWK7"
      },
      "source": [
        "import pandas as pd\n",
        "import numpy as np\n",
        "import matplotlib.pyplot as plt\n",
        "%matplotlib inline\n",
        "\n",
        "import pyspark\n",
        "from pyspark.sql import *\n",
        "from pyspark.sql.types import *\n",
        "from pyspark.sql.functions import *\n",
        "from pyspark import SparkContext, SparkConf\n",
        "from pyspark.sql.functions import lit\n"
      ],
      "execution_count": 3,
      "outputs": []
    },
    {
      "cell_type": "markdown",
      "metadata": {
        "id": "QY9K5_Y_tQPL"
      },
      "source": [
        "Mounting the drice and making the project folder as the current path"
      ]
    },
    {
      "cell_type": "code",
      "metadata": {
        "colab": {
          "base_uri": "https://localhost:8080/"
        },
        "id": "wkPmdPtiRqBa",
        "outputId": "04a05c68-5fb4-488e-d2bb-149ec01ce2b6"
      },
      "source": [
        "from google.colab import drive\n",
        "drive.mount('/content/drive')"
      ],
      "execution_count": 4,
      "outputs": [
        {
          "output_type": "stream",
          "text": [
            "Mounted at /content/drive\n"
          ],
          "name": "stdout"
        }
      ]
    },
    {
      "cell_type": "code",
      "metadata": {
        "colab": {
          "base_uri": "https://localhost:8080/"
        },
        "id": "0gkclHnlR-xc",
        "outputId": "da26065c-1435-4a57-d3c9-554ec6ea74c8"
      },
      "source": [
        "import os\n",
        "cur_path = \"/content/drive/My Drive/bigdataproj/\"\n",
        "os.chdir(cur_path)\n",
        "!ls"
      ],
      "execution_count": 5,
      "outputs": [
        {
          "output_type": "stream",
          "text": [
            "Big_data_project.ipynb\tFR_videos_data.csv  KR_videos_data.csv\n",
            "BR_videos_data.csv\tGB_videos_data.csv  MX_videos_data.csv\n",
            "CA_videos_data.csv\tIN_videos_data.csv  RU_videos_data.csv\n",
            "DE_videos_data.csv\tJP_videos_data.csv  US_videos_data.csv\n"
          ],
          "name": "stdout"
        }
      ]
    },
    {
      "cell_type": "markdown",
      "metadata": {
        "id": "BtrJlMBt1Ela"
      },
      "source": [
        "Let's initialize the Spark context."
      ]
    },
    {
      "cell_type": "code",
      "metadata": {
        "id": "Vm3sAVeK1EDZ"
      },
      "source": [
        "# create the session\n",
        "conf = SparkConf().set(\"spark.ui.port\", \"4050\")\n",
        "\n",
        "# create the context\n",
        "sc = pyspark.SparkContext(conf=conf)\n",
        "spark = SparkSession.builder.getOrCreate()"
      ],
      "execution_count": 6,
      "outputs": []
    },
    {
      "cell_type": "markdown",
      "metadata": {
        "id": "YqovskkH1DmC"
      },
      "source": [
        "You can easily check the current version and get the link of the web interface. In the Spark UI, you can monitor the progress of your job and debug the performance bottlenecks (if your Colab is running with a **local runtime**)."
      ]
    },
    {
      "cell_type": "code",
      "metadata": {
        "id": "DueQggJc1DDk",
        "colab": {
          "base_uri": "https://localhost:8080/",
          "height": 218
        },
        "outputId": "bedb95a0-248f-4b6d-a951-23aeedf86886"
      },
      "source": [
        "spark"
      ],
      "execution_count": 7,
      "outputs": [
        {
          "output_type": "execute_result",
          "data": {
            "text/html": [
              "\n",
              "            <div>\n",
              "                <p><b>SparkSession - in-memory</b></p>\n",
              "                \n",
              "        <div>\n",
              "            <p><b>SparkContext</b></p>\n",
              "\n",
              "            <p><a href=\"http://1fae99a4f26a:4050\">Spark UI</a></p>\n",
              "\n",
              "            <dl>\n",
              "              <dt>Version</dt>\n",
              "                <dd><code>v3.1.1</code></dd>\n",
              "              <dt>Master</dt>\n",
              "                <dd><code>local[*]</code></dd>\n",
              "              <dt>AppName</dt>\n",
              "                <dd><code>pyspark-shell</code></dd>\n",
              "            </dl>\n",
              "        </div>\n",
              "        \n",
              "            </div>\n",
              "        "
            ],
            "text/plain": [
              "<pyspark.sql.session.SparkSession at 0x7f712d344b50>"
            ]
          },
          "metadata": {
            "tags": []
          },
          "execution_count": 7
        }
      ]
    },
    {
      "cell_type": "markdown",
      "metadata": {
        "id": "kAYRX2PMm0L6"
      },
      "source": [
        "### Data Preprocessing"
      ]
    },
    {
      "cell_type": "markdown",
      "metadata": {
        "id": "wpsaYOqRxar2"
      },
      "source": [
        "For convenience, given that the dataset is small, we first construct a Pandas dataframe, tune the schema, and then convert it into a Spark dataframe."
      ]
    },
    {
      "cell_type": "markdown",
      "metadata": {
        "id": "pH2HyTOsLL_0"
      },
      "source": [
        "## Importing all data sets"
      ]
    },
    {
      "cell_type": "code",
      "metadata": {
        "colab": {
          "base_uri": "https://localhost:8080/"
        },
        "id": "giihoeaULtIk",
        "outputId": "70650a5f-426e-481f-acc4-3dfe67497000"
      },
      "source": [
        "!ls"
      ],
      "execution_count": null,
      "outputs": [
        {
          "output_type": "stream",
          "text": [
            "Big_data_project.ipynb\tFR_videos_data.csv  KR_videos_data.csv\n",
            "BR_videos_data.csv\tGB_videos_data.csv  MX_videos_data.csv\n",
            "CA_videos_data.csv\tIN_videos_data.csv  RU_videos_data.csv\n",
            "DE_videos_data.csv\tJP_videos_data.csv  US_videos_data.csv\n"
          ],
          "name": "stdout"
        }
      ]
    },
    {
      "cell_type": "markdown",
      "metadata": {
        "id": "9kw8IWV2tr16"
      },
      "source": [
        "Importing all the datasets for different countries.\n",
        "1. In a a Pandas data frame format\n",
        "2. In a spark data frame format"
      ]
    },
    {
      "cell_type": "code",
      "metadata": {
        "id": "Oitav_xhQD9w"
      },
      "source": [
        "# video_* shows the pandas data frame\n",
        "# df_* shows the spark data frame\n",
        "\n",
        "\n",
        "video_data=pd.read_csv('US_videos_data.csv')\n",
        "df = spark.read.csv('US_videos_data.csv',header=True)\n",
        "\n",
        "video_data_BR=pd.read_csv('BR_videos_data.csv')\n",
        "df_BR = spark.read.csv('BR_videos_data.csv',header=True)\n",
        "\n",
        "video_data_CA=pd.read_csv('CA_videos_data.csv')\n",
        "df_CA = spark.read.csv('CA_videos_data.csv',header=True)\n",
        "\n",
        "video_data_DE=pd.read_csv('DE_videos_data.csv')\n",
        "df_DE = spark.read.csv('DE_videos_data.csv',header=True)\n",
        "\n",
        "video_data_FR=pd.read_csv('FR_videos_data.csv')\n",
        "df_FR = spark.read.csv('FR_videos_data.csv',header=True)\n",
        "\n",
        "video_data_GB=pd.read_csv('GB_videos_data.csv')\n",
        "df_GB = spark.read.csv('GB_videos_data.csv',header=True)\n",
        "\n",
        "video_data_IN=pd.read_csv('IN_videos_data.csv')\n",
        "df_IN = spark.read.csv('IN_videos_data.csv',header=True)\n",
        "\n",
        "video_data_JP=pd.read_csv('JP_videos_data.csv')\n",
        "df_JP = spark.read.csv('JP_videos_data.csv',header=True)\n",
        "\n",
        "video_data_KR=pd.read_csv('KR_videos_data.csv')\n",
        "df_KR = spark.read.csv('KR_videos_data.csv',header=True)\n",
        "\n",
        "video_data_MX=pd.read_csv('MX_videos_data.csv')\n",
        "df_MX = spark.read.csv('MX_videos_data.csv',header=True)\n",
        "\n",
        "video_data_RU=pd.read_csv('RU_videos_data.csv')\n",
        "df_RU = spark.read.csv('RU_videos_data.csv',header=True)\n",
        "\n"
      ],
      "execution_count": 8,
      "outputs": []
    },
    {
      "cell_type": "markdown",
      "metadata": {
        "id": "bYC_KbFN0vC8"
      },
      "source": [
        "# ***About the Data***\n",
        "\n",
        "The dataset contains a total of 16 columns describing interesting features such as Title, date/time of upload, description of video, and also files were categorized based on the region of Trending, this way it is easy to see which demographics have similarities.\n",
        "Currently, It contains data from 10 Regions/Countries.\n",
        "\n",
        "\n",
        "## Distinct Columns\n",
        "video_id\n",
        "title\tpublishedAt\t\n",
        "channelId\t\n",
        "channelTitle\t\n",
        "categoryId\t\n",
        "trending_date\t\n",
        "tags\t\n",
        "view_count\t\n",
        "likes\tdislikes\t\n",
        "comment_count\t\n",
        "thumbnail_link\t\n",
        "comments_disabled\t\n",
        "ratings_disabled\t\n",
        "description"
      ]
    },
    {
      "cell_type": "markdown",
      "metadata": {
        "id": "am1pG0RfI9ad"
      },
      "source": [
        "# ***US ***\n",
        "\n",
        "Initial EDA on US to see the number of views against different channel title. Basically to see which channel title get the most views.\n",
        "\n",
        "**The same methodology will be repeated for different countries in ordert to get the most trending channels."
      ]
    },
    {
      "cell_type": "code",
      "metadata": {
        "colab": {
          "base_uri": "https://localhost:8080/",
          "height": 598
        },
        "id": "pYPbb6iM5Hob",
        "outputId": "5a157523-84ec-4199-ea53-b022b9413d8b"
      },
      "source": [
        "video_data.head()"
      ],
      "execution_count": 9,
      "outputs": [
        {
          "output_type": "execute_result",
          "data": {
            "text/html": [
              "<div>\n",
              "<style scoped>\n",
              "    .dataframe tbody tr th:only-of-type {\n",
              "        vertical-align: middle;\n",
              "    }\n",
              "\n",
              "    .dataframe tbody tr th {\n",
              "        vertical-align: top;\n",
              "    }\n",
              "\n",
              "    .dataframe thead th {\n",
              "        text-align: right;\n",
              "    }\n",
              "</style>\n",
              "<table border=\"1\" class=\"dataframe\">\n",
              "  <thead>\n",
              "    <tr style=\"text-align: right;\">\n",
              "      <th></th>\n",
              "      <th>Unnamed: 0</th>\n",
              "      <th>video_id</th>\n",
              "      <th>title</th>\n",
              "      <th>publishedAt</th>\n",
              "      <th>channelId</th>\n",
              "      <th>channelTitle</th>\n",
              "      <th>categoryId</th>\n",
              "      <th>trending_date</th>\n",
              "      <th>tags</th>\n",
              "      <th>view_count</th>\n",
              "      <th>likes</th>\n",
              "      <th>dislikes</th>\n",
              "      <th>comment_count</th>\n",
              "      <th>thumbnail_link</th>\n",
              "      <th>comments_disabled</th>\n",
              "      <th>ratings_disabled</th>\n",
              "      <th>description</th>\n",
              "    </tr>\n",
              "  </thead>\n",
              "  <tbody>\n",
              "    <tr>\n",
              "      <th>0</th>\n",
              "      <td>0</td>\n",
              "      <td>IhO1FcjDMV4</td>\n",
              "      <td>Meatpacking: Last Week Tonight with John Olive...</td>\n",
              "      <td>2021-02-22T07:30:01Z</td>\n",
              "      <td>UC3XTzVzaHQEd30rQbuvCtTQ</td>\n",
              "      <td>LastWeekTonight</td>\n",
              "      <td>24</td>\n",
              "      <td>21.22.02</td>\n",
              "      <td>[none]</td>\n",
              "      <td>1067147</td>\n",
              "      <td>60111</td>\n",
              "      <td>1221</td>\n",
              "      <td>6866</td>\n",
              "      <td>https://i.ytimg.com/vi/IhO1FcjDMV4/default.jpg</td>\n",
              "      <td>False</td>\n",
              "      <td>False</td>\n",
              "      <td>The pandemic has thrown into high relief some ...</td>\n",
              "    </tr>\n",
              "    <tr>\n",
              "      <th>1</th>\n",
              "      <td>1</td>\n",
              "      <td>p4Wy84AOzj0</td>\n",
              "      <td>Best 3D Pen Art Wins $5,000 Challenge! | ZHC C...</td>\n",
              "      <td>2021-02-21T20:43:28Z</td>\n",
              "      <td>UCPAk4rqVIwg1NCXh61VJxbg</td>\n",
              "      <td>ZHC Crafts</td>\n",
              "      <td>26</td>\n",
              "      <td>21.22.02</td>\n",
              "      <td>[none]</td>\n",
              "      <td>1047854</td>\n",
              "      <td>50662</td>\n",
              "      <td>690</td>\n",
              "      <td>4879</td>\n",
              "      <td>https://i.ytimg.com/vi/p4Wy84AOzj0/default.jpg</td>\n",
              "      <td>False</td>\n",
              "      <td>False</td>\n",
              "      <td>I can't believe we made art using 3d pens and ...</td>\n",
              "    </tr>\n",
              "    <tr>\n",
              "      <th>2</th>\n",
              "      <td>2</td>\n",
              "      <td>4eKXwKDdXYA</td>\n",
              "      <td>100 Days - [Minecraft Superflat]</td>\n",
              "      <td>2021-02-20T18:00:01Z</td>\n",
              "      <td>UC9FkeEFIGd9FXRfxpTltXYA</td>\n",
              "      <td>Luke TheNotable</td>\n",
              "      <td>20</td>\n",
              "      <td>21.22.02</td>\n",
              "      <td>luke thenotable|luke|the|notable|luke thenotab...</td>\n",
              "      <td>6133266</td>\n",
              "      <td>372753</td>\n",
              "      <td>7961</td>\n",
              "      <td>39551</td>\n",
              "      <td>https://i.ytimg.com/vi/4eKXwKDdXYA/default.jpg</td>\n",
              "      <td>False</td>\n",
              "      <td>False</td>\n",
              "      <td>This video is intended for audiences 13+ years...</td>\n",
              "    </tr>\n",
              "    <tr>\n",
              "      <th>3</th>\n",
              "      <td>3</td>\n",
              "      <td>XHR5mt2gBjo</td>\n",
              "      <td>Amazing! Luke Bryan Calls 15-Year-Old Casey Bi...</td>\n",
              "      <td>2021-02-22T01:53:12Z</td>\n",
              "      <td>UCAMPco9PqjBbI_MLsDOO4Jw</td>\n",
              "      <td>American Idol</td>\n",
              "      <td>24</td>\n",
              "      <td>21.22.02</td>\n",
              "      <td>American Idol|singing competition|Katy Perry|R...</td>\n",
              "      <td>790238</td>\n",
              "      <td>14267</td>\n",
              "      <td>129</td>\n",
              "      <td>1257</td>\n",
              "      <td>https://i.ytimg.com/vi/XHR5mt2gBjo/default.jpg</td>\n",
              "      <td>False</td>\n",
              "      <td>False</td>\n",
              "      <td>Small but MIGHTY! Casey Bishop completely blow...</td>\n",
              "    </tr>\n",
              "    <tr>\n",
              "      <th>4</th>\n",
              "      <td>4</td>\n",
              "      <td>C-icyHEb7W4</td>\n",
              "      <td>Game Theory: Did Reddit Just SOLVE FNAF?</td>\n",
              "      <td>2021-02-20T19:05:26Z</td>\n",
              "      <td>UCo_IB5145EVNcf8hw1Kku7w</td>\n",
              "      <td>The Game Theorists</td>\n",
              "      <td>20</td>\n",
              "      <td>21.22.02</td>\n",
              "      <td>fnaf|five nights at freddy's|fnaf 4|fnaf theor...</td>\n",
              "      <td>3248661</td>\n",
              "      <td>225780</td>\n",
              "      <td>2872</td>\n",
              "      <td>31885</td>\n",
              "      <td>https://i.ytimg.com/vi/C-icyHEb7W4/default.jpg</td>\n",
              "      <td>False</td>\n",
              "      <td>False</td>\n",
              "      <td>Get Yourself Some BRAND NEW Theory Wear! ► htt...</td>\n",
              "    </tr>\n",
              "  </tbody>\n",
              "</table>\n",
              "</div>"
            ],
            "text/plain": [
              "   Unnamed: 0  ...                                        description\n",
              "0           0  ...  The pandemic has thrown into high relief some ...\n",
              "1           1  ...  I can't believe we made art using 3d pens and ...\n",
              "2           2  ...  This video is intended for audiences 13+ years...\n",
              "3           3  ...  Small but MIGHTY! Casey Bishop completely blow...\n",
              "4           4  ...  Get Yourself Some BRAND NEW Theory Wear! ► htt...\n",
              "\n",
              "[5 rows x 17 columns]"
            ]
          },
          "metadata": {
            "tags": []
          },
          "execution_count": 9
        }
      ]
    },
    {
      "cell_type": "code",
      "metadata": {
        "colab": {
          "base_uri": "https://localhost:8080/"
        },
        "id": "YxgdmPdRWNHd",
        "outputId": "d8ede531-da19-4916-f750-a175658332f9"
      },
      "source": [
        "df.show()"
      ],
      "execution_count": 10,
      "outputs": [
        {
          "output_type": "stream",
          "text": [
            "+--------------------+-----------+--------------------+--------------------+--------------------+--------------------+----------+-------------+--------------------+----------+------+--------+-------------+--------------------+-----------------+----------------+--------------------+\n",
            "|                 _c0|   video_id|               title|         publishedAt|           channelId|        channelTitle|categoryId|trending_date|                tags|view_count| likes|dislikes|comment_count|      thumbnail_link|comments_disabled|ratings_disabled|         description|\n",
            "+--------------------+-----------+--------------------+--------------------+--------------------+--------------------+----------+-------------+--------------------+----------+------+--------+-------------+--------------------+-----------------+----------------+--------------------+\n",
            "|                   0|IhO1FcjDMV4|Meatpacking: Last...|2021-02-22T07:30:01Z|UC3XTzVzaHQEd30rQ...|     LastWeekTonight|        24|     21.22.02|              [none]|   1067147| 60111|    1221|         6866|https://i.ytimg.c...|            False|           False|The pandemic has ...|\n",
            "|                   1|p4Wy84AOzj0|Best 3D Pen Art W...|2021-02-21T20:43:28Z|UCPAk4rqVIwg1NCXh...|          ZHC Crafts|        26|     21.22.02|              [none]|   1047854| 50662|     690|         4879|https://i.ytimg.c...|            False|           False|I can't believe w...|\n",
            "|                   2|4eKXwKDdXYA|100 Days - [Minec...|2021-02-20T18:00:01Z|UC9FkeEFIGd9FXRfx...|     Luke TheNotable|        20|     21.22.02|luke thenotable|l...|   6133266|372753|    7961|        39551|https://i.ytimg.c...|            False|           False|This video is int...|\n",
            "|                   3|XHR5mt2gBjo|Amazing! Luke Bry...|2021-02-22T01:53:12Z|UCAMPco9PqjBbI_ML...|       American Idol|        24|     21.22.02|American Idol|sin...|    790238| 14267|     129|         1257|https://i.ytimg.c...|            False|           False|Small but MIGHTY!...|\n",
            "|                   4|C-icyHEb7W4|Game Theory: Did ...|2021-02-20T19:05:26Z|UCo_IB5145EVNcf8h...|  The Game Theorists|        20|     21.22.02|fnaf|five nights ...|   3248661|225780|    2872|        31885|https://i.ytimg.c...|            False|           False|Get Yourself Some...|\n",
            "|                   5|gzHFj2DBFe4|Deion Sanders win...|2021-02-21T23:24:44Z|UCzRWWsFjqHk1an4O...|ESPN College Foot...|        17|     21.22.02|deion sanders|dei...|    297852|  6007|      73|          993|https://i.ytimg.c...|            False|           False|Watch highlights ...|\n",
            "|                   6|8hx9vBHgkrg|Broner vs Santiag...|2021-02-21T06:00:12Z|UCWXYAGB9SadlL6p5...|Premier Boxing Ch...|        17|     21.22.02|Boxing|Combat|PBC...|    820431|  5233|     712|         1743|https://i.ytimg.c...|            False|           False|Adrien Broner bat...|\n",
            "|SIGN UP FOR FIGHT...|       null|                null|                null|                null|                null|      null|         null|                null|      null|  null|    null|         null|                null|             null|            null|                null|\n",
            "|https://pbcham.ps...|       null|                null|                null|                null|                null|      null|         null|                null|      null|  null|    null|         null|                null|             null|            null|                null|\n",
            "|          FOLLOW US:|       null|                null|                null|                null|                null|      null|         null|                null|      null|  null|    null|         null|                null|             null|            null|                null|\n",
            "|https://twitter.c...|       null|                null|                null|                null|                null|      null|         null|                null|      null|  null|    null|         null|                null|             null|            null|                null|\n",
            "|https://instagram...|       null|                null|                null|                null|                null|      null|         null|                null|      null|  null|    null|         null|                null|             null|            null|                null|\n",
            "|https://www.faceb...|       null|                null|                null|                null|                null|      null|         null|                null|      null|  null|    null|         null|                null|             null|            null|                null|\n",
            "|                   7|g3Ud6mHdhlQ|How Do Nuclear Su...|2021-02-21T14:00:10Z|UC6107grRI4m0o2-e...|     SmarterEveryDay|        28|     21.22.02|Smarter|Every|Day...|    960432| 57637|     554|         4068|https://i.ytimg.c...|            False|           False|Go to https://buy...|\n",
            "|                   8|xJO1SZmAghE|Rainbow Six Siege...|2021-02-21T19:59:40Z|UCBMvc6jvuTxH6TNo...|Ubisoft North Ame...|        20|     21.22.02|Flores|New Siege ...|    294287| 13574|     309|         1584|https://i.ytimg.c...|            False|           False|A new Attacker na...|\n",
            "|                   9|q5Wler87pwY|UNITED 328 Engine...|2021-02-21T23:04:04Z|UC88tlMjiS7kf8uhP...|         Captain Joe|        28|     21.22.02|United 328|engine...|    396864| 26385|     186|         2305|https://i.ytimg.c...|            False|           False|GET YOUR CJ KEYRI...|\n",
            "|                  10|PYLqcf6SelQ|WHO IS THE BEST C...|2021-02-21T06:11:13Z|UCPpATKqmMV-CNRNW...|        Alexa Rivera|        26|     21.22.02|              [none]|   2768920|183604|    2567|        12930|https://i.ytimg.c...|            False|           False|This was so crazy...|\n",
            "|                  11|uCdoMBzrtns|     my valentine :)|2021-02-21T21:00:09Z|UCCpeNlYK_xG594eJ...|        Clayton Bush|        22|     21.22.02|              [none]|    123607| 12156|      55|          571|https://i.ytimg.c...|            False|           False|Our instagrams: M...|\n",
            "|                  12|vMcB2TcqD-A|Cards Against Hum...|2021-02-21T20:29:11Z|UCHUE4ypXKp7ZkmdW...|         AmazingPhil|        22|     21.22.02|dan and phil|dan ...|    511276|110828|     114|        10326|https://i.ytimg.c...|            False|           False|We play an offens...|\n",
            "|                  13|uFSNZeWW91o|JAY GOT A CRUSH O...|2021-02-20T23:08:16Z|UC3xWCpnWd8l7Haiq...|           FunnyMike|        24|     21.22.02|funnymike|funny m...|    899525| 74078|     866|         4095|https://i.ytimg.c...|            False|           False|JAY GOT A CRUSH O...|\n",
            "+--------------------+-----------+--------------------+--------------------+--------------------+--------------------+----------+-------------+--------------------+----------+------+--------+-------------+--------------------+-----------------+----------------+--------------------+\n",
            "only showing top 20 rows\n",
            "\n"
          ],
          "name": "stdout"
        }
      ]
    },
    {
      "cell_type": "markdown",
      "metadata": {
        "id": "nYgJcwKVEUQq"
      },
      "source": [
        "Lets filter out the columns that we think would be the most important both in terms of understanding the problem at hand and also making predictions.\n",
        "\n",
        "In addition change the data type to the desired type \n",
        "view counts, like, dislike, comment count, cateforyID as INT\n",
        "published and trending as dates"
      ]
    },
    {
      "cell_type": "code",
      "metadata": {
        "id": "Ty0JEtM5VNpf"
      },
      "source": [
        "\"\"\"\n",
        "Here we are converting the columns to desired data type\n",
        "\"\"\"\n",
        "\n",
        "df=df.withColumn(\"view_count\", df[\"view_count\"].cast(\"int\"))\\\n",
        ".withColumn(\"likes\", df[\"likes\"].cast(\"int\"))\\\n",
        ".withColumn(\"dislikes\", df[\"dislikes\"].cast(\"int\"))\\\n",
        ".withColumn(\"comment_count\", df[\"comment_count\"].cast(\"int\"))\\\n",
        ".withColumn(\"trending_date\", to_timestamp(df[\"trending_date\"], \"yy.dd.MM\"))\\\n",
        ".withColumn(\"time_published\", to_timestamp(df[\"publishedAt\"], \"yyyy-MM-dd\"))\\\n",
        ".withColumn(\"categoryId\", df[\"categoryId\"].cast('int'))\\\n",
        ".select('view_count','title','tags','channelTitle','categoryId','likes','dislikes','comment_count')\n"
      ],
      "execution_count": 12,
      "outputs": []
    },
    {
      "cell_type": "code",
      "metadata": {
        "id": "VmDOHaEbR6dy"
      },
      "source": [
        "Regression_data=df"
      ],
      "execution_count": 13,
      "outputs": []
    },
    {
      "cell_type": "code",
      "metadata": {
        "colab": {
          "base_uri": "https://localhost:8080/"
        },
        "id": "Xi5Q-BOAdi2T",
        "outputId": "3bca0c89-10dc-49ad-dac6-411f5e026a71"
      },
      "source": [
        "Regression_data.show()"
      ],
      "execution_count": 14,
      "outputs": [
        {
          "output_type": "stream",
          "text": [
            "+----------+--------------------+--------------------+--------------------+----------+------+--------+-------------+\n",
            "|view_count|               title|                tags|        channelTitle|categoryId| likes|dislikes|comment_count|\n",
            "+----------+--------------------+--------------------+--------------------+----------+------+--------+-------------+\n",
            "|   1067147|Meatpacking: Last...|              [none]|     LastWeekTonight|        24| 60111|    1221|         6866|\n",
            "|   1047854|Best 3D Pen Art W...|              [none]|          ZHC Crafts|        26| 50662|     690|         4879|\n",
            "|   6133266|100 Days - [Minec...|luke thenotable|l...|     Luke TheNotable|        20|372753|    7961|        39551|\n",
            "|    790238|Amazing! Luke Bry...|American Idol|sin...|       American Idol|        24| 14267|     129|         1257|\n",
            "|   3248661|Game Theory: Did ...|fnaf|five nights ...|  The Game Theorists|        20|225780|    2872|        31885|\n",
            "|    297852|Deion Sanders win...|deion sanders|dei...|ESPN College Foot...|        17|  6007|      73|          993|\n",
            "|    820431|Broner vs Santiag...|Boxing|Combat|PBC...|Premier Boxing Ch...|        17|  5233|     712|         1743|\n",
            "|      null|                null|                null|                null|      null|  null|    null|         null|\n",
            "|      null|                null|                null|                null|      null|  null|    null|         null|\n",
            "|      null|                null|                null|                null|      null|  null|    null|         null|\n",
            "|      null|                null|                null|                null|      null|  null|    null|         null|\n",
            "|      null|                null|                null|                null|      null|  null|    null|         null|\n",
            "|      null|                null|                null|                null|      null|  null|    null|         null|\n",
            "|    960432|How Do Nuclear Su...|Smarter|Every|Day...|     SmarterEveryDay|        28| 57637|     554|         4068|\n",
            "|    294287|Rainbow Six Siege...|Flores|New Siege ...|Ubisoft North Ame...|        20| 13574|     309|         1584|\n",
            "|    396864|UNITED 328 Engine...|United 328|engine...|         Captain Joe|        28| 26385|     186|         2305|\n",
            "|   2768920|WHO IS THE BEST C...|              [none]|        Alexa Rivera|        26|183604|    2567|        12930|\n",
            "|    123607|     my valentine :)|              [none]|        Clayton Bush|        22| 12156|      55|          571|\n",
            "|    511276|Cards Against Hum...|dan and phil|dan ...|         AmazingPhil|        22|110828|     114|        10326|\n",
            "|    899525|JAY GOT A CRUSH O...|funnymike|funny m...|           FunnyMike|        24| 74078|     866|         4095|\n",
            "+----------+--------------------+--------------------+--------------------+----------+------+--------+-------------+\n",
            "only showing top 20 rows\n",
            "\n"
          ],
          "name": "stdout"
        }
      ]
    },
    {
      "cell_type": "markdown",
      "metadata": {
        "id": "CMJ8xBaWGgXP"
      },
      "source": [
        "let's see the count against every category ID\n",
        "\n",
        "Therefore, we group it by category ID and the sum all views across the df\n",
        "\n",
        "The we will do the same for every channel title i.e. grouping on channel title in order to see the number of views"
      ]
    },
    {
      "cell_type": "code",
      "metadata": {
        "id": "4zxOGJpG8CfX"
      },
      "source": [
        "df_category=df.groupBy('categoryId').sum().select('categoryId','sum(view_count)')"
      ],
      "execution_count": 15,
      "outputs": []
    },
    {
      "cell_type": "code",
      "metadata": {
        "colab": {
          "base_uri": "https://localhost:8080/"
        },
        "id": "KdE4yBZ5q-9k",
        "outputId": "359d96da-eb3f-44b8-817c-7af0eda88615"
      },
      "source": [
        "df_1=df.groupBy('channelTitle').sum()\n",
        "df_1.orderBy(df_1['sum(view_count)'].desc()).limit(10).show()"
      ],
      "execution_count": 16,
      "outputs": [
        {
          "output_type": "stream",
          "text": [
            "+----------------+---------------+---------------+----------+-------------+------------------+\n",
            "|    channelTitle|sum(view_count)|sum(categoryId)|sum(likes)|sum(dislikes)|sum(comment_count)|\n",
            "+----------------+---------------+---------------+----------+-------------+------------------+\n",
            "|       BLACKPINK|      980149319|            390|  91593351|      1000541|          13620062|\n",
            "|         MrBeast|      508233148|            480|  30808435|       301393|           1841741|\n",
            "|            NASA|      251983185|            644|   6503560|       127019|            181139|\n",
            "|  MrBeast Shorts|      239524743|            638|  14929481|       237397|            694824|\n",
            "|JustinBieberVEVO|      203196414|            180|  14238196|       281495|            991264|\n",
            "|      Bruno Mars|      199578766|            300|  10524777|        82342|            629219|\n",
            "|           Dream|      195730673|            200|  13577320|       236611|            998831|\n",
            "|       LazarBeam|      191755192|            600|   9977007|       111320|            958843|\n",
            "|    Dude Perfect|      185687849|            306|   7365636|       114392|            413578|\n",
            "|     dojacatVEVO|      185534801|            150|  12905517|       186928|            699805|\n",
            "+----------------+---------------+---------------+----------+-------------+------------------+\n",
            "\n"
          ],
          "name": "stdout"
        }
      ]
    },
    {
      "cell_type": "markdown",
      "metadata": {
        "id": "C_2FcJpuITDo"
      },
      "source": [
        "Views per channel ID\n",
        "\n",
        "BLACKPINK is the most trending channel followed by MrBeast in terms of number of views in the US"
      ]
    },
    {
      "cell_type": "code",
      "metadata": {
        "colab": {
          "base_uri": "https://localhost:8080/",
          "height": 385
        },
        "id": "RafbLF3_o72k",
        "outputId": "9eb43bf6-0638-45b3-8e9b-f30c464c2f15"
      },
      "source": [
        "# Plotting total views per channel ID\n",
        "\n",
        "plt.clf()\n",
        "df_1.orderBy(df_1['sum(view_count)'].desc()).limit(10).toPandas().plot(x='channelTitle',y='sum(view_count)',kind='bar')\n",
        "display()\n",
        "\n",
        "\n"
      ],
      "execution_count": 17,
      "outputs": [
        {
          "output_type": "display_data",
          "data": {
            "text/plain": [
              "<Figure size 432x288 with 0 Axes>"
            ]
          },
          "metadata": {
            "tags": []
          }
        },
        {
          "output_type": "display_data",
          "data": {
            "image/png": "[encoded data removed]",
            "text/plain": [
              "<Figure size 432x288 with 1 Axes>"
            ]
          },
          "metadata": {
            "tags": [],
            "needs_background": "light"
          }
        }
      ]
    },
    {
      "cell_type": "markdown",
      "metadata": {
        "id": "mJel42b5LiEK"
      },
      "source": [
        "# ***Brazil***\n",
        "\n",
        "Lets repeat the same process for Brazil \n",
        "\n",
        "The aim is to see the total views against a channel.\n",
        "\n",
        "The details written for the above view count for US will be followed exactly in order to get the view count for Brazil by channel title."
      ]
    },
    {
      "cell_type": "markdown",
      "metadata": {
        "id": "0DLfV6MNJwic"
      },
      "source": [
        "Checking the data: columns"
      ]
    },
    {
      "cell_type": "code",
      "metadata": {
        "colab": {
          "base_uri": "https://localhost:8080/",
          "height": 443
        },
        "id": "N5MUUNfnTJAF",
        "outputId": "9f912f48-f41e-4cb7-92c6-d3bd5f94871d"
      },
      "source": [
        "video_data_BR.head()"
      ],
      "execution_count": null,
      "outputs": [
        {
          "output_type": "execute_result",
          "data": {
            "text/html": [
              "<div>\n",
              "<style scoped>\n",
              "    .dataframe tbody tr th:only-of-type {\n",
              "        vertical-align: middle;\n",
              "    }\n",
              "\n",
              "    .dataframe tbody tr th {\n",
              "        vertical-align: top;\n",
              "    }\n",
              "\n",
              "    .dataframe thead th {\n",
              "        text-align: right;\n",
              "    }\n",
              "</style>\n",
              "<table border=\"1\" class=\"dataframe\">\n",
              "  <thead>\n",
              "    <tr style=\"text-align: right;\">\n",
              "      <th></th>\n",
              "      <th>Unnamed: 0</th>\n",
              "      <th>video_id</th>\n",
              "      <th>title</th>\n",
              "      <th>publishedAt</th>\n",
              "      <th>channelId</th>\n",
              "      <th>channelTitle</th>\n",
              "      <th>categoryId</th>\n",
              "      <th>trending_date</th>\n",
              "      <th>tags</th>\n",
              "      <th>view_count</th>\n",
              "      <th>likes</th>\n",
              "      <th>dislikes</th>\n",
              "      <th>comment_count</th>\n",
              "      <th>thumbnail_link</th>\n",
              "      <th>comments_disabled</th>\n",
              "      <th>ratings_disabled</th>\n",
              "      <th>description</th>\n",
              "    </tr>\n",
              "  </thead>\n",
              "  <tbody>\n",
              "    <tr>\n",
              "      <th>0</th>\n",
              "      <td>0</td>\n",
              "      <td>cSxfqLr27mA</td>\n",
              "      <td>LIVE NOSSA HISTÓRIA</td>\n",
              "      <td>2021-02-22T00:55:43Z</td>\n",
              "      <td>UCmRkuNc6evsLa3JKX2IVHvg</td>\n",
              "      <td>Taty Girl</td>\n",
              "      <td>10</td>\n",
              "      <td>21.22.02</td>\n",
              "      <td>Taty Girl|Gospel|Live Gospel|Taty|Nathalia Lea...</td>\n",
              "      <td>508325</td>\n",
              "      <td>29158</td>\n",
              "      <td>518</td>\n",
              "      <td>654</td>\n",
              "      <td>https://i.ytimg.com/vi/cSxfqLr27mA/default.jpg</td>\n",
              "      <td>False</td>\n",
              "      <td>False</td>\n",
              "      <td>Preparem-se para a MAIOR Live de Forró da Hist...</td>\n",
              "    </tr>\n",
              "    <tr>\n",
              "      <th>1</th>\n",
              "      <td>1</td>\n",
              "      <td>2ssmXORmr90</td>\n",
              "      <td>JÁ TESTEI O NOVO PERSONAGEM MAIS APELÃO DO 4V4...</td>\n",
              "      <td>2021-02-21T20:00:00Z</td>\n",
              "      <td>UC4IMfO_--bwBaNgWeoLxAgg</td>\n",
              "      <td>PlayHard</td>\n",
              "      <td>20</td>\n",
              "      <td>21.22.02</td>\n",
              "      <td>Free Fire|PlayHard|LOUD|Play|Hard|lançamento|n...</td>\n",
              "      <td>631324</td>\n",
              "      <td>92319</td>\n",
              "      <td>961</td>\n",
              "      <td>3009</td>\n",
              "      <td>https://i.ytimg.com/vi/2ssmXORmr90/default.jpg</td>\n",
              "      <td>False</td>\n",
              "      <td>False</td>\n",
              "      <td>Baixe grátis aqui: https://go.onelink.me/32696...</td>\n",
              "    </tr>\n",
              "    <tr>\n",
              "      <th>2</th>\n",
              "      <td>2</td>\n",
              "      <td>dRs_JkkjTCU</td>\n",
              "      <td>TOUR PELO MEU APARTAMENTO!</td>\n",
              "      <td>2021-02-21T22:18:07Z</td>\n",
              "      <td>UCRKMoImiahCNu833HVQVhBA</td>\n",
              "      <td>Luiza Parente</td>\n",
              "      <td>23</td>\n",
              "      <td>21.22.02</td>\n",
              "      <td>[none]</td>\n",
              "      <td>423886</td>\n",
              "      <td>81366</td>\n",
              "      <td>407</td>\n",
              "      <td>2395</td>\n",
              "      <td>https://i.ytimg.com/vi/dRs_JkkjTCU/default.jpg</td>\n",
              "      <td>False</td>\n",
              "      <td>False</td>\n",
              "      <td>INSTA: @luizaparenteTIKTOK: @luizaparenteE-MAI...</td>\n",
              "    </tr>\n",
              "    <tr>\n",
              "      <th>3</th>\n",
              "      <td>3</td>\n",
              "      <td>JTSdcVPyt5A</td>\n",
              "      <td>LBFF 4 - Rodada 10 - Grupos B e A | Free Fire</td>\n",
              "      <td>2021-02-21T19:53:45Z</td>\n",
              "      <td>UCr4ARxgElIO21GWfIraZezg</td>\n",
              "      <td>Free Fire - Brasil</td>\n",
              "      <td>22</td>\n",
              "      <td>21.22.02</td>\n",
              "      <td>garena|free|fire|free fire|diamante royale|pro...</td>\n",
              "      <td>2390949</td>\n",
              "      <td>227436</td>\n",
              "      <td>1241</td>\n",
              "      <td>1583</td>\n",
              "      <td>https://i.ytimg.com/vi/JTSdcVPyt5A/default.jpg</td>\n",
              "      <td>False</td>\n",
              "      <td>False</td>\n",
              "      <td>Os grupos B e A se enfrentaram pela Rodada 10 ...</td>\n",
              "    </tr>\n",
              "    <tr>\n",
              "      <th>4</th>\n",
              "      <td>4</td>\n",
              "      <td>nEe-9ghoPjo</td>\n",
              "      <td>Coletiva de imprensa | Flamengo 2 x 1 Internac...</td>\n",
              "      <td>2021-02-21T22:12:18Z</td>\n",
              "      <td>UCOa-WaNwQaoyFHLCDk7qKIw</td>\n",
              "      <td>FLA TV</td>\n",
              "      <td>17</td>\n",
              "      <td>21.22.02</td>\n",
              "      <td>Clube de Regatas do Flamengo|Flamengo|Mengão|M...</td>\n",
              "      <td>273428</td>\n",
              "      <td>27715</td>\n",
              "      <td>210</td>\n",
              "      <td>557</td>\n",
              "      <td>https://i.ytimg.com/vi/nEe-9ghoPjo/default.jpg</td>\n",
              "      <td>False</td>\n",
              "      <td>False</td>\n",
              "      <td>Inscreva-se na #FlaTV. Vídeos todos os dias!Su...</td>\n",
              "    </tr>\n",
              "  </tbody>\n",
              "</table>\n",
              "</div>"
            ],
            "text/plain": [
              "   Unnamed: 0  ...                                        description\n",
              "0           0  ...  Preparem-se para a MAIOR Live de Forró da Hist...\n",
              "1           1  ...  Baixe grátis aqui: https://go.onelink.me/32696...\n",
              "2           2  ...  INSTA: @luizaparenteTIKTOK: @luizaparenteE-MAI...\n",
              "3           3  ...  Os grupos B e A se enfrentaram pela Rodada 10 ...\n",
              "4           4  ...  Inscreva-se na #FlaTV. Vídeos todos os dias!Su...\n",
              "\n",
              "[5 rows x 17 columns]"
            ]
          },
          "metadata": {
            "tags": []
          },
          "execution_count": 76
        }
      ]
    },
    {
      "cell_type": "code",
      "metadata": {
        "colab": {
          "base_uri": "https://localhost:8080/"
        },
        "id": "cmDaU1FDalbC",
        "outputId": "52dff15e-93df-445e-b272-a3f1f03dda82"
      },
      "source": [
        "df_BR.show()"
      ],
      "execution_count": null,
      "outputs": [
        {
          "output_type": "stream",
          "text": [
            "+---+-----------+-----------------------+--------------------+--------------------+--------------------+----------+-------------+--------------------+----------+------+--------+-------------+--------------------+-----------------+----------------+--------------------+\n",
            "|_c0|   video_id|                  title|         publishedAt|           channelId|        channelTitle|categoryId|trending_date|                tags|view_count| likes|dislikes|comment_count|      thumbnail_link|comments_disabled|ratings_disabled|         description|\n",
            "+---+-----------+-----------------------+--------------------+--------------------+--------------------+----------+-------------+--------------------+----------+------+--------+-------------+--------------------+-----------------+----------------+--------------------+\n",
            "|  0|cSxfqLr27mA|    LIVE NOSSA HISTÓRIA|2021-02-22T00:55:43Z|UCmRkuNc6evsLa3JK...|           Taty Girl|        10|     21.22.02|Taty Girl|Gospel|...|    508325| 29158|     518|          654|https://i.ytimg.c...|            False|           False|Preparem-se para ...|\n",
            "|  1|2ssmXORmr90|   JÁ TESTEI O NOVO ...|2021-02-21T20:00:00Z|UC4IMfO_--bwBaNgW...|            PlayHard|        20|     21.22.02|Free Fire|PlayHar...|    631324| 92319|     961|         3009|https://i.ytimg.c...|            False|           False|Baixe grátis aqui...|\n",
            "|  2|dRs_JkkjTCU|   TOUR PELO MEU APA...|2021-02-21T22:18:07Z|UCRKMoImiahCNu833...|       Luiza Parente|        23|     21.22.02|              [none]|    423886| 81366|     407|         2395|https://i.ytimg.c...|            False|           False|INSTA: @luizapare...|\n",
            "|  3|JTSdcVPyt5A|   LBFF 4 - Rodada 1...|2021-02-21T19:53:45Z|UCr4ARxgElIO21GWf...|  Free Fire - Brasil|        22|     21.22.02|garena|free|fire|...|   2390949|227436|    1241|         1583|https://i.ytimg.c...|            False|           False|Os grupos B e A s...|\n",
            "|  4|nEe-9ghoPjo|   Coletiva de impre...|2021-02-21T22:12:18Z|UCOa-WaNwQaoyFHLC...|              FLA TV|        17|     21.22.02|Clube de Regatas ...|    273428| 27715|     210|          557|https://i.ytimg.c...|            False|           False|Inscreva-se na #F...|\n",
            "|  5|Slea73t0DEU|   Flamengo a uma vi...|2021-02-21T23:53:41Z|UCRcRAyb5Y4x3HVNK...|         Mauro Cezar|        24|     21.22.02|              [none]|    255391| 52511|     798|         1013|https://i.ytimg.c...|            False|           False|Baixe Grátis o On...|\n",
            "|  6|YyIc6iYNoTM|   MEUS AMIGOS ESQUE...|2021-02-22T01:00:04Z|UCOPS25AxMB9te9_-...|               PEIXE|        24|     21.22.02|      peixe|peixinho|    209356| 52791|     159|         7002|https://i.ytimg.c...|            False|           False|SE INSCREVA NO CA...|\n",
            "|  7|wtl5qhvzWEg|   FLAMENGO 2 X 1 IN...|2021-02-21T21:24:44Z|UCgCKagVhzGnZcuP9...|                  ge|        17|     21.22.02|esporte|esportes|...|    992769| 40136|    1085|         6062|https://i.ytimg.c...|            False|           False|Fla vence o Inter...|\n",
            "|  8|GC60u3RUEKY|   O DIA QUE EU ENTR...|2021-02-21T22:02:29Z|UCHp9wI3YOVu3auGc...|          LOUD CaioX|        20|     21.22.02|GROVE|LOUD|CAIOX|...|    181033| 48138|     123|         1973|https://i.ytimg.c...|            False|           False|Se você gostou de...|\n",
            "|  9|F04goD3W8C8|   OS PREPARATIVOS E...|2021-02-21T20:29:50Z|UCK1DhsDKnTiffbQX...|        Lore Improta|        24|     21.22.02|lore improta|lore...|    299044| 35202|     145|         1362|https://i.ytimg.c...|            False|           False|DISSEMOS SIM!!!! ...|\n",
            "| 10|E3lgVbJtcUw|   Live pós-Flamengo...|2021-02-21T22:52:08Z|UCPrYKS7TByOIwWvA...|    Arnaldo e Tironi|        24|     21.22.02|Flamengo x Intern...|    138875| 12832|     270|          475|https://i.ytimg.c...|            False|           False|Arnaldo Ribeiro e...|\n",
            "| 11|p6OoY6xneI0|SHINee 샤이니 'Don't...|2021-02-22T09:00:12Z|UCEf_Bc-KVd7onSei...|              SMTOWN|        10|     21.22.02|shinee|don't call...|   3205973|635581|    2437|        65664|https://i.ytimg.c...|            False|           False|SHINee's 7th albu...|\n",
            "| 12|d6G-jIyjFHk|   CBLOL 2021: 1ª Et...|2021-02-21T19:53:41Z|UC48rkTlXjRd6pnqq...|      LoL eSports BR|        20|     21.22.02|CBLOL 2021|CBLOL ...|    487815| 19329|     216|           52|https://i.ytimg.c...|            False|           False|CBLOL 2021: 1ª Et...|\n",
            "| 13|gTgtWhTHDEo|   MUDAMOS DE CIDADE...|2021-02-21T15:00:14Z|UCsaB2VrLZrtGbum6...|    Virgínia Fonseca|        22|     21.22.02|vih|virginia|fons...|    801218|113305|    1046|         3275|https://i.ytimg.c...|            False|           False|Oiii amigos, agor...|\n",
            "| 14|4iTtfudh0NA|   Denver Nuggets x ...|2021-02-22T03:27:04Z|UCsiCOcr5SZAWlJMf...|          NBA Brasil|        17|     21.22.02|nba|nba ao vivo|v...|    129332| 16754|      31|           22|https://i.ytimg.c...|            False|           False|Superestrelas em ...|\n",
            "| 15|oehWXwQPQ2w|   VAMOS MORAR JUNTO...|2021-02-20T22:06:26Z|UCRKMoImiahCNu833...|       Luiza Parente|        23|     21.22.02|              [none]|    793736|110013|    1061|         5271|https://i.ytimg.c...|            False|           False|INSTA: @luizapare...|\n",
            "| 16|jlqPUT4GWVA|   EM PROVA 2 - O ad...|2021-02-21T15:00:14Z|UCl5i1KWUAV7hdT5_...|           Viih Tube|        24|     21.22.02|              [none]|   1246303|139568|    1603|         5110|https://i.ytimg.c...|            False|           False|Pra entender, ass...|\n",
            "| 17|OZrk8urhu0s|   ELA É MINHA VIZIN...|2021-02-20T22:15:00Z|UCOPS25AxMB9te9_-...|               PEIXE|        24|     21.22.02|      peixe|peixinho|    449790| 76133|     459|         3388|https://i.ytimg.c...|            False|           False|SE INSCREVA NO CA...|\n",
            "| 18|57Oh8kH2TA0|   FREE FIRE - NFA L...|2021-02-22T00:07:20Z|UCIVnGR9XPef8boJW...|         NFA CHANNEL|        20|     21.22.02|liga nfa|nfa|liga...|    112479| 12159|     111|           16|https://i.ytimg.c...|            False|           False|Hoje é dia de NFA...|\n",
            "| 19|IUmnsnotMYQ|   Entrevistas Colet...|2021-02-21T22:05:31Z|UC7hAvFDWwVajRqrI...|Sport Club Intern...|        24|     21.22.02|              [none]|     66811|  3738|     522|         1348|https://i.ytimg.c...|            False|           False|-----------------...|\n",
            "+---+-----------+-----------------------+--------------------+--------------------+--------------------+----------+-------------+--------------------+----------+------+--------+-------------+--------------------+-----------------+----------------+--------------------+\n",
            "only showing top 20 rows\n",
            "\n"
          ],
          "name": "stdout"
        }
      ]
    },
    {
      "cell_type": "markdown",
      "metadata": {
        "id": "kFK6bd2yJ4MV"
      },
      "source": [
        "Checking the data types"
      ]
    },
    {
      "cell_type": "code",
      "metadata": {
        "colab": {
          "base_uri": "https://localhost:8080/"
        },
        "id": "1tqpJponaHeY",
        "outputId": "5fee3f0b-1f51-4311-9515-d951b2966ea9"
      },
      "source": [
        "df_BR.summary()"
      ],
      "execution_count": null,
      "outputs": [
        {
          "output_type": "execute_result",
          "data": {
            "text/plain": [
              "DataFrame[summary: string, _c0: string, video_id: string, title: string, publishedAt: string, channelId: string, channelTitle: string, categoryId: string, trending_date: string, tags: string, view_count: string, likes: string, dislikes: string, comment_count: string, thumbnail_link: string, comments_disabled: string, ratings_disabled: string, description: string]"
            ]
          },
          "metadata": {
            "tags": []
          },
          "execution_count": 52
        }
      ]
    },
    {
      "cell_type": "markdown",
      "metadata": {
        "id": "-liVTVE8J-Dh"
      },
      "source": [
        "Converting the data types into the desired data types and sub setting necessary columns as mentioned earlier"
      ]
    },
    {
      "cell_type": "code",
      "metadata": {
        "id": "tzM4GQjiR-hu"
      },
      "source": [
        "df_BR=df_BR.withColumn(\"view_count\", df_BR[\"view_count\"].cast(\"int\"))\\\n",
        ".withColumn(\"likes\", df_BR[\"likes\"].cast(\"int\"))\\\n",
        ".withColumn(\"dislikes\", df_BR[\"dislikes\"].cast(\"int\"))\\\n",
        ".withColumn(\"comment_count\", df_BR[\"comment_count\"].cast(\"int\"))\\\n",
        ".withColumn(\"trending_date\", to_timestamp(df_BR[\"trending_date\"], \"yy.dd.MM\"))\\\n",
        ".withColumn(\"time_published\", to_timestamp(df_BR[\"publishedAt\"], \"yyyy-MM-dd\"))\\\n",
        ".withColumn(\"categoryId\", df_BR[\"categoryId\"].cast('int'))\\\n",
        ".select('view_count','title','tags','channelTitle','categoryId','likes','dislikes','comment_count')\n"
      ],
      "execution_count": null,
      "outputs": []
    },
    {
      "cell_type": "code",
      "metadata": {
        "id": "hgyjtdrkR-hw"
      },
      "source": [
        "Regression_data_df_BR=df_BR"
      ],
      "execution_count": null,
      "outputs": []
    },
    {
      "cell_type": "code",
      "metadata": {
        "colab": {
          "base_uri": "https://localhost:8080/"
        },
        "id": "SCSBkUSUR-hw",
        "outputId": "1405439b-e9fb-49c8-b98c-1d6c16d0090a"
      },
      "source": [
        "Regression_data_df_BR.show()"
      ],
      "execution_count": null,
      "outputs": [
        {
          "output_type": "stream",
          "text": [
            "+----------+-----------------------+--------------------+--------------------+----------+------+--------+-------------+\n",
            "|view_count|                  title|                tags|        channelTitle|categoryId| likes|dislikes|comment_count|\n",
            "+----------+-----------------------+--------------------+--------------------+----------+------+--------+-------------+\n",
            "|    508325|    LIVE NOSSA HISTÓRIA|Taty Girl|Gospel|...|           Taty Girl|        10| 29158|     518|          654|\n",
            "|    631324|   JÁ TESTEI O NOVO ...|Free Fire|PlayHar...|            PlayHard|        20| 92319|     961|         3009|\n",
            "|    423886|   TOUR PELO MEU APA...|              [none]|       Luiza Parente|        23| 81366|     407|         2395|\n",
            "|   2390949|   LBFF 4 - Rodada 1...|garena|free|fire|...|  Free Fire - Brasil|        22|227436|    1241|         1583|\n",
            "|    273428|   Coletiva de impre...|Clube de Regatas ...|              FLA TV|        17| 27715|     210|          557|\n",
            "|    255391|   Flamengo a uma vi...|              [none]|         Mauro Cezar|        24| 52511|     798|         1013|\n",
            "|    209356|   MEUS AMIGOS ESQUE...|      peixe|peixinho|               PEIXE|        24| 52791|     159|         7002|\n",
            "|    992769|   FLAMENGO 2 X 1 IN...|esporte|esportes|...|                  ge|        17| 40136|    1085|         6062|\n",
            "|    181033|   O DIA QUE EU ENTR...|GROVE|LOUD|CAIOX|...|          LOUD CaioX|        20| 48138|     123|         1973|\n",
            "|    299044|   OS PREPARATIVOS E...|lore improta|lore...|        Lore Improta|        24| 35202|     145|         1362|\n",
            "|    138875|   Live pós-Flamengo...|Flamengo x Intern...|    Arnaldo e Tironi|        24| 12832|     270|          475|\n",
            "|   3205973|SHINee 샤이니 'Don't...|shinee|don't call...|              SMTOWN|        10|635581|    2437|        65664|\n",
            "|    487815|   CBLOL 2021: 1ª Et...|CBLOL 2021|CBLOL ...|      LoL eSports BR|        20| 19329|     216|           52|\n",
            "|    801218|   MUDAMOS DE CIDADE...|vih|virginia|fons...|    Virgínia Fonseca|        22|113305|    1046|         3275|\n",
            "|    129332|   Denver Nuggets x ...|nba|nba ao vivo|v...|          NBA Brasil|        17| 16754|      31|           22|\n",
            "|    793736|   VAMOS MORAR JUNTO...|              [none]|       Luiza Parente|        23|110013|    1061|         5271|\n",
            "|   1246303|   EM PROVA 2 - O ad...|              [none]|           Viih Tube|        24|139568|    1603|         5110|\n",
            "|    449790|   ELA É MINHA VIZIN...|      peixe|peixinho|               PEIXE|        24| 76133|     459|         3388|\n",
            "|    112479|   FREE FIRE - NFA L...|liga nfa|nfa|liga...|         NFA CHANNEL|        20| 12159|     111|           16|\n",
            "|     66811|   Entrevistas Colet...|              [none]|Sport Club Intern...|        24|  3738|     522|         1348|\n",
            "+----------+-----------------------+--------------------+--------------------+----------+------+--------+-------------+\n",
            "only showing top 20 rows\n",
            "\n"
          ],
          "name": "stdout"
        }
      ]
    },
    {
      "cell_type": "markdown",
      "metadata": {
        "id": "jXkLewy8KRNn"
      },
      "source": [
        "checking the necessary view counts by cateogry id and channel title\n"
      ]
    },
    {
      "cell_type": "code",
      "metadata": {
        "id": "NWO-Mk05R-hx"
      },
      "source": [
        "df_BR_category=df_BR.groupBy('categoryId').sum().select('categoryId','sum(view_count)')"
      ],
      "execution_count": null,
      "outputs": []
    },
    {
      "cell_type": "code",
      "metadata": {
        "colab": {
          "base_uri": "https://localhost:8080/"
        },
        "id": "sMBgQZcOR-hy",
        "outputId": "8cdbf984-bb8b-4036-8d5f-d10bcfc65b54"
      },
      "source": [
        "df_BR_1=df_BR.groupBy('channelTitle').sum()\n",
        "df_BR_1.orderBy(df_BR_1['sum(view_count)'].desc()).limit(10).show()"
      ],
      "execution_count": null,
      "outputs": [
        {
          "output_type": "stream",
          "text": [
            "+--------------------+---------------+---------------+----------+-------------+------------------+\n",
            "|        channelTitle|sum(view_count)|sum(categoryId)|sum(likes)|sum(dislikes)|sum(comment_count)|\n",
            "+--------------------+---------------+---------------+----------+-------------+------------------+\n",
            "|           BLACKPINK|      929403847|            340|  87992458|       941584|          12937958|\n",
            "|                NASA|      298664453|            672|   7644454|       149194|            232762|\n",
            "|              SMTOWN|      293396674|            230|  25689030|       208848|           3775261|\n",
            "|          Bruno Mars|      274809022|            190|  13307021|       110523|            747607|\n",
            "|    JustinBieberVEVO|      247419944|            210|  16730636|       334051|           1178008|\n",
            "|         Brawl Stars|      216728687|            200|  10030915|       102445|           1264003|\n",
            "|Gusttavo Lima Ofi...|      210143128|            350|   9275718|        88904|            138461|\n",
            "|         dojacatVEVO|      209768305|            170|  14557335|       213156|            787743|\n",
            "|           BANGTANTV|      191915151|            230|  43820051|       118176|           3872088|\n",
            "|             Léo Léo|      188211592|           1672|  10010740|       276343|             60272|\n",
            "+--------------------+---------------+---------------+----------+-------------+------------------+\n",
            "\n"
          ],
          "name": "stdout"
        }
      ]
    },
    {
      "cell_type": "markdown",
      "metadata": {
        "id": "IsUAo4SwKddU"
      },
      "source": [
        "Plotting a histogram to see the most trending channel in Brazil\n",
        "\n",
        "As you can see like America BLACKPINK is the most trending channel in Brazil"
      ]
    },
    {
      "cell_type": "code",
      "metadata": {
        "colab": {
          "base_uri": "https://localhost:8080/",
          "height": 404
        },
        "id": "wRlu2fP6R-hz",
        "outputId": "40d4b668-f7b4-456e-c05a-2134ce604133"
      },
      "source": [
        "plt.clf()\n",
        "df_BR_1.orderBy(df_BR_1['sum(view_count)'].desc()).limit(10).toPandas().plot(x='channelTitle',y='sum(view_count)',kind='bar')\n",
        "display()\n",
        "\n",
        "\n"
      ],
      "execution_count": null,
      "outputs": [
        {
          "output_type": "display_data",
          "data": {
            "text/plain": [
              "<Figure size 432x288 with 0 Axes>"
            ]
          },
          "metadata": {
            "tags": []
          }
        },
        {
          "output_type": "display_data",
          "data": {
            "image/png": "[encoded data removed]",
            "text/plain": [
              "<Figure size 432x288 with 1 Axes>"
            ]
          },
          "metadata": {
            "tags": [],
            "needs_background": "light"
          }
        }
      ]
    },
    {
      "cell_type": "markdown",
      "metadata": {
        "id": "-D4bFvLbc13N"
      },
      "source": [
        "## ***Japan***\n",
        "\n",
        "Let's look at the most trending channel in japan"
      ]
    },
    {
      "cell_type": "markdown",
      "metadata": {
        "id": "hQosrEcSKrSg"
      },
      "source": [
        "Connvert the data types and take a look at the data set\n",
        "\n",
        "Most of it is in Japenese so I wouldn't be able to make sense of what is written inside :P"
      ]
    },
    {
      "cell_type": "code",
      "metadata": {
        "id": "MrE5TLqrc4WL"
      },
      "source": [
        "df_JP=df_JP.withColumn(\"view_count\", df_JP[\"view_count\"].cast(\"int\"))\\\n",
        ".withColumn(\"likes\", df_JP[\"likes\"].cast(\"int\"))\\\n",
        ".withColumn(\"dislikes\", df_JP[\"dislikes\"].cast(\"int\"))\\\n",
        ".withColumn(\"comment_count\", df_JP[\"comment_count\"].cast(\"int\"))\\\n",
        ".withColumn(\"trending_date\", to_timestamp(df_JP[\"trending_date\"], \"yy.dd.MM\"))\\\n",
        ".withColumn(\"time_published\", to_timestamp(df_JP[\"publishedAt\"], \"yyyy-MM-dd\"))\\\n",
        ".withColumn(\"categoryId\", df_JP[\"categoryId\"].cast('int'))\\\n",
        ".select('view_count','title','tags','channelTitle','categoryId','likes','dislikes','comment_count')\n"
      ],
      "execution_count": null,
      "outputs": []
    },
    {
      "cell_type": "code",
      "metadata": {
        "id": "mqOqvGECc4WM"
      },
      "source": [
        "Regression_data_df_JP=df_JP"
      ],
      "execution_count": null,
      "outputs": []
    },
    {
      "cell_type": "code",
      "metadata": {
        "colab": {
          "base_uri": "https://localhost:8080/"
        },
        "id": "ozrlYDkjc4WM",
        "outputId": "2b6567e0-dd0d-4220-8635-7ff238ffce66"
      },
      "source": [
        "Regression_data_df_JP.show()"
      ],
      "execution_count": null,
      "outputs": [
        {
          "output_type": "stream",
          "text": [
            "+----------+-------------------------------------+------------------------------------+-------------------------------+----------+-----+--------+-------------+\n",
            "|view_count|                                title|                                tags|                   channelTitle|categoryId|likes|dislikes|comment_count|\n",
            "+----------+-------------------------------------+------------------------------------+-------------------------------+----------+-----+--------+-------------+\n",
            "|    381483|【新企画】宮迫さんと居酒屋堤下。本...| 宮迫さん|居酒屋堤下|コラボ|堤下食堂|                       堤下食堂|        26|12342|     823|         1209|\n",
            "|    148446| 【齊藤京子（日向坂４６）×日高屋】...|            きょんこ|味噌チゲ|日高家|           日高屋公式チャンネル|        24| 7797|     109|          736|\n",
            "|    821488|【アニメ遠井さん】やる気なさすぎな...| すとぷり|すとろべりーぷりんす|さ...|             すとぷりちゃんねる|        24|57909|     397|         3414|\n",
            "|    708094|【カメラ】はじめてのクッキー作り！...|   莉犬|莉犬くん|りけんくん|すとぷり|     莉犬くんのサブちゃんねる！|        23|68104|     313|         7466|\n",
            "|    534528|       シブヤ・ディビジョン“Fling ...| ヒプノシスマイク|ヒプマイ|ひぷま...|        Channelヒプノシスマイク|        22|41050|     201|         3891|\n",
            "|    373549|【教育】授業に出なくても留年なし？...|         ABEMANews|アベマニュース...|ABEMA報道リアリティーショー ...|        25| 3236|     214|         2257|\n",
            "|    260842|                             僕の戦争|                SHINSEI KAMATTE C...|           Shinsei kamattech...|        10|23916|      94|           44|\n",
            "|    570526|  駄菓子屋のお菓子を全て購入して40...|                        スカイピース|                   スカイピース|        22|21738|     616|         1502|\n",
            "|   1017512|【徳川家康】ジュキヤの誕生日にガチ...|                              [none]|            みきおだ【MIKIODA】|        23|31214|    1089|         2506|\n",
            "|   1202889|【アニメ】ステーキ？お寿司？夕飯で...| すとぷり|すとろべりーぷりんす|さ...|             すとぷりちゃんねる|        24|79450|     451|         8344|\n",
            "|    909588|【神回】みんなのバイトやらかし話が...|  丸山礼|芸人|まるやまれい|ものま...|               丸山礼チャンネル|        24|49792|     456|         4132|\n",
            "|   1464661|  【練習試合】田中将大 先発 楽天イ...| テレビ東京|テレ東|テレビ東京スポ...|             テレビ東京スポーツ|        17| 7352|     378|          232|\n",
            "|    149483|【カラオケバトル公式】堀優衣＆小豆...|                              [none]|   THEカラオケ★バトル（THE K...|        24| 2538|      71|          229|\n",
            "|    172053|  清宮が打った‼ 練習試合ハイライト...|吉田輝星|北海道日本ハムファイター...|                   GAORA SPORTS|        17|  744|      23|          311|\n",
            "|      null|                                 null|                                null|                           null|      null| null|    null|         null|\n",
            "|      null|                                 null|                                null|                           null|      null| null|    null|         null|\n",
            "|      null|                                 null|                                null|                           null|      null| null|    null|         null|\n",
            "|      null|                                 null|                                null|                           null|      null| null|    null|         null|\n",
            "|      null|                                 null|                                null|                           null|      null| null|    null|         null|\n",
            "|    242855|【大波乱】エビ集合体ボール投下...|  ハイサイ探偵団|沖縄|釣り|サバイ...|                 ハイサイ探偵団|        24| 4577|     227|          388|\n",
            "+----------+-------------------------------------+------------------------------------+-------------------------------+----------+-----+--------+-------------+\n",
            "only showing top 20 rows\n",
            "\n"
          ],
          "name": "stdout"
        }
      ]
    },
    {
      "cell_type": "markdown",
      "metadata": {
        "id": "48BgWDaQK-ke"
      },
      "source": [
        "Aggregate total number of views on the basis of channel title and category"
      ]
    },
    {
      "cell_type": "code",
      "metadata": {
        "id": "pAHdwGdLc4WN"
      },
      "source": [
        "df_JP_category=df_JP.groupBy('categoryId').sum().select('categoryId','sum(view_count)')"
      ],
      "execution_count": null,
      "outputs": []
    },
    {
      "cell_type": "code",
      "metadata": {
        "colab": {
          "base_uri": "https://localhost:8080/"
        },
        "id": "4Itox-tsc4WO",
        "outputId": "75a6dd33-8e73-47ba-dfde-96da4adaac36"
      },
      "source": [
        "df_JP_1=df_JP.groupBy('channelTitle').sum()\n",
        "df_JP_1.orderBy(df_JP_1['sum(view_count)'].desc()).limit(10).show()"
      ],
      "execution_count": null,
      "outputs": [
        {
          "output_type": "stream",
          "text": [
            "+----------------+---------------+---------------+----------+-------------+------------------+\n",
            "|    channelTitle|sum(view_count)|sum(categoryId)|sum(likes)|sum(dislikes)|sum(comment_count)|\n",
            "+----------------+---------------+---------------+----------+-------------+------------------+\n",
            "|       BLACKPINK|      938914542|            270|  83038240|       948482|          13143830|\n",
            "|      Bruno Mars|      184218556|             80|   9163209|        77485|            523360|\n",
            "|    東海オンエア|      180043060|           2070|   3808820|        63588|            378766|\n",
            "|          SMTOWN|      176168399|             90|  11077753|       117920|           1418929|\n",
            "|            NASA|      170547471|            308|   4242795|        81274|            165373|\n",
            "|JustinBieberVEVO|      165285061|            110|  11080648|       229075|            794920|\n",
            "|       Daft Punk|      165255269|             80|  10650441|       194102|           1260783|\n",
            "|     Brawl Stars|      163861531|            160|   7863642|        77018|           1000939|\n",
            "|        Dua Lipa|      147437209|             80|   7114524|       131060|            256729|\n",
            "|  THE FIRST TAKE|      137080802|            270|   5457638|        36524|            298091|\n",
            "+----------------+---------------+---------------+----------+-------------+------------------+\n",
            "\n"
          ],
          "name": "stdout"
        }
      ]
    },
    {
      "cell_type": "markdown",
      "metadata": {
        "id": "aNZg3D9ULQgN"
      },
      "source": [
        "Lets see the most trending channel\n",
        "\n",
        "As you can see like America blackpink is the most trending channel in japan"
      ]
    },
    {
      "cell_type": "code",
      "metadata": {
        "colab": {
          "base_uri": "https://localhost:8080/",
          "height": 800
        },
        "id": "DVQzS3E0c4WO",
        "outputId": "a4260eae-2f29-4fa0-afe3-cd4b5b43b2f5"
      },
      "source": [
        "plt.clf()\n",
        "df_JP_1.orderBy(df_JP_1['sum(view_count)'].desc()).limit(10).toPandas().plot(x='channelTitle',y='sum(view_count)',kind='bar')\n",
        "display()\n",
        "\n",
        "\n"
      ],
      "execution_count": null,
      "outputs": [
        {
          "output_type": "stream",
          "text": [
            "/usr/local/lib/python3.7/dist-packages/matplotlib/backends/backend_agg.py:214: RuntimeWarning: Glyph 26481 missing from current font.\n",
            "  font.set_text(s, 0.0, flags=flags)\n",
            "/usr/local/lib/python3.7/dist-packages/matplotlib/backends/backend_agg.py:214: RuntimeWarning: Glyph 28023 missing from current font.\n",
            "  font.set_text(s, 0.0, flags=flags)\n",
            "/usr/local/lib/python3.7/dist-packages/matplotlib/backends/backend_agg.py:214: RuntimeWarning: Glyph 12458 missing from current font.\n",
            "  font.set_text(s, 0.0, flags=flags)\n",
            "/usr/local/lib/python3.7/dist-packages/matplotlib/backends/backend_agg.py:214: RuntimeWarning: Glyph 12531 missing from current font.\n",
            "  font.set_text(s, 0.0, flags=flags)\n",
            "/usr/local/lib/python3.7/dist-packages/matplotlib/backends/backend_agg.py:214: RuntimeWarning: Glyph 12456 missing from current font.\n",
            "  font.set_text(s, 0.0, flags=flags)\n",
            "/usr/local/lib/python3.7/dist-packages/matplotlib/backends/backend_agg.py:214: RuntimeWarning: Glyph 12450 missing from current font.\n",
            "  font.set_text(s, 0.0, flags=flags)\n",
            "/usr/local/lib/python3.7/dist-packages/matplotlib/backends/backend_agg.py:183: RuntimeWarning: Glyph 26481 missing from current font.\n",
            "  font.set_text(s, 0, flags=flags)\n",
            "/usr/local/lib/python3.7/dist-packages/matplotlib/backends/backend_agg.py:183: RuntimeWarning: Glyph 28023 missing from current font.\n",
            "  font.set_text(s, 0, flags=flags)\n",
            "/usr/local/lib/python3.7/dist-packages/matplotlib/backends/backend_agg.py:183: RuntimeWarning: Glyph 12458 missing from current font.\n",
            "  font.set_text(s, 0, flags=flags)\n",
            "/usr/local/lib/python3.7/dist-packages/matplotlib/backends/backend_agg.py:183: RuntimeWarning: Glyph 12531 missing from current font.\n",
            "  font.set_text(s, 0, flags=flags)\n",
            "/usr/local/lib/python3.7/dist-packages/matplotlib/backends/backend_agg.py:183: RuntimeWarning: Glyph 12456 missing from current font.\n",
            "  font.set_text(s, 0, flags=flags)\n",
            "/usr/local/lib/python3.7/dist-packages/matplotlib/backends/backend_agg.py:183: RuntimeWarning: Glyph 12450 missing from current font.\n",
            "  font.set_text(s, 0, flags=flags)\n"
          ],
          "name": "stderr"
        },
        {
          "output_type": "display_data",
          "data": {
            "text/plain": [
              "<Figure size 432x288 with 0 Axes>"
            ]
          },
          "metadata": {
            "tags": []
          }
        },
        {
          "output_type": "display_data",
          "data": {
            "image/png": "[encoded data removed]",
            "text/plain": [
              "<Figure size 432x288 with 1 Axes>"
            ]
          },
          "metadata": {
            "tags": [],
            "needs_background": "light"
          }
        }
      ]
    },
    {
      "cell_type": "markdown",
      "metadata": {
        "id": "8Psqzk0Ad7TT"
      },
      "source": [
        "## ***India***\n",
        "\n",
        "lets repeat the same process for India and see the total number of views per channel and category and then plot it to see the most trending channel.\n",
        "\n",
        "1. Convert data type of columns\n",
        "2. group by channel title and category\n",
        "3. plor the count against channel title"
      ]
    },
    {
      "cell_type": "code",
      "metadata": {
        "id": "oJBp2KMDeAlo"
      },
      "source": [
        "df_IN=df_IN.withColumn(\"view_count\", df_IN[\"view_count\"].cast(\"int\"))\\\n",
        ".withColumn(\"likes\", df_IN[\"likes\"].cast(\"int\"))\\\n",
        ".withColumn(\"dislikes\", df_IN[\"dislikes\"].cast(\"int\"))\\\n",
        ".withColumn(\"comment_count\", df_IN[\"comment_count\"].cast(\"int\"))\\\n",
        ".withColumn(\"trending_date\", to_timestamp(df_IN[\"trending_date\"], \"yy.dd.MM\"))\\\n",
        ".withColumn(\"time_published\", to_timestamp(df_IN[\"publishedAt\"], \"yyyy-MM-dd\"))\\\n",
        ".withColumn(\"categoryId\", df_IN[\"categoryId\"].cast('int'))\\\n",
        ".select('view_count','title','tags','channelTitle','categoryId','likes','dislikes','comment_count')\n"
      ],
      "execution_count": null,
      "outputs": []
    },
    {
      "cell_type": "code",
      "metadata": {
        "id": "yolpKwvoeAlp"
      },
      "source": [
        "Regression_data_df_IN=df_IN"
      ],
      "execution_count": null,
      "outputs": []
    },
    {
      "cell_type": "code",
      "metadata": {
        "colab": {
          "base_uri": "https://localhost:8080/"
        },
        "id": "y7bQRzJJeAlp",
        "outputId": "ae1f8940-26ac-4f76-8667-a9c539bc2e07"
      },
      "source": [
        "Regression_data_df_IN.show()"
      ],
      "execution_count": null,
      "outputs": [
        {
          "output_type": "stream",
          "text": [
            "+----------+--------------------+--------------------+--------------------+----------+------+--------+-------------+\n",
            "|view_count|               title|                tags|        channelTitle|categoryId| likes|dislikes|comment_count|\n",
            "+----------+--------------------+--------------------+--------------------+----------+------+--------+-------------+\n",
            "|   3951991|Jagame Thandhiram...|netflix india|net...|       Netflix India|        24|362838|    5501|        12461|\n",
            "|   6091233|New Punjabi Songs...|Punjabi Songs|Lat...| Single Track Studio|        10|212128|    5464|         6460|\n",
            "|      null|                null|                null|                null|      null|  null|    null|         null|\n",
            "|      null|                null|                null|                null|      null|  null|    null|         null|\n",
            "|      null|                null|                null|                null|      null|  null|    null|         null|\n",
            "|      null|                null|                null|                null|      null|  null|    null|         null|\n",
            "|      null|                null|                null|                null|      null|  null|    null|         null|\n",
            "|      null|                null|                null|                null|      null|  null|    null|         null|\n",
            "|      null|                null|                null|                null|      null|  null|    null|         null|\n",
            "|      null|                null|                null|                null|      null|  null|    null|         null|\n",
            "|      null|                null|                null|                null|      null|  null|    null|         null|\n",
            "|      null|                null|                null|                null|      null|  null|    null|         null|\n",
            "|   2866688|Setting Se Meetin...|the mridul|the mr...|          The MriDul|        23|140046|    7807|        11144|\n",
            "|    840196|Rahul Vaidya On S...|tellymasala|telly...|         TellyMasala|        24| 36347|    1579|         3505|\n",
            "|   3729211|ANNIVERSARY BHOOL...|ruchi and piyush ...|    Ruchi and Piyush|        24|125848|   12541|        13706|\n",
            "|   5451600|Project Cobra: Un...|Free fire|Garena ...|Free Fire India O...|        20|254408|    9805|         8389|\n",
            "|   3342915|Panghat – Roohi |...|Sony Music India|...|    Sony Music India|        10|116371|   11009|         4754|\n",
            "|  11743339|Sira E Hou (Offic...|punjabi|bhangra|p...|       Speed Records|        10|451393|   15064|        20462|\n",
            "|    131789|MAD Theatrical Tr...|mad|mad movie|mad...|       Madhura Audio|        10|  3064|     196|          102|\n",
            "|      null|                null|                null|                null|      null|  null|    null|         null|\n",
            "+----------+--------------------+--------------------+--------------------+----------+------+--------+-------------+\n",
            "only showing top 20 rows\n",
            "\n"
          ],
          "name": "stdout"
        }
      ]
    },
    {
      "cell_type": "code",
      "metadata": {
        "id": "H7AcbVLXeAlq"
      },
      "source": [
        "df_IN_category=df_IN.groupBy('categoryId').sum().select('categoryId','sum(view_count)')"
      ],
      "execution_count": null,
      "outputs": []
    },
    {
      "cell_type": "code",
      "metadata": {
        "colab": {
          "base_uri": "https://localhost:8080/"
        },
        "id": "8gU6DTWCeAlq",
        "outputId": "2e86b7ac-e9fe-4a79-822d-5f2d6b54a1d2"
      },
      "source": [
        "df_IN_1=df_IN.groupBy('channelTitle').sum()\n",
        "df_IN_1.orderBy(df_IN_1['sum(view_count)'].desc()).limit(10).show()"
      ],
      "execution_count": null,
      "outputs": [
        {
          "output_type": "stream",
          "text": [
            "+------------------+---------------+---------------+----------+-------------+------------------+\n",
            "|      channelTitle|sum(view_count)|sum(categoryId)|sum(likes)|sum(dislikes)|sum(comment_count)|\n",
            "+------------------+---------------+---------------+----------+-------------+------------------+\n",
            "|          T-Series|     1089022325|            530|  37467218|      1310027|           2177770|\n",
            "|  Sony Music India|      843730243|            360|  15173052|      1552926|           2058362|\n",
            "|         BLACKPINK|      638460209|            240|  63344838|       623681|          10774929|\n",
            "|Desi Music Factory|      404880064|            250|  18539942|      1842963|           2609207|\n",
            "|      Aditya Music|      335768062|            300|  10271106|       298812|            489674|\n",
            "|  Vijay Television|      274406639|           2160|   6481969|        85487|            144414|\n",
            "|         Crazy XYZ|      239584122|           1820|  16710586|       674501|           1152135|\n",
            "|     Speed Records|      239207726|            230|   9297495|       322173|            631717|\n",
            "|          Sony SAB|      228419573|           1968|   3745276|       241304|             88052|\n",
            "|         Colors TV|      221152911|           2112|   3503652|       148639|            101736|\n",
            "+------------------+---------------+---------------+----------+-------------+------------------+\n",
            "\n"
          ],
          "name": "stdout"
        }
      ]
    },
    {
      "cell_type": "markdown",
      "metadata": {
        "id": "h2UnUBdgMbRq"
      },
      "source": [
        "Finally we can see that there is a difference from US and T-Series instead of BLACKPINK is the most trending channel"
      ]
    },
    {
      "cell_type": "code",
      "metadata": {
        "colab": {
          "base_uri": "https://localhost:8080/",
          "height": 391
        },
        "id": "gSo9VVwgeAlr",
        "outputId": "9a35f32e-1cb6-4495-eeb1-addfcbbadafc"
      },
      "source": [
        "plt.clf()\n",
        "df_IN_1.orderBy(df_IN_1['sum(view_count)'].desc()).limit(10).toPandas().plot(x='channelTitle',y='sum(view_count)',kind='bar')\n",
        "display()\n",
        "\n",
        "\n"
      ],
      "execution_count": null,
      "outputs": [
        {
          "output_type": "display_data",
          "data": {
            "text/plain": [
              "<Figure size 432x288 with 0 Axes>"
            ]
          },
          "metadata": {
            "tags": []
          }
        },
        {
          "output_type": "display_data",
          "data": {
            "image/png": "[encoded data removed]",
            "text/plain": [
              "<Figure size 432x288 with 1 Axes>"
            ]
          },
          "metadata": {
            "tags": [],
            "needs_background": "light"
          }
        }
      ]
    },
    {
      "cell_type": "markdown",
      "metadata": {
        "id": "-e4XIv1GfJ3b"
      },
      "source": [
        "## ***GB - United Kingdom***\n",
        "\n",
        "lets repeat the same process for UK and see the total number of views per channel and category and then plot it to see the most trending channel.\n",
        "\n",
        "1. Convert data type of columns\n",
        "2. group by channel title and category\n",
        "3. plor the count against channel title"
      ]
    },
    {
      "cell_type": "code",
      "metadata": {
        "id": "ft7jdGTwfR8o"
      },
      "source": [
        "df_GB=df_GB.withColumn(\"view_count\", df_GB[\"view_count\"].cast(\"int\"))\\\n",
        ".withColumn(\"likes\", df_GB[\"likes\"].cast(\"int\"))\\\n",
        ".withColumn(\"dislikes\", df_GB[\"dislikes\"].cast(\"int\"))\\\n",
        ".withColumn(\"comment_count\", df_GB[\"comment_count\"].cast(\"int\"))\\\n",
        ".withColumn(\"trending_date\", to_timestamp(df_GB[\"trending_date\"], \"yy.dd.MM\"))\\\n",
        ".withColumn(\"time_published\", to_timestamp(df_GB[\"publishedAt\"], \"yyyy-MM-dd\"))\\\n",
        ".withColumn(\"categoryId\", df_GB[\"categoryId\"].cast('int'))\\\n",
        ".select('view_count','title','tags','channelTitle','categoryId','likes','dislikes','comment_count')\n"
      ],
      "execution_count": null,
      "outputs": []
    },
    {
      "cell_type": "code",
      "metadata": {
        "id": "OAZ1-3OkfR85"
      },
      "source": [
        "Regression_data_df_GB=df_GB"
      ],
      "execution_count": null,
      "outputs": []
    },
    {
      "cell_type": "code",
      "metadata": {
        "id": "h7Nr5yXbfR87"
      },
      "source": [
        "df_GB_category=df_GB.groupBy('categoryId').sum().select('categoryId','sum(view_count)')"
      ],
      "execution_count": null,
      "outputs": []
    },
    {
      "cell_type": "code",
      "metadata": {
        "colab": {
          "base_uri": "https://localhost:8080/"
        },
        "id": "j5SbBmD3fR88",
        "outputId": "2a127592-ae69-475a-85b5-0b323cadcd5d"
      },
      "source": [
        "df_GB_1=df_GB.groupBy('channelTitle').sum()\n",
        "df_GB_1.orderBy(df_GB_1['sum(view_count)'].desc()).limit(10).show()"
      ],
      "execution_count": null,
      "outputs": [
        {
          "output_type": "stream",
          "text": [
            "+----------------+---------------+---------------+----------+-------------+------------------+\n",
            "|    channelTitle|sum(view_count)|sum(categoryId)|sum(likes)|sum(dislikes)|sum(comment_count)|\n",
            "+----------------+---------------+---------------+----------+-------------+------------------+\n",
            "|       BLACKPINK|      755473024|            320|  76986861|       777843|          11251981|\n",
            "|         MrBeast|      389373353|            384|  23876077|       228824|           1399116|\n",
            "|            NASA|      196377719|            560|   5152810|        99314|            155540|\n",
            "|JustinBieberVEVO|      183798786|            170|  13110603|       256890|            903637|\n",
            "|       LazarBeam|      170546869|            540|   8992030|        99471|            867873|\n",
            "|      Bruno Mars|      155286027|            150|   8525430|        67782|            496655|\n",
            "|    Dude Perfect|      145709967|            255|   5979172|        90335|            333413|\n",
            "|       Daft Punk|      141527024|             70|   9076851|       164007|           1080273|\n",
            "|     Brawl Stars|      139707238|            140|   6827515|        65731|            872171|\n",
            "|        Dua Lipa|      136951136|             80|   6824742|       125208|            248177|\n",
            "+----------------+---------------+---------------+----------+-------------+------------------+\n",
            "\n"
          ],
          "name": "stdout"
        }
      ]
    },
    {
      "cell_type": "markdown",
      "metadata": {
        "id": "yqY1nFqcM3Sz"
      },
      "source": [
        "BLACKPINK is famous across the globe I guess"
      ]
    },
    {
      "cell_type": "code",
      "metadata": {
        "colab": {
          "base_uri": "https://localhost:8080/",
          "height": 385
        },
        "id": "tuz9gkJmfR89",
        "outputId": "630c4fd8-106e-4354-8c57-d13937881de0"
      },
      "source": [
        "plt.clf()\n",
        "df_GB_1.orderBy(df_GB_1['sum(view_count)'].desc()).limit(10).toPandas().plot(x='channelTitle',y='sum(view_count)',kind='bar')\n",
        "display()\n",
        "\n",
        "\n"
      ],
      "execution_count": null,
      "outputs": [
        {
          "output_type": "display_data",
          "data": {
            "text/plain": [
              "<Figure size 432x288 with 0 Axes>"
            ]
          },
          "metadata": {
            "tags": []
          }
        },
        {
          "output_type": "display_data",
          "data": {
            "image/png": "[encoded data removed]",
            "text/plain": [
              "<Figure size 432x288 with 1 Axes>"
            ]
          },
          "metadata": {
            "tags": [],
            "needs_background": "light"
          }
        }
      ]
    },
    {
      "cell_type": "code",
      "metadata": {
        "id": "1GaT_CEpfL1n"
      },
      "source": [
        "df_RU"
      ],
      "execution_count": null,
      "outputs": []
    },
    {
      "cell_type": "markdown",
      "metadata": {
        "id": "_1WqKYAHgawY"
      },
      "source": [
        "## ***Russia***\n",
        "\n",
        "lets repeat the same process for Russia and see the total number of views per channel and category and then plot it to see the most trending channel.\n",
        "\n",
        "1. Convert data type of columns\n",
        "2. group by channel title and category\n",
        "3. plor the count against channel title"
      ]
    },
    {
      "cell_type": "code",
      "metadata": {
        "id": "thmOcUTJgi3i"
      },
      "source": [
        "df_RU=df_RU.withColumn(\"view_count\", df_RU[\"view_count\"].cast(\"int\"))\\\n",
        ".withColumn(\"likes\", df_RU[\"likes\"].cast(\"int\"))\\\n",
        ".withColumn(\"dislikes\", df_RU[\"dislikes\"].cast(\"int\"))\\\n",
        ".withColumn(\"comment_count\", df_RU[\"comment_count\"].cast(\"int\"))\\\n",
        ".withColumn(\"trending_date\", to_timestamp(df_RU[\"trending_date\"], \"yy.dd.MM\"))\\\n",
        ".withColumn(\"time_published\", to_timestamp(df_RU[\"publishedAt\"], \"yyyy-MM-dd\"))\\\n",
        ".withColumn(\"categoryId\", df_RU[\"categoryId\"].cast('int'))\\\n",
        ".select('view_count','title','tags','channelTitle','categoryId','likes','dislikes','comment_count')\n"
      ],
      "execution_count": null,
      "outputs": []
    },
    {
      "cell_type": "code",
      "metadata": {
        "id": "2tvrQnMlgi3j"
      },
      "source": [
        "Regression_data_df_RU=df_RU"
      ],
      "execution_count": null,
      "outputs": []
    },
    {
      "cell_type": "code",
      "metadata": {
        "id": "ioF-etDZgi3j"
      },
      "source": [
        "df_RU_category=df_RU.groupBy('categoryId').sum().select('categoryId','sum(view_count)')"
      ],
      "execution_count": null,
      "outputs": []
    },
    {
      "cell_type": "code",
      "metadata": {
        "colab": {
          "base_uri": "https://localhost:8080/"
        },
        "id": "s_484yvdgi3k",
        "outputId": "0cf10d4c-639e-497a-f711-9de47322cb48"
      },
      "source": [
        "df_RU_1=df_RU.groupBy('channelTitle').sum()\n",
        "df_RU_1.orderBy(df_RU_1['sum(view_count)'].desc()).limit(10).show()"
      ],
      "execution_count": null,
      "outputs": [
        {
          "output_type": "stream",
          "text": [
            "+--------------------+---------------+---------------+----------+-------------+------------------+\n",
            "|        channelTitle|sum(view_count)|sum(categoryId)|sum(likes)|sum(dislikes)|sum(comment_count)|\n",
            "+--------------------+---------------+---------------+----------+-------------+------------------+\n",
            "|                  A4|      334439867|           1056|  34171081|       808876|           3696126|\n",
            "|           BLACKPINK|      299124105|            160|  34645051|       279648|           5558716|\n",
            "|               вДудь|       62582402|            220|   3614658|       191628|            381184|\n",
            "|          Mamix Live|       58697796|           1342|   7142450|        95723|            315332|\n",
            "|           BANGTANTV|       54411246|            110|  15225319|        24840|           1210930|\n",
            "|           Daft Punk|       53276441|             30|   3431183|        58869|            419221|\n",
            "|    JustinBieberVEVO|       51019123|             60|   4752879|        82953|            329648|\n",
            "|                 MTV|       44481601|             90|   7916461|        35553|            333095|\n",
            "|             Serie A|       43898842|            238|    989440|        19773|             47500|\n",
            "|Recording Academy...|       41446540|             60|   1859785|        95914|            233094|\n",
            "+--------------------+---------------+---------------+----------+-------------+------------------+\n",
            "\n"
          ],
          "name": "stdout"
        }
      ]
    },
    {
      "cell_type": "markdown",
      "metadata": {
        "id": "nEFS0GbINJgX"
      },
      "source": [
        "Finally we see another country where BLACKPINK is not at top\n",
        "\n",
        "A4 takes the lead here"
      ]
    },
    {
      "cell_type": "code",
      "metadata": {
        "colab": {
          "base_uri": "https://localhost:8080/",
          "height": 456
        },
        "id": "u7kYWkb2gi3k",
        "outputId": "86c43332-a0f0-4d73-fee3-ff1b46e9cbbb"
      },
      "source": [
        "plt.clf()\n",
        "df_RU_1.orderBy(df_RU_1['sum(view_count)'].desc()).limit(10).toPandas().plot(x='channelTitle',y='sum(view_count)',kind='bar')\n",
        "display()\n",
        "\n",
        "\n"
      ],
      "execution_count": null,
      "outputs": [
        {
          "output_type": "display_data",
          "data": {
            "text/plain": [
              "<Figure size 432x288 with 0 Axes>"
            ]
          },
          "metadata": {
            "tags": []
          }
        },
        {
          "output_type": "display_data",
          "data": {
            "image/png": "[encoded data removed]",
            "text/plain": [
              "<Figure size 432x288 with 1 Axes>"
            ]
          },
          "metadata": {
            "tags": [],
            "needs_background": "light"
          }
        }
      ]
    },
    {
      "cell_type": "markdown",
      "metadata": {
        "id": "ZaEBoLBOhNeW"
      },
      "source": [
        "DE"
      ]
    },
    {
      "cell_type": "code",
      "metadata": {
        "id": "CeHvbsWthPfE"
      },
      "source": [
        "df_DE=df_DE.withColumn(\"view_count\", df_DE[\"view_count\"].cast(\"int\"))\\\n",
        ".withColumn(\"likes\", df_DE[\"likes\"].cast(\"int\"))\\\n",
        ".withColumn(\"dislikes\", df_DE[\"dislikes\"].cast(\"int\"))\\\n",
        ".withColumn(\"comment_count\", df_DE[\"comment_count\"].cast(\"int\"))\\\n",
        ".withColumn(\"trending_date\", to_timestamp(df_DE[\"trending_date\"], \"yy.dd.MM\"))\\\n",
        ".withColumn(\"time_published\", to_timestamp(df_DE[\"publishedAt\"], \"yyyy-MM-dd\"))\\\n",
        ".withColumn(\"categoryId\", df_DE[\"categoryId\"].cast('int'))\\\n",
        ".select('view_count','title','tags','channelTitle','categoryId','likes','dislikes','comment_count')\n"
      ],
      "execution_count": null,
      "outputs": []
    },
    {
      "cell_type": "code",
      "metadata": {
        "id": "H0VsaXowhPfF"
      },
      "source": [
        "Regression_data_df_DE=df_DE"
      ],
      "execution_count": null,
      "outputs": []
    },
    {
      "cell_type": "code",
      "metadata": {
        "id": "gliDo6CDhPfF"
      },
      "source": [
        "df_DE_category=df_DE.groupBy('categoryId').sum().select('categoryId','sum(view_count)')"
      ],
      "execution_count": null,
      "outputs": []
    },
    {
      "cell_type": "code",
      "metadata": {
        "colab": {
          "base_uri": "https://localhost:8080/"
        },
        "id": "A2FeKQdQhPfG",
        "outputId": "f0b5f4cc-b5de-44ca-a041-c98e278a836f"
      },
      "source": [
        "df_DE_1=df_DE.groupBy('channelTitle').sum()\n",
        "df_DE_1.orderBy(df_DE_1['sum(view_count)'].desc()).limit(10).show()"
      ],
      "execution_count": null,
      "outputs": [
        {
          "output_type": "stream",
          "text": [
            "+-------------------+---------------+---------------+----------+-------------+------------------+\n",
            "|       channelTitle|sum(view_count)|sum(categoryId)|sum(likes)|sum(dislikes)|sum(comment_count)|\n",
            "+-------------------+---------------+---------------+----------+-------------+------------------+\n",
            "|          BLACKPINK|      597357452|            290|  63865692|       597340|           9386616|\n",
            "|            MrBeast|      213884786|            240|  13969255|       126174|            814811|\n",
            "|   Sony Music India|      169681894|             60|   3261709|       312719|            612263|\n",
            "|          TIKTORIKI|      152590623|            207|   3460087|       190711|             13033|\n",
            "|   JustinBieberVEVO|      148943124|            160|  11042222|       210922|            738633|\n",
            "|웃웃TwinsFromRussia|      139147405|            198|   6787054|       231596|             31995|\n",
            "|           Dua Lipa|      112221337|             70|   5738411|       104530|            209974|\n",
            "|               NASA|      101400709|            420|   2806604|        49316|            119216|\n",
            "|          Daft Punk|       96992698|             50|   6197831|       110088|            744588|\n",
            "|        Brawl Stars|       92858803|            100|   4777101|        44092|            616854|\n",
            "+-------------------+---------------+---------------+----------+-------------+------------------+\n",
            "\n"
          ],
          "name": "stdout"
        }
      ]
    },
    {
      "cell_type": "code",
      "metadata": {
        "colab": {
          "base_uri": "https://localhost:8080/",
          "height": 463
        },
        "id": "QcWndY3PhPfH",
        "outputId": "282dfcb4-cdfd-4ec3-8233-674b69c1c954"
      },
      "source": [
        "plt.clf()\n",
        "df_DE_1.orderBy(df_DE_1['sum(view_count)'].desc()).limit(10).toPandas().plot(x='channelTitle',y='sum(view_count)',kind='bar')\n",
        "display()\n",
        "\n",
        "\n"
      ],
      "execution_count": null,
      "outputs": [
        {
          "output_type": "stream",
          "text": [
            "/usr/local/lib/python3.7/dist-packages/matplotlib/backends/backend_agg.py:214: RuntimeWarning: Glyph 50883 missing from current font.\n",
            "  font.set_text(s, 0.0, flags=flags)\n",
            "/usr/local/lib/python3.7/dist-packages/matplotlib/backends/backend_agg.py:183: RuntimeWarning: Glyph 50883 missing from current font.\n",
            "  font.set_text(s, 0, flags=flags)\n"
          ],
          "name": "stderr"
        },
        {
          "output_type": "display_data",
          "data": {
            "text/plain": [
              "<Figure size 432x288 with 0 Axes>"
            ]
          },
          "metadata": {
            "tags": []
          }
        },
        {
          "output_type": "display_data",
          "data": {
            "image/png": "[encoded data removed]",
            "text/plain": [
              "<Figure size 432x288 with 1 Axes>"
            ]
          },
          "metadata": {
            "tags": [],
            "needs_background": "light"
          }
        }
      ]
    },
    {
      "cell_type": "markdown",
      "metadata": {
        "id": "6D8t6FVVhzdm"
      },
      "source": [
        "We have seen that for a lot of countries the trending channels are the same and for a lot they are different\n",
        "\n",
        "Now we will plot the top trending channel for Russian, US and India in order to see a comparison of the difference in views.\n",
        "\n",
        "\n",
        "TOP comparison channels US India Russia"
      ]
    },
    {
      "cell_type": "code",
      "metadata": {
        "id": "CXCSR6UIkaC8"
      },
      "source": [
        "# taking the top 1 for all three\n",
        "US_1 = df_1.orderBy(df_1['sum(view_count)'].desc()).limit(1)\n",
        "RU_1 = df_RU_1.orderBy(df_RU_1['sum(view_count)'].desc()).limit(1)\n",
        "IN_1 = df_IN_1.orderBy(df_IN_1['sum(view_count)'].desc()).limit(1)"
      ],
      "execution_count": null,
      "outputs": []
    },
    {
      "cell_type": "code",
      "metadata": {
        "id": "uK6u1G4dqv6f"
      },
      "source": [
        "# changing the column names\n",
        "US_1 = US_1.withColumn(\"country\",lit(\"US\"))\n",
        "RU_1 = RU_1.withColumn(\"country\",lit(\"RU\"))\n",
        "IN_1 = IN_1.withColumn(\"country\",lit(\"IN\"))"
      ],
      "execution_count": null,
      "outputs": []
    },
    {
      "cell_type": "code",
      "metadata": {
        "id": "6wNrWMMgtpX3"
      },
      "source": [
        "# adding them to make a new data frame\n",
        "new_yes = US_1.union(RU_1)\n",
        "new_yes = new_yes.union(IN_1)"
      ],
      "execution_count": null,
      "outputs": []
    },
    {
      "cell_type": "code",
      "metadata": {
        "id": "gqC9a91vt7cL"
      },
      "source": [
        "new_yes = new_yes.union(IN_1)"
      ],
      "execution_count": null,
      "outputs": []
    },
    {
      "cell_type": "code",
      "metadata": {
        "colab": {
          "base_uri": "https://localhost:8080/"
        },
        "id": "OCJEr1ajuA62",
        "outputId": "6692f2a8-2f8e-4896-bd42-860986ac9f8f"
      },
      "source": [
        "new_yes.show()"
      ],
      "execution_count": null,
      "outputs": [
        {
          "output_type": "stream",
          "text": [
            "+------------+---------------+---------------+----------+-------------+------------------+-------+\n",
            "|channelTitle|sum(view_count)|sum(categoryId)|sum(likes)|sum(dislikes)|sum(comment_count)|country|\n",
            "+------------+---------------+---------------+----------+-------------+------------------+-------+\n",
            "|   BLACKPINK|      929403847|            340|  87992458|       941584|          12937958|     US|\n",
            "|          A4|      334439867|           1056|  34171081|       808876|           3696126|     RU|\n",
            "|    T-Series|     1089022325|            530|  37467218|      1310027|           2177770|     IN|\n",
            "+------------+---------------+---------------+----------+-------------+------------------+-------+\n",
            "\n"
          ],
          "name": "stdout"
        }
      ]
    },
    {
      "cell_type": "code",
      "metadata": {
        "colab": {
          "base_uri": "https://localhost:8080/"
        },
        "id": "bTFG9FnH-9Py",
        "outputId": "d9b710a5-7b27-449d-dad4-b8347bd13f48"
      },
      "source": [
        "new_yes.summary()"
      ],
      "execution_count": null,
      "outputs": [
        {
          "output_type": "execute_result",
          "data": {
            "text/plain": [
              "DataFrame[summary: string, channelTitle: string, sum(view_count): string, sum(categoryId): string, sum(likes): string, sum(dislikes): string, sum(comment_count): string, country: string]"
            ]
          },
          "metadata": {
            "tags": []
          },
          "execution_count": 180
        }
      ]
    },
    {
      "cell_type": "code",
      "metadata": {
        "id": "b_IizffFA6Sw"
      },
      "source": [
        "a['country'] = a['country'].astype('category')\n",
        "a['channelTitle'] = a['channelTitle'].astype('category')"
      ],
      "execution_count": null,
      "outputs": []
    },
    {
      "cell_type": "code",
      "metadata": {
        "id": "U2XxX4jyBoI4"
      },
      "source": [
        "a = new_yes.orderBy(new_yes['sum(view_count)'].desc()).toPandas()"
      ],
      "execution_count": null,
      "outputs": []
    },
    {
      "cell_type": "code",
      "metadata": {
        "id": "NXlMd6_gLJEb"
      },
      "source": [
        "from matplotlib.patches import Patch"
      ],
      "execution_count": null,
      "outputs": []
    },
    {
      "cell_type": "code",
      "metadata": {
        "colab": {
          "base_uri": "https://localhost:8080/",
          "height": 353
        },
        "id": "kjdGiFZKu2HS",
        "outputId": "3a566ddb-16c8-409e-a22c-38d29e9bc667"
      },
      "source": [
        "# adding patches to provide custom colors for all histogram by country\n",
        "\n",
        "colours = {\"IN\": \"#273c75\", \"US\": \"#44bd32\", \"RU\": \"#17becf\"}\n",
        "plt.clf()\n",
        "a.plot(x='channelTitle',y='sum(view_count)',kind='bar',color=a['country'].replace(colours)).legend(\n",
        "    [\n",
        "        Patch(facecolor=colours['IN']),\n",
        "        Patch(facecolor=colours['US']),\n",
        "        Patch(facecolor=colours['RU'])\n",
        "    ], [\"IN\", \"US\",\"RU\"]\n",
        ")\n",
        "\n",
        "display()"
      ],
      "execution_count": null,
      "outputs": [
        {
          "output_type": "display_data",
          "data": {
            "text/plain": [
              "<Figure size 432x288 with 0 Axes>"
            ]
          },
          "metadata": {
            "tags": []
          }
        },
        {
          "output_type": "display_data",
          "data": {
            "image/png": "[encoded data removed]",
            "text/plain": [
              "<Figure size 432x288 with 1 Axes>"
            ]
          },
          "metadata": {
            "tags": [],
            "needs_background": "light"
          }
        }
      ]
    },
    {
      "cell_type": "markdown",
      "metadata": {
        "id": "QlP-DbvMNMiO"
      },
      "source": [
        "## ***Plotting the average time taken for a youtube video to trend from the time it was published***"
      ]
    },
    {
      "cell_type": "code",
      "metadata": {
        "colab": {
          "base_uri": "https://localhost:8080/"
        },
        "id": "g_vhY3FlNT5r",
        "outputId": "90ffb540-f927-486f-e537-85f501439866"
      },
      "source": [
        "video_data.dtypes"
      ],
      "execution_count": 68,
      "outputs": [
        {
          "output_type": "execute_result",
          "data": {
            "text/plain": [
              "Unnamed: 0            int64\n",
              "video_id             object\n",
              "title                object\n",
              "publishedAt          object\n",
              "channelId            object\n",
              "channelTitle         object\n",
              "categoryId            int64\n",
              "trending_date        object\n",
              "tags                 object\n",
              "view_count            int64\n",
              "likes                 int64\n",
              "dislikes              int64\n",
              "comment_count         int64\n",
              "thumbnail_link       object\n",
              "comments_disabled      bool\n",
              "ratings_disabled       bool\n",
              "description          object\n",
              "dtype: object"
            ]
          },
          "metadata": {
            "tags": []
          },
          "execution_count": 68
        }
      ]
    },
    {
      "cell_type": "markdown",
      "metadata": {
        "id": "M_k3-Ik-TTVa"
      },
      "source": [
        "converting trending date and publish date into the appropriate format"
      ]
    },
    {
      "cell_type": "markdown",
      "metadata": {
        "id": "QVSmlBjfOuGB"
      },
      "source": [
        "published at was converted directly, however, it took some string manipulation to convert it into the appropriate format.\n",
        "\n",
        "20 was added to the start of the string in order to make is suitable for the function to later convert it into date time"
      ]
    },
    {
      "cell_type": "code",
      "metadata": {
        "id": "n2CgTkLcRewM"
      },
      "source": [
        "video_data['publishedAt'] = video_data['publishedAt'].astype('datetime64[ns]')\n",
        "video_data['trending_date'] = ['20'] + video_data['trending_date']"
      ],
      "execution_count": 69,
      "outputs": []
    },
    {
      "cell_type": "code",
      "metadata": {
        "colab": {
          "base_uri": "https://localhost:8080/"
        },
        "id": "xklioGveN91z",
        "outputId": "16f4e436-51a2-4e13-d1f5-d4662de60433"
      },
      "source": [
        "video_data.dtypes"
      ],
      "execution_count": 70,
      "outputs": [
        {
          "output_type": "execute_result",
          "data": {
            "text/plain": [
              "Unnamed: 0                    int64\n",
              "video_id                     object\n",
              "title                        object\n",
              "publishedAt          datetime64[ns]\n",
              "channelId                    object\n",
              "channelTitle                 object\n",
              "categoryId                    int64\n",
              "trending_date                object\n",
              "tags                         object\n",
              "view_count                    int64\n",
              "likes                         int64\n",
              "dislikes                      int64\n",
              "comment_count                 int64\n",
              "thumbnail_link               object\n",
              "comments_disabled              bool\n",
              "ratings_disabled               bool\n",
              "description                  object\n",
              "dtype: object"
            ]
          },
          "metadata": {
            "tags": []
          },
          "execution_count": 70
        }
      ]
    },
    {
      "cell_type": "code",
      "metadata": {
        "id": "37p51w2eN-vu"
      },
      "source": [
        "video_data['trending_date'] = pd.to_datetime(video_data['trending_date'], format = \"%Y.%d.%m\")"
      ],
      "execution_count": 71,
      "outputs": []
    },
    {
      "cell_type": "code",
      "metadata": {
        "colab": {
          "base_uri": "https://localhost:8080/"
        },
        "id": "2AbReQf_SYcs",
        "outputId": "d1b414da-1eaf-42dc-e946-2f8c43c51383"
      },
      "source": [
        "video_data.dtypes"
      ],
      "execution_count": 72,
      "outputs": [
        {
          "output_type": "execute_result",
          "data": {
            "text/plain": [
              "Unnamed: 0                    int64\n",
              "video_id                     object\n",
              "title                        object\n",
              "publishedAt          datetime64[ns]\n",
              "channelId                    object\n",
              "channelTitle                 object\n",
              "categoryId                    int64\n",
              "trending_date        datetime64[ns]\n",
              "tags                         object\n",
              "view_count                    int64\n",
              "likes                         int64\n",
              "dislikes                      int64\n",
              "comment_count                 int64\n",
              "thumbnail_link               object\n",
              "comments_disabled              bool\n",
              "ratings_disabled               bool\n",
              "description                  object\n",
              "dtype: object"
            ]
          },
          "metadata": {
            "tags": []
          },
          "execution_count": 72
        }
      ]
    },
    {
      "cell_type": "markdown",
      "metadata": {
        "id": "lFfXXKxbPtw_"
      },
      "source": [
        "Now lets make a new column time difference to see how much time is required"
      ]
    },
    {
      "cell_type": "code",
      "metadata": {
        "id": "jaICaMr-PqYD"
      },
      "source": [
        "video_data['time_diff'] = video_data['trending_date'] - video_data['publishedAt']"
      ],
      "execution_count": 73,
      "outputs": []
    },
    {
      "cell_type": "markdown",
      "metadata": {
        "id": "vo1ypr_7Tb9X"
      },
      "source": [
        "*average* time for a video to go viral --\n",
        "Almost four days but for simplicit we will say it as more than three days"
      ]
    },
    {
      "cell_type": "code",
      "metadata": {
        "colab": {
          "base_uri": "https://localhost:8080/"
        },
        "id": "Vgy5uXH_N-7K",
        "outputId": "0475d856-31e0-42b9-e73d-a83c346f0aa8"
      },
      "source": [
        "video_data.time_diff.mean()"
      ],
      "execution_count": 74,
      "outputs": [
        {
          "output_type": "execute_result",
          "data": {
            "text/plain": [
              "Timedelta('3 days 21:35:21.177333333')"
            ]
          },
          "metadata": {
            "tags": []
          },
          "execution_count": 74
        }
      ]
    },
    {
      "cell_type": "markdown",
      "metadata": {
        "id": "ULKL8nuDN_Dj"
      },
      "source": [
        "unique channels"
      ]
    },
    {
      "cell_type": "markdown",
      "metadata": {
        "id": "vFN-OZ0BT-XE"
      },
      "source": [
        "It has 6000 row checking if all were updated by unique channels\n",
        "\n",
        "746 unique channels"
      ]
    },
    {
      "cell_type": "code",
      "metadata": {
        "colab": {
          "base_uri": "https://localhost:8080/"
        },
        "id": "A97ySgg_N_Km",
        "outputId": "92596cc4-260b-4fc0-af3a-715cd03196e1"
      },
      "source": [
        "video_data.channelTitle.nunique()"
      ],
      "execution_count": 75,
      "outputs": [
        {
          "output_type": "execute_result",
          "data": {
            "text/plain": [
              "746"
            ]
          },
          "metadata": {
            "tags": []
          },
          "execution_count": 75
        }
      ]
    },
    {
      "cell_type": "markdown",
      "metadata": {
        "id": "uoOXyvsHVaBM"
      },
      "source": [
        "changing the date type to numerical in order for us to plot time diff adding a new variable for time diff to convert into hours"
      ]
    },
    {
      "cell_type": "code",
      "metadata": {
        "colab": {
          "base_uri": "https://localhost:8080/"
        },
        "id": "WOz9JyrIN_Qg",
        "outputId": "cf39734a-a27c-48ed-e32f-517f0010f968"
      },
      "source": [
        "video_data.dtypes"
      ],
      "execution_count": 76,
      "outputs": [
        {
          "output_type": "execute_result",
          "data": {
            "text/plain": [
              "Unnamed: 0                     int64\n",
              "video_id                      object\n",
              "title                         object\n",
              "publishedAt           datetime64[ns]\n",
              "channelId                     object\n",
              "channelTitle                  object\n",
              "categoryId                     int64\n",
              "trending_date         datetime64[ns]\n",
              "tags                          object\n",
              "view_count                     int64\n",
              "likes                          int64\n",
              "dislikes                       int64\n",
              "comment_count                  int64\n",
              "thumbnail_link                object\n",
              "comments_disabled               bool\n",
              "ratings_disabled                bool\n",
              "description                   object\n",
              "time_diff            timedelta64[ns]\n",
              "dtype: object"
            ]
          },
          "metadata": {
            "tags": []
          },
          "execution_count": 76
        }
      ]
    },
    {
      "cell_type": "markdown",
      "metadata": {
        "id": "S50TOIJ4QLA9"
      },
      "source": [
        "Dividing it by timedelta data frame to convert it into hours"
      ]
    },
    {
      "cell_type": "code",
      "metadata": {
        "id": "8GMIwI6sN_Ug"
      },
      "source": [
        "video_data['time_diff_hour'] = video_data['time_diff'] / pd.Timedelta('1 hour')"
      ],
      "execution_count": 77,
      "outputs": []
    },
    {
      "cell_type": "code",
      "metadata": {
        "id": "Ob9QzNMXN_Za"
      },
      "source": [
        "us = video_data"
      ],
      "execution_count": 78,
      "outputs": []
    },
    {
      "cell_type": "markdown",
      "metadata": {
        "id": "LiiwmS-aQVGl"
      },
      "source": [
        "On an average 93 hours"
      ]
    },
    {
      "cell_type": "code",
      "metadata": {
        "colab": {
          "base_uri": "https://localhost:8080/"
        },
        "id": "iXa7ZbI9V_tu",
        "outputId": "d348b177-6c3f-434c-891a-79ee38ecb453"
      },
      "source": [
        "us['time_diff_hour'].mean()"
      ],
      "execution_count": 79,
      "outputs": [
        {
          "output_type": "execute_result",
          "data": {
            "text/plain": [
              "93.58921592592586"
            ]
          },
          "metadata": {
            "tags": []
          },
          "execution_count": 79
        }
      ]
    },
    {
      "cell_type": "markdown",
      "metadata": {
        "id": "nPurd9kDWO5X"
      },
      "source": [
        "checking how many days - around four days"
      ]
    },
    {
      "cell_type": "code",
      "metadata": {
        "colab": {
          "base_uri": "https://localhost:8080/"
        },
        "id": "NmbG_1yPWDlM",
        "outputId": "10ef4149-6641-4fd9-ddad-fdcc3eab1c34"
      },
      "source": [
        "us['time_diff_hour'].mean() / 24"
      ],
      "execution_count": 80,
      "outputs": [
        {
          "output_type": "execute_result",
          "data": {
            "text/plain": [
              "3.899550663580244"
            ]
          },
          "metadata": {
            "tags": []
          },
          "execution_count": 80
        }
      ]
    },
    {
      "cell_type": "code",
      "metadata": {
        "id": "0IeyLtYBWmXM"
      },
      "source": [
        "import seaborn as sns"
      ],
      "execution_count": 81,
      "outputs": []
    },
    {
      "cell_type": "markdown",
      "metadata": {
        "id": "mLMsptXDW4G6"
      },
      "source": [
        "The average value of the columns is 93 and we can see some extreme values. We are subtracting extreme values in order to have an accurate depiction"
      ]
    },
    {
      "cell_type": "code",
      "metadata": {
        "colab": {
          "base_uri": "https://localhost:8080/",
          "height": 269
        },
        "id": "mBWls54iWD0H",
        "outputId": "febb4721-6a42-4067-c7b2-704eb47c7cef"
      },
      "source": [
        "sns.boxplot(data=us, y='time_diff_hour')"
      ],
      "execution_count": 82,
      "outputs": [
        {
          "output_type": "execute_result",
          "data": {
            "text/plain": [
              "<matplotlib.axes._subplots.AxesSubplot at 0x7f02aa0d8f90>"
            ]
          },
          "metadata": {
            "tags": []
          },
          "execution_count": 82
        },
        {
          "output_type": "display_data",
          "data": {
            "image/png": "[encoded data removed]",
            "text/plain": [
              "<Figure size 432x288 with 1 Axes>"
            ]
          },
          "metadata": {
            "tags": [],
            "needs_background": "light"
          }
        }
      ]
    },
    {
      "cell_type": "markdown",
      "metadata": {
        "id": "5z84G_qlWD6j"
      },
      "source": [
        "Removing outliers - as we can see that there are only seven values so removing them"
      ]
    },
    {
      "cell_type": "code",
      "metadata": {
        "colab": {
          "base_uri": "https://localhost:8080/"
        },
        "id": "mI_sRDE7WD9S",
        "outputId": "6ccea00f-81b7-4e5f-b5fc-238383ff052f"
      },
      "source": [
        "len(us)"
      ],
      "execution_count": 83,
      "outputs": [
        {
          "output_type": "execute_result",
          "data": {
            "text/plain": [
              "6000"
            ]
          },
          "metadata": {
            "tags": []
          },
          "execution_count": 83
        }
      ]
    },
    {
      "cell_type": "code",
      "metadata": {
        "colab": {
          "base_uri": "https://localhost:8080/"
        },
        "id": "p5SA6BB2XVUM",
        "outputId": "0f58b99e-a85e-4ae7-bf87-d5334bde6cb7"
      },
      "source": [
        "len(us[us.time_diff_hour > 600])"
      ],
      "execution_count": 84,
      "outputs": [
        {
          "output_type": "execute_result",
          "data": {
            "text/plain": [
              "7"
            ]
          },
          "metadata": {
            "tags": []
          },
          "execution_count": 84
        }
      ]
    },
    {
      "cell_type": "code",
      "metadata": {
        "id": "jRj1rkUwXXLE"
      },
      "source": [
        "us = us[us.time_diff_hour <= 600]"
      ],
      "execution_count": 85,
      "outputs": []
    },
    {
      "cell_type": "markdown",
      "metadata": {
        "id": "qKv9QkqiQpKZ"
      },
      "source": [
        "This looks good, we can clearly seee from the barchart and box plot that the average time taken in hours is around 93."
      ]
    },
    {
      "cell_type": "code",
      "metadata": {
        "colab": {
          "base_uri": "https://localhost:8080/",
          "height": 386
        },
        "id": "SElC2BQkWEB-",
        "outputId": "01f6c238-c260-4feb-c0e4-2aac23dc7485"
      },
      "source": [
        "sns.displot(data=us, x='time_diff_hour', kind='hist',\n",
        "aspect=1.5, bins=20)"
      ],
      "execution_count": 86,
      "outputs": [
        {
          "output_type": "execute_result",
          "data": {
            "text/plain": [
              "<seaborn.axisgrid.FacetGrid at 0x7f02aa0b8150>"
            ]
          },
          "metadata": {
            "tags": []
          },
          "execution_count": 86
        },
        {
          "output_type": "display_data",
          "data": {
            "image/png": "[encoded data removed]",
            "text/plain": [
              "<Figure size 540x360 with 1 Axes>"
            ]
          },
          "metadata": {
            "tags": [],
            "needs_background": "light"
          }
        }
      ]
    },
    {
      "cell_type": "code",
      "metadata": {
        "colab": {
          "base_uri": "https://localhost:8080/",
          "height": 269
        },
        "id": "v9ojQunfaj8m",
        "outputId": "1df33596-b329-468b-8220-1dca5180758e"
      },
      "source": [
        "sns.boxplot(data=us, y='time_diff_hour')"
      ],
      "execution_count": 87,
      "outputs": [
        {
          "output_type": "execute_result",
          "data": {
            "text/plain": [
              "<matplotlib.axes._subplots.AxesSubplot at 0x7f02aa03c1d0>"
            ]
          },
          "metadata": {
            "tags": []
          },
          "execution_count": 87
        },
        {
          "output_type": "display_data",
          "data": {
            "image/png": "[encoded data removed]",
            "text/plain": [
              "<Figure size 432x288 with 1 Axes>"
            ]
          },
          "metadata": {
            "tags": [],
            "needs_background": "light"
          }
        }
      ]
    },
    {
      "cell_type": "markdown",
      "metadata": {
        "id": "qJ76_UIoXyE2"
      },
      "source": [
        "### ***Finding the most common words in trending data***\n",
        "\n",
        "Although not included in the final eda we also saw the most common words that were found in trending data"
      ]
    },
    {
      "cell_type": "code",
      "metadata": {
        "colab": {
          "base_uri": "https://localhost:8080/"
        },
        "id": "qvuuf_ecZBfE",
        "outputId": "e9d4dfce-c46d-40da-8281-c5cb7df446ac"
      },
      "source": [
        "us['title'][:5]"
      ],
      "execution_count": null,
      "outputs": [
        {
          "output_type": "execute_result",
          "data": {
            "text/plain": [
              "0    Meatpacking: Last Week Tonight with John Olive...\n",
              "1    Best 3D Pen Art Wins $5,000 Challenge! | ZHC C...\n",
              "2                     100 Days - [Minecraft Superflat]\n",
              "3    Amazing! Luke Bryan Calls 15-Year-Old Casey Bi...\n",
              "4             Game Theory: Did Reddit Just SOLVE FNAF?\n",
              "Name: title, dtype: object"
            ]
          },
          "metadata": {
            "tags": []
          },
          "execution_count": 295
        }
      ]
    },
    {
      "cell_type": "markdown",
      "metadata": {
        "id": "lWKutqg-Yalk"
      },
      "source": [
        "removing punctuations and lowering the the strings"
      ]
    },
    {
      "cell_type": "code",
      "metadata": {
        "colab": {
          "base_uri": "https://localhost:8080/"
        },
        "id": "2VtKPC5qZTQ_",
        "outputId": "de045142-8d62-4bd2-a06b-8187ef246484"
      },
      "source": [
        "us['title'] = us.loc[:,'title'].str.lower()"
      ],
      "execution_count": null,
      "outputs": [
        {
          "output_type": "stream",
          "text": [
            "/usr/local/lib/python3.7/dist-packages/ipykernel_launcher.py:1: SettingWithCopyWarning: \n",
            "A value is trying to be set on a copy of a slice from a DataFrame.\n",
            "Try using .loc[row_indexer,col_indexer] = value instead\n",
            "\n",
            "See the caveats in the documentation: https://pandas.pydata.org/pandas-docs/stable/user_guide/indexing.html#returning-a-view-versus-a-copy\n",
            "  \"\"\"Entry point for launching an IPython kernel.\n"
          ],
          "name": "stderr"
        }
      ]
    },
    {
      "cell_type": "code",
      "metadata": {
        "colab": {
          "base_uri": "https://localhost:8080/"
        },
        "id": "SQov6wt7ZWHP",
        "outputId": "eea977e5-10cf-44b8-d686-cd7a7854c7f6"
      },
      "source": [
        "us.dtypes"
      ],
      "execution_count": null,
      "outputs": [
        {
          "output_type": "execute_result",
          "data": {
            "text/plain": [
              "Unnamed: 0                     int64\n",
              "video_id                      object\n",
              "title                         object\n",
              "publishedAt           datetime64[ns]\n",
              "channelId                     object\n",
              "channelTitle                  object\n",
              "categoryId                     int64\n",
              "trending_date         datetime64[ns]\n",
              "tags                          object\n",
              "view_count                     int64\n",
              "likes                          int64\n",
              "dislikes                       int64\n",
              "comment_count                  int64\n",
              "thumbnail_link                object\n",
              "comments_disabled               bool\n",
              "ratings_disabled                bool\n",
              "description                   object\n",
              "time_diff            timedelta64[ns]\n",
              "time_diff_hour               float64\n",
              "dtype: object"
            ]
          },
          "metadata": {
            "tags": []
          },
          "execution_count": 297
        }
      ]
    },
    {
      "cell_type": "markdown",
      "metadata": {
        "id": "OPTYonS3RwfL"
      },
      "source": [
        "changing the title to a string"
      ]
    },
    {
      "cell_type": "code",
      "metadata": {
        "colab": {
          "base_uri": "https://localhost:8080/"
        },
        "id": "QGwMeUbSWEGn",
        "outputId": "30a5403d-db75-4f01-f491-aed232c4a7b0"
      },
      "source": [
        "us['title'] = us['title'].astype('string')"
      ],
      "execution_count": null,
      "outputs": [
        {
          "output_type": "stream",
          "text": [
            "/usr/local/lib/python3.7/dist-packages/ipykernel_launcher.py:1: SettingWithCopyWarning: \n",
            "A value is trying to be set on a copy of a slice from a DataFrame.\n",
            "Try using .loc[row_indexer,col_indexer] = value instead\n",
            "\n",
            "See the caveats in the documentation: https://pandas.pydata.org/pandas-docs/stable/user_guide/indexing.html#returning-a-view-versus-a-copy\n",
            "  \"\"\"Entry point for launching an IPython kernel.\n"
          ],
          "name": "stderr"
        }
      ]
    },
    {
      "cell_type": "code",
      "metadata": {
        "colab": {
          "base_uri": "https://localhost:8080/"
        },
        "id": "TD57gcY4WEJK",
        "outputId": "779c5ca2-7e3c-431e-e327-22093856519d"
      },
      "source": [
        "us['title'][:5]"
      ],
      "execution_count": null,
      "outputs": [
        {
          "output_type": "execute_result",
          "data": {
            "text/plain": [
              "0    meatpacking: last week tonight with john olive...\n",
              "1    best 3d pen art wins $5,000 challenge! | zhc c...\n",
              "2                     100 days - [minecraft superflat]\n",
              "3    amazing! luke bryan calls 15-year-old casey bi...\n",
              "4             game theory: did reddit just solve fnaf?\n",
              "Name: title, dtype: object"
            ]
          },
          "metadata": {
            "tags": []
          },
          "execution_count": 298
        }
      ]
    },
    {
      "cell_type": "markdown",
      "metadata": {
        "id": "VxFaTruWR8Aj"
      },
      "source": [
        "removing punctuations"
      ]
    },
    {
      "cell_type": "code",
      "metadata": {
        "colab": {
          "base_uri": "https://localhost:8080/"
        },
        "id": "S3vHa9T2aPVS",
        "outputId": "8afa9ff4-03e9-4141-cb8e-4e02fd79eca8"
      },
      "source": [
        "us['title'] = us['title'].str.replace(r'[^\\w\\s]+', '')"
      ],
      "execution_count": null,
      "outputs": [
        {
          "output_type": "stream",
          "text": [
            "/usr/local/lib/python3.7/dist-packages/ipykernel_launcher.py:1: SettingWithCopyWarning: \n",
            "A value is trying to be set on a copy of a slice from a DataFrame.\n",
            "Try using .loc[row_indexer,col_indexer] = value instead\n",
            "\n",
            "See the caveats in the documentation: https://pandas.pydata.org/pandas-docs/stable/user_guide/indexing.html#returning-a-view-versus-a-copy\n",
            "  \"\"\"Entry point for launching an IPython kernel.\n"
          ],
          "name": "stderr"
        }
      ]
    },
    {
      "cell_type": "code",
      "metadata": {
        "colab": {
          "base_uri": "https://localhost:8080/"
        },
        "id": "kLavd_7maROr",
        "outputId": "57d2b453-6be1-4027-a8ab-2613501f3cd9"
      },
      "source": [
        "us['title'][:5]"
      ],
      "execution_count": null,
      "outputs": [
        {
          "output_type": "execute_result",
          "data": {
            "text/plain": [
              "0    meatpacking last week tonight with john oliver...\n",
              "1      best 3d pen art wins 5000 challenge  zhc crafts\n",
              "2                        100 days  minecraft superflat\n",
              "3    amazing luke bryan calls 15yearold casey bisho...\n",
              "4               game theory did reddit just solve fnaf\n",
              "Name: title, dtype: object"
            ]
          },
          "metadata": {
            "tags": []
          },
          "execution_count": 300
        }
      ]
    },
    {
      "cell_type": "markdown",
      "metadata": {
        "id": "-TNtDTA8ac4C"
      },
      "source": [
        "Views per million"
      ]
    },
    {
      "cell_type": "code",
      "metadata": {
        "colab": {
          "base_uri": "https://localhost:8080/"
        },
        "id": "6UqzwpJ3ahtP",
        "outputId": "ab596e15-6f08-41e6-9f3e-c46b61807332"
      },
      "source": [
        "us['views_mil'] = us['view_count'] / 1000000"
      ],
      "execution_count": null,
      "outputs": [
        {
          "output_type": "stream",
          "text": [
            "/usr/local/lib/python3.7/dist-packages/ipykernel_launcher.py:1: SettingWithCopyWarning: \n",
            "A value is trying to be set on a copy of a slice from a DataFrame.\n",
            "Try using .loc[row_indexer,col_indexer] = value instead\n",
            "\n",
            "See the caveats in the documentation: https://pandas.pydata.org/pandas-docs/stable/user_guide/indexing.html#returning-a-view-versus-a-copy\n",
            "  \"\"\"Entry point for launching an IPython kernel.\n"
          ],
          "name": "stderr"
        }
      ]
    },
    {
      "cell_type": "markdown",
      "metadata": {
        "id": "BRjYCJMPawEe"
      },
      "source": [
        "aggregating by mean and count of views"
      ]
    },
    {
      "cell_type": "code",
      "metadata": {
        "colab": {
          "base_uri": "https://localhost:8080/",
          "height": 409
        },
        "id": "33FD2jFQajl0",
        "outputId": "cbc14685-670f-471c-9eba-86834657aeb8"
      },
      "source": [
        "us[['channelTitle','views_mil']].groupby('channelTitle')\\\n",
        ".agg(['mean','count'])\\\n",
        ".sort_values(by=('views_mil','count'), ascending=False)[:10]"
      ],
      "execution_count": null,
      "outputs": [
        {
          "output_type": "execute_result",
          "data": {
            "text/html": [
              "<div>\n",
              "<style scoped>\n",
              "    .dataframe tbody tr th:only-of-type {\n",
              "        vertical-align: middle;\n",
              "    }\n",
              "\n",
              "    .dataframe tbody tr th {\n",
              "        vertical-align: top;\n",
              "    }\n",
              "\n",
              "    .dataframe thead tr th {\n",
              "        text-align: left;\n",
              "    }\n",
              "\n",
              "    .dataframe thead tr:last-of-type th {\n",
              "        text-align: right;\n",
              "    }\n",
              "</style>\n",
              "<table border=\"1\" class=\"dataframe\">\n",
              "  <thead>\n",
              "    <tr>\n",
              "      <th></th>\n",
              "      <th colspan=\"2\" halign=\"left\">views_mil</th>\n",
              "    </tr>\n",
              "    <tr>\n",
              "      <th></th>\n",
              "      <th>mean</th>\n",
              "      <th>count</th>\n",
              "    </tr>\n",
              "    <tr>\n",
              "      <th>channelTitle</th>\n",
              "      <th></th>\n",
              "      <th></th>\n",
              "    </tr>\n",
              "  </thead>\n",
              "  <tbody>\n",
              "    <tr>\n",
              "      <th>BLACKPINK</th>\n",
              "      <td>25.132034</td>\n",
              "      <td>39</td>\n",
              "    </tr>\n",
              "    <tr>\n",
              "      <th>Saturday Night Live</th>\n",
              "      <td>2.507190</td>\n",
              "      <td>34</td>\n",
              "    </tr>\n",
              "    <tr>\n",
              "      <th>I Talk</th>\n",
              "      <td>0.413843</td>\n",
              "      <td>32</td>\n",
              "    </tr>\n",
              "    <tr>\n",
              "      <th>The Game Theorists</th>\n",
              "      <td>2.955561</td>\n",
              "      <td>31</td>\n",
              "    </tr>\n",
              "    <tr>\n",
              "      <th>Bruno Mars</th>\n",
              "      <td>6.652626</td>\n",
              "      <td>30</td>\n",
              "    </tr>\n",
              "    <tr>\n",
              "      <th>LazarBeam</th>\n",
              "      <td>6.391840</td>\n",
              "      <td>30</td>\n",
              "    </tr>\n",
              "    <tr>\n",
              "      <th>Overtime</th>\n",
              "      <td>0.664673</td>\n",
              "      <td>29</td>\n",
              "    </tr>\n",
              "    <tr>\n",
              "      <th>MrBeast Shorts</th>\n",
              "      <td>8.259474</td>\n",
              "      <td>29</td>\n",
              "    </tr>\n",
              "    <tr>\n",
              "      <th>Dream Shorts</th>\n",
              "      <td>2.095947</td>\n",
              "      <td>28</td>\n",
              "    </tr>\n",
              "    <tr>\n",
              "      <th>House of Highlights</th>\n",
              "      <td>1.030038</td>\n",
              "      <td>28</td>\n",
              "    </tr>\n",
              "  </tbody>\n",
              "</table>\n",
              "</div>"
            ],
            "text/plain": [
              "                     views_mil      \n",
              "                          mean count\n",
              "channelTitle                        \n",
              "BLACKPINK            25.132034    39\n",
              "Saturday Night Live   2.507190    34\n",
              "I Talk                0.413843    32\n",
              "The Game Theorists    2.955561    31\n",
              "Bruno Mars            6.652626    30\n",
              "LazarBeam             6.391840    30\n",
              "Overtime              0.664673    29\n",
              "MrBeast Shorts        8.259474    29\n",
              "Dream Shorts          2.095947    28\n",
              "House of Highlights   1.030038    28"
            ]
          },
          "metadata": {
            "tags": []
          },
          "execution_count": 302
        }
      ]
    },
    {
      "cell_type": "markdown",
      "metadata": {
        "id": "g7K7iKiwbBxy"
      },
      "source": [
        "Black Pink has the highest average with 25 million view per video"
      ]
    },
    {
      "cell_type": "markdown",
      "metadata": {
        "id": "COK3NnYdbUS3"
      },
      "source": [
        "# ***Number of videos that became trending on each date***\n",
        "\n",
        "We will plot a line plot in order to show the total number of videos that were trending on a particular day.\n",
        "\n",
        "Again not used in the final EDA presented"
      ]
    },
    {
      "cell_type": "code",
      "metadata": {
        "id": "t89qMjyKbqJR"
      },
      "source": [
        "daily = us[['trending_date']].value_counts().reset_index()\\\n",
        ".sort_values(by='trending_date').reset_index(drop=True)"
      ],
      "execution_count": null,
      "outputs": []
    },
    {
      "cell_type": "code",
      "metadata": {
        "colab": {
          "base_uri": "https://localhost:8080/",
          "height": 950
        },
        "id": "qZ7bsZkqby29",
        "outputId": "6f9aa815-de31-4d23-825b-23b1cae52ca6"
      },
      "source": [
        "daily"
      ],
      "execution_count": null,
      "outputs": [
        {
          "output_type": "execute_result",
          "data": {
            "text/html": [
              "<div>\n",
              "<style scoped>\n",
              "    .dataframe tbody tr th:only-of-type {\n",
              "        vertical-align: middle;\n",
              "    }\n",
              "\n",
              "    .dataframe tbody tr th {\n",
              "        vertical-align: top;\n",
              "    }\n",
              "\n",
              "    .dataframe thead th {\n",
              "        text-align: right;\n",
              "    }\n",
              "</style>\n",
              "<table border=\"1\" class=\"dataframe\">\n",
              "  <thead>\n",
              "    <tr style=\"text-align: right;\">\n",
              "      <th></th>\n",
              "      <th>trending_date</th>\n",
              "      <th>0</th>\n",
              "    </tr>\n",
              "  </thead>\n",
              "  <tbody>\n",
              "    <tr>\n",
              "      <th>0</th>\n",
              "      <td>2021-02-22</td>\n",
              "      <td>199</td>\n",
              "    </tr>\n",
              "    <tr>\n",
              "      <th>1</th>\n",
              "      <td>2021-02-23</td>\n",
              "      <td>199</td>\n",
              "    </tr>\n",
              "    <tr>\n",
              "      <th>2</th>\n",
              "      <td>2021-02-24</td>\n",
              "      <td>199</td>\n",
              "    </tr>\n",
              "    <tr>\n",
              "      <th>3</th>\n",
              "      <td>2021-02-25</td>\n",
              "      <td>200</td>\n",
              "    </tr>\n",
              "    <tr>\n",
              "      <th>4</th>\n",
              "      <td>2021-02-26</td>\n",
              "      <td>200</td>\n",
              "    </tr>\n",
              "    <tr>\n",
              "      <th>5</th>\n",
              "      <td>2021-02-27</td>\n",
              "      <td>200</td>\n",
              "    </tr>\n",
              "    <tr>\n",
              "      <th>6</th>\n",
              "      <td>2021-02-28</td>\n",
              "      <td>200</td>\n",
              "    </tr>\n",
              "    <tr>\n",
              "      <th>7</th>\n",
              "      <td>2021-03-01</td>\n",
              "      <td>200</td>\n",
              "    </tr>\n",
              "    <tr>\n",
              "      <th>8</th>\n",
              "      <td>2021-03-02</td>\n",
              "      <td>200</td>\n",
              "    </tr>\n",
              "    <tr>\n",
              "      <th>9</th>\n",
              "      <td>2021-03-03</td>\n",
              "      <td>200</td>\n",
              "    </tr>\n",
              "    <tr>\n",
              "      <th>10</th>\n",
              "      <td>2021-03-04</td>\n",
              "      <td>200</td>\n",
              "    </tr>\n",
              "    <tr>\n",
              "      <th>11</th>\n",
              "      <td>2021-03-05</td>\n",
              "      <td>200</td>\n",
              "    </tr>\n",
              "    <tr>\n",
              "      <th>12</th>\n",
              "      <td>2021-03-06</td>\n",
              "      <td>200</td>\n",
              "    </tr>\n",
              "    <tr>\n",
              "      <th>13</th>\n",
              "      <td>2021-03-07</td>\n",
              "      <td>200</td>\n",
              "    </tr>\n",
              "    <tr>\n",
              "      <th>14</th>\n",
              "      <td>2021-03-08</td>\n",
              "      <td>200</td>\n",
              "    </tr>\n",
              "    <tr>\n",
              "      <th>15</th>\n",
              "      <td>2021-03-09</td>\n",
              "      <td>200</td>\n",
              "    </tr>\n",
              "    <tr>\n",
              "      <th>16</th>\n",
              "      <td>2021-03-10</td>\n",
              "      <td>199</td>\n",
              "    </tr>\n",
              "    <tr>\n",
              "      <th>17</th>\n",
              "      <td>2021-03-11</td>\n",
              "      <td>199</td>\n",
              "    </tr>\n",
              "    <tr>\n",
              "      <th>18</th>\n",
              "      <td>2021-03-12</td>\n",
              "      <td>199</td>\n",
              "    </tr>\n",
              "    <tr>\n",
              "      <th>19</th>\n",
              "      <td>2021-03-13</td>\n",
              "      <td>199</td>\n",
              "    </tr>\n",
              "    <tr>\n",
              "      <th>20</th>\n",
              "      <td>2021-03-14</td>\n",
              "      <td>200</td>\n",
              "    </tr>\n",
              "    <tr>\n",
              "      <th>21</th>\n",
              "      <td>2021-03-15</td>\n",
              "      <td>200</td>\n",
              "    </tr>\n",
              "    <tr>\n",
              "      <th>22</th>\n",
              "      <td>2021-03-16</td>\n",
              "      <td>200</td>\n",
              "    </tr>\n",
              "    <tr>\n",
              "      <th>23</th>\n",
              "      <td>2021-03-17</td>\n",
              "      <td>200</td>\n",
              "    </tr>\n",
              "    <tr>\n",
              "      <th>24</th>\n",
              "      <td>2021-03-18</td>\n",
              "      <td>200</td>\n",
              "    </tr>\n",
              "    <tr>\n",
              "      <th>25</th>\n",
              "      <td>2021-03-19</td>\n",
              "      <td>200</td>\n",
              "    </tr>\n",
              "    <tr>\n",
              "      <th>26</th>\n",
              "      <td>2021-03-20</td>\n",
              "      <td>200</td>\n",
              "    </tr>\n",
              "    <tr>\n",
              "      <th>27</th>\n",
              "      <td>2021-03-21</td>\n",
              "      <td>200</td>\n",
              "    </tr>\n",
              "    <tr>\n",
              "      <th>28</th>\n",
              "      <td>2021-03-22</td>\n",
              "      <td>200</td>\n",
              "    </tr>\n",
              "    <tr>\n",
              "      <th>29</th>\n",
              "      <td>2021-03-23</td>\n",
              "      <td>200</td>\n",
              "    </tr>\n",
              "  </tbody>\n",
              "</table>\n",
              "</div>"
            ],
            "text/plain": [
              "   trending_date    0\n",
              "0     2021-02-22  199\n",
              "1     2021-02-23  199\n",
              "2     2021-02-24  199\n",
              "3     2021-02-25  200\n",
              "4     2021-02-26  200\n",
              "5     2021-02-27  200\n",
              "6     2021-02-28  200\n",
              "7     2021-03-01  200\n",
              "8     2021-03-02  200\n",
              "9     2021-03-03  200\n",
              "10    2021-03-04  200\n",
              "11    2021-03-05  200\n",
              "12    2021-03-06  200\n",
              "13    2021-03-07  200\n",
              "14    2021-03-08  200\n",
              "15    2021-03-09  200\n",
              "16    2021-03-10  199\n",
              "17    2021-03-11  199\n",
              "18    2021-03-12  199\n",
              "19    2021-03-13  199\n",
              "20    2021-03-14  200\n",
              "21    2021-03-15  200\n",
              "22    2021-03-16  200\n",
              "23    2021-03-17  200\n",
              "24    2021-03-18  200\n",
              "25    2021-03-19  200\n",
              "26    2021-03-20  200\n",
              "27    2021-03-21  200\n",
              "28    2021-03-22  200\n",
              "29    2021-03-23  200"
            ]
          },
          "metadata": {
            "tags": []
          },
          "execution_count": 304
        }
      ]
    },
    {
      "cell_type": "code",
      "metadata": {
        "id": "qQZOYbcDcgfF"
      },
      "source": [
        "daily[0] = daily[0].astype('float')"
      ],
      "execution_count": null,
      "outputs": []
    },
    {
      "cell_type": "code",
      "metadata": {
        "colab": {
          "base_uri": "https://localhost:8080/"
        },
        "id": "EJGWHnl2c13_",
        "outputId": "a5f70823-844f-4928-a294-723454820bc4"
      },
      "source": [
        "daily.dtypes"
      ],
      "execution_count": null,
      "outputs": [
        {
          "output_type": "execute_result",
          "data": {
            "text/plain": [
              "trending_date    datetime64[ns]\n",
              "0                         int64\n",
              "dtype: object"
            ]
          },
          "metadata": {
            "tags": []
          },
          "execution_count": 305
        }
      ]
    },
    {
      "cell_type": "code",
      "metadata": {
        "id": "ES36zBBgcmVB"
      },
      "source": [
        ""
      ],
      "execution_count": null,
      "outputs": []
    },
    {
      "cell_type": "code",
      "metadata": {
        "colab": {
          "base_uri": "https://localhost:8080/",
          "height": 401
        },
        "id": "-qIUBejhb184",
        "outputId": "de02ca88-998f-4ee5-8846-e1226fba9533"
      },
      "source": [
        "sns.relplot(data=daily, x='trending_date', y=0,\n",
        "kind='line', aspect=2.5)"
      ],
      "execution_count": null,
      "outputs": [
        {
          "output_type": "execute_result",
          "data": {
            "text/plain": [
              "<seaborn.axisgrid.FacetGrid at 0x7ffb819a2210>"
            ]
          },
          "metadata": {
            "tags": []
          },
          "execution_count": 306
        },
        {
          "output_type": "display_data",
          "data": {
            "image/png": "[encoded data removed]",
            "text/plain": [
              "<Figure size 900x360 with 1 Axes>"
            ]
          },
          "metadata": {
            "tags": [],
            "needs_background": "light"
          }
        }
      ]
    },
    {
      "cell_type": "code",
      "metadata": {
        "colab": {
          "base_uri": "https://localhost:8080/"
        },
        "id": "bCf3HvJ8b5cS",
        "outputId": "1bc7cfa5-4c45-4428-e861-c1ee4986aa99"
      },
      "source": [
        "daily.dtypes"
      ],
      "execution_count": null,
      "outputs": [
        {
          "output_type": "execute_result",
          "data": {
            "text/plain": [
              "trending_date    datetime64[ns]\n",
              "0                         int64\n",
              "dtype: object"
            ]
          },
          "metadata": {
            "tags": []
          },
          "execution_count": 278
        }
      ]
    },
    {
      "cell_type": "code",
      "metadata": {
        "colab": {
          "base_uri": "https://localhost:8080/"
        },
        "id": "uljBqaVCaTc-",
        "outputId": "fa4906f9-02a6-4a09-9c91-f62d04b5195c"
      },
      "source": [
        "us.sort_values(by='view_count', ascending=False)[['title','view_count']].iloc[0,:]"
      ],
      "execution_count": null,
      "outputs": [
        {
          "output_type": "execute_result",
          "data": {
            "text/plain": [
              "title         rosé  on the ground mv\n",
              "view_count                 106577789\n",
              "Name: 5593, dtype: object"
            ]
          },
          "metadata": {
            "tags": []
          },
          "execution_count": 308
        }
      ]
    },
    {
      "cell_type": "markdown",
      "metadata": {
        "id": "hpJ2S49P7k5K"
      },
      "source": [
        "# ***India - Time required to trend from the time it is published***\n",
        "\n",
        "Now we will repea the whole process for India but only for the part where we have shown previously the time it will be required for a channel to trend from the point it was published\n",
        "\n",
        "\n",
        "On an average we will see around 40 hours\n"
      ]
    },
    {
      "cell_type": "code",
      "metadata": {
        "colab": {
          "base_uri": "https://localhost:8080/"
        },
        "id": "X7kU2pbz7oc7",
        "outputId": "5f99e43b-6860-4fa2-c2e7-abbbaaec676e"
      },
      "source": [
        "video_data_IN.dtypes\n"
      ],
      "execution_count": 33,
      "outputs": [
        {
          "output_type": "execute_result",
          "data": {
            "text/plain": [
              "Unnamed: 0            int64\n",
              "video_id             object\n",
              "title                object\n",
              "publishedAt          object\n",
              "channelId            object\n",
              "channelTitle         object\n",
              "categoryId            int64\n",
              "trending_date        object\n",
              "tags                 object\n",
              "view_count            int64\n",
              "likes                 int64\n",
              "dislikes              int64\n",
              "comment_count         int64\n",
              "thumbnail_link       object\n",
              "comments_disabled      bool\n",
              "ratings_disabled       bool\n",
              "description          object\n",
              "dtype: object"
            ]
          },
          "metadata": {
            "tags": []
          },
          "execution_count": 33
        }
      ]
    },
    {
      "cell_type": "markdown",
      "metadata": {
        "id": "CmdpNO08TawZ"
      },
      "source": [
        "Appropriate date time conversion"
      ]
    },
    {
      "cell_type": "code",
      "metadata": {
        "id": "wETjCBYn7uzl"
      },
      "source": [
        "video_data_IN['publishedAt'] = video_data_IN['publishedAt'].astype('datetime64[ns]')\n",
        "video_data_IN['trending_date'] = ['20'] + video_data_IN['trending_date']"
      ],
      "execution_count": 34,
      "outputs": []
    },
    {
      "cell_type": "code",
      "metadata": {
        "id": "pE-UDrnz78C8"
      },
      "source": [
        "\n",
        "video_data_IN['trending_date'] = pd.to_datetime(video_data_IN['trending_date'], format = \"%Y.%d.%m\")\n",
        "video_data_IN['time_diff'] = video_data_IN['trending_date'] - video_data_IN['publishedAt']"
      ],
      "execution_count": 35,
      "outputs": []
    },
    {
      "cell_type": "markdown",
      "metadata": {
        "id": "tS4BVLDyTg2o"
      },
      "source": [
        "It takes around 2 days for a video to be viral"
      ]
    },
    {
      "cell_type": "code",
      "metadata": {
        "id": "MbTauyaW8D46",
        "colab": {
          "base_uri": "https://localhost:8080/"
        },
        "outputId": "ea33cc07-cf43-44f0-8e66-28b9f00d714e"
      },
      "source": [
        "video_data_IN.time_diff.mean()"
      ],
      "execution_count": 36,
      "outputs": [
        {
          "output_type": "execute_result",
          "data": {
            "text/plain": [
              "Timedelta('2 days 01:41:12.899501803')"
            ]
          },
          "metadata": {
            "tags": []
          },
          "execution_count": 36
        }
      ]
    },
    {
      "cell_type": "markdown",
      "metadata": {
        "id": "keTBlbrBTmsP"
      },
      "source": [
        "871 unique channels"
      ]
    },
    {
      "cell_type": "code",
      "metadata": {
        "id": "4IadDRbb8E-o",
        "colab": {
          "base_uri": "https://localhost:8080/"
        },
        "outputId": "e9985caf-89dd-42ef-ba1d-2006917b813d"
      },
      "source": [
        "video_data_IN.channelTitle.nunique()"
      ],
      "execution_count": 37,
      "outputs": [
        {
          "output_type": "execute_result",
          "data": {
            "text/plain": [
              "871"
            ]
          },
          "metadata": {
            "tags": []
          },
          "execution_count": 37
        }
      ]
    },
    {
      "cell_type": "markdown",
      "metadata": {
        "id": "ahh0l9WjTsUS"
      },
      "source": [
        "Time difference in hours"
      ]
    },
    {
      "cell_type": "code",
      "metadata": {
        "id": "pllvSLNl8Kzs"
      },
      "source": [
        "video_data_IN['time_diff_hour'] = video_data_IN['time_diff'] / pd.Timedelta('1 hour')"
      ],
      "execution_count": 38,
      "outputs": []
    },
    {
      "cell_type": "code",
      "metadata": {
        "id": "CVrCa1X78XTC"
      },
      "source": [
        "IN = video_data_IN"
      ],
      "execution_count": 54,
      "outputs": []
    },
    {
      "cell_type": "markdown",
      "metadata": {
        "id": "WnoACSdCTvoa"
      },
      "source": [
        "Converting into days"
      ]
    },
    {
      "cell_type": "code",
      "metadata": {
        "id": "pMPbgrru8pD6",
        "colab": {
          "base_uri": "https://localhost:8080/"
        },
        "outputId": "a1e6004b-c153-4f5a-eb2f-c9378806e184"
      },
      "source": [
        "\n",
        "IN['time_diff_hour'].mean()\n",
        "\n",
        "IN['time_diff_hour'].mean() / 24"
      ],
      "execution_count": 55,
      "outputs": [
        {
          "output_type": "execute_result",
          "data": {
            "text/plain": [
              "2.0702881886782625"
            ]
          },
          "metadata": {
            "tags": []
          },
          "execution_count": 55
        }
      ]
    },
    {
      "cell_type": "markdown",
      "metadata": {
        "id": "SOjbkYzoT2bN"
      },
      "source": [
        "Removing outliers and plotting them"
      ]
    },
    {
      "cell_type": "code",
      "metadata": {
        "id": "exbyIg3k8qLy",
        "colab": {
          "base_uri": "https://localhost:8080/",
          "height": 269
        },
        "outputId": "7c959c55-78e8-4959-d299-7d560bfa8f3c"
      },
      "source": [
        "import seaborn as sns\n",
        "\n",
        "sns.boxplot(data=IN, y='time_diff_hour')"
      ],
      "execution_count": 56,
      "outputs": [
        {
          "output_type": "execute_result",
          "data": {
            "text/plain": [
              "<matplotlib.axes._subplots.AxesSubplot at 0x7f02aa46a450>"
            ]
          },
          "metadata": {
            "tags": []
          },
          "execution_count": 56
        },
        {
          "output_type": "display_data",
          "data": {
            "image/png": "[encoded data removed]",
            "text/plain": [
              "<Figure size 432x288 with 1 Axes>"
            ]
          },
          "metadata": {
            "tags": [],
            "needs_background": "light"
          }
        }
      ]
    },
    {
      "cell_type": "code",
      "metadata": {
        "colab": {
          "base_uri": "https://localhost:8080/"
        },
        "id": "sQj3YDS-YmfJ",
        "outputId": "84a38ce7-366d-4a36-cf53-699250b8d605"
      },
      "source": [
        "len(IN)"
      ],
      "execution_count": 51,
      "outputs": [
        {
          "output_type": "execute_result",
          "data": {
            "text/plain": [
              "5817"
            ]
          },
          "metadata": {
            "tags": []
          },
          "execution_count": 51
        }
      ]
    },
    {
      "cell_type": "code",
      "metadata": {
        "id": "idtHFTDA8x1W",
        "colab": {
          "base_uri": "https://localhost:8080/"
        },
        "outputId": "4b5c62dc-304e-4a2d-9c02-2cf183d1fcf9"
      },
      "source": [
        "\n",
        "\n",
        "len(IN[IN.time_diff_hour > 300])"
      ],
      "execution_count": 57,
      "outputs": [
        {
          "output_type": "execute_result",
          "data": {
            "text/plain": [
              "4"
            ]
          },
          "metadata": {
            "tags": []
          },
          "execution_count": 57
        }
      ]
    },
    {
      "cell_type": "code",
      "metadata": {
        "id": "5wgn1R2s86dX"
      },
      "source": [
        "IN = IN[IN.time_diff_hour <= 300]"
      ],
      "execution_count": 58,
      "outputs": []
    },
    {
      "cell_type": "code",
      "metadata": {
        "id": "Jk1R_uZf8_iC",
        "colab": {
          "base_uri": "https://localhost:8080/",
          "height": 386
        },
        "outputId": "d731edc9-7b65-4627-d26a-af6720286122"
      },
      "source": [
        "sns.displot(data=IN, x='time_diff_hour', kind='hist',\n",
        "aspect=1.5, bins=20)"
      ],
      "execution_count": 59,
      "outputs": [
        {
          "output_type": "execute_result",
          "data": {
            "text/plain": [
              "<seaborn.axisgrid.FacetGrid at 0x7f02aa473a50>"
            ]
          },
          "metadata": {
            "tags": []
          },
          "execution_count": 59
        },
        {
          "output_type": "display_data",
          "data": {
            "image/png": "[encoded data removed]",
            "text/plain": [
              "<Figure size 540x360 with 1 Axes>"
            ]
          },
          "metadata": {
            "tags": [],
            "needs_background": "light"
          }
        }
      ]
    },
    {
      "cell_type": "code",
      "metadata": {
        "id": "isdOYvgiZUO8"
      },
      "source": [
        "IN = IN[IN.time_diff_hour <= 150]"
      ],
      "execution_count": 61,
      "outputs": []
    },
    {
      "cell_type": "code",
      "metadata": {
        "colab": {
          "base_uri": "https://localhost:8080/",
          "height": 269
        },
        "id": "Fx283B9aYZzS",
        "outputId": "8e1c8781-4bea-4d35-ed2d-3aec010858e2"
      },
      "source": [
        "sns.boxplot(data=IN, y='time_diff_hour')"
      ],
      "execution_count": 62,
      "outputs": [
        {
          "output_type": "execute_result",
          "data": {
            "text/plain": [
              "<matplotlib.axes._subplots.AxesSubplot at 0x7f02aa2c6310>"
            ]
          },
          "metadata": {
            "tags": []
          },
          "execution_count": 62
        },
        {
          "output_type": "display_data",
          "data": {
            "image/png": "[encoded data removed]",
            "text/plain": [
              "<Figure size 432x288 with 1 Axes>"
            ]
          },
          "metadata": {
            "tags": [],
            "needs_background": "light"
          }
        }
      ]
    },
    {
      "cell_type": "markdown",
      "metadata": {
        "id": "LtjOBZ0La805"
      },
      "source": [
        "# ***Russia - Time required to trend from the time it is published***\n",
        "\n",
        "Now we will repea the whole process for India but only for the part where we have shown previously the time it will be required for a channel to trend from the point it was published\n",
        "\n",
        "\n",
        "On an average we will see around 11 - 15  hours"
      ]
    },
    {
      "cell_type": "code",
      "metadata": {
        "colab": {
          "base_uri": "https://localhost:8080/"
        },
        "id": "SSCBcFC7bASI",
        "outputId": "04ccbeba-a7a5-4c66-d5b7-8c181a57f344"
      },
      "source": [
        "video_data_RU.dtypes\n"
      ],
      "execution_count": 120,
      "outputs": [
        {
          "output_type": "execute_result",
          "data": {
            "text/plain": [
              "Unnamed: 0            int64\n",
              "video_id             object\n",
              "title                object\n",
              "publishedAt          object\n",
              "channelId            object\n",
              "channelTitle         object\n",
              "categoryId            int64\n",
              "trending_date        object\n",
              "tags                 object\n",
              "view_count            int64\n",
              "likes                 int64\n",
              "dislikes              int64\n",
              "comment_count         int64\n",
              "thumbnail_link       object\n",
              "comments_disabled      bool\n",
              "ratings_disabled       bool\n",
              "description          object\n",
              "dtype: object"
            ]
          },
          "metadata": {
            "tags": []
          },
          "execution_count": 120
        }
      ]
    },
    {
      "cell_type": "code",
      "metadata": {
        "id": "X3aunNhpbASK"
      },
      "source": [
        "video_data_RU['publishedAt'] = video_data_RU['publishedAt'].astype('datetime64[ns]')\n",
        "video_data_RU['trending_date'] = ['20'] + video_data_RU['trending_date']"
      ],
      "execution_count": 121,
      "outputs": []
    },
    {
      "cell_type": "code",
      "metadata": {
        "id": "GG8wYU0zbASL"
      },
      "source": [
        "\n",
        "video_data_RU['trending_date'] = pd.to_datetime(video_data_RU['trending_date'], format = \"%Y.%d.%m\")\n",
        "video_data_RU['time_diff'] = video_data_RU['trending_date'] - video_data_RU['publishedAt']"
      ],
      "execution_count": 122,
      "outputs": []
    },
    {
      "cell_type": "code",
      "metadata": {
        "colab": {
          "base_uri": "https://localhost:8080/"
        },
        "id": "98SFMUcYbASM",
        "outputId": "dac1843d-39b1-4158-ce55-f5a0f5f77ff8"
      },
      "source": [
        "video_data_RU.time_diff.mean()"
      ],
      "execution_count": 123,
      "outputs": [
        {
          "output_type": "execute_result",
          "data": {
            "text/plain": [
              "Timedelta('0 days 19:44:13.542028018')"
            ]
          },
          "metadata": {
            "tags": []
          },
          "execution_count": 123
        }
      ]
    },
    {
      "cell_type": "code",
      "metadata": {
        "colab": {
          "base_uri": "https://localhost:8080/"
        },
        "id": "SlkSHuH2bASM",
        "outputId": "ff729336-7957-44cc-8b7e-e5bf6d370c96"
      },
      "source": [
        "video_data_RU.channelTitle.nunique()"
      ],
      "execution_count": 124,
      "outputs": [
        {
          "output_type": "execute_result",
          "data": {
            "text/plain": [
              "1497"
            ]
          },
          "metadata": {
            "tags": []
          },
          "execution_count": 124
        }
      ]
    },
    {
      "cell_type": "code",
      "metadata": {
        "id": "rUpRVyzBbASN"
      },
      "source": [
        "video_data_RU['time_diff_hour'] = video_data_RU['time_diff'] / pd.Timedelta('1 hour')"
      ],
      "execution_count": 125,
      "outputs": []
    },
    {
      "cell_type": "code",
      "metadata": {
        "id": "GiGKE8fxbASO"
      },
      "source": [
        "ru = video_data_RU"
      ],
      "execution_count": 126,
      "outputs": []
    },
    {
      "cell_type": "code",
      "metadata": {
        "colab": {
          "base_uri": "https://localhost:8080/"
        },
        "id": "3E0W8ekObASO",
        "outputId": "a18de8de-54d6-4ea3-cb06-e5ada100756a"
      },
      "source": [
        "\n",
        "ru['time_diff_hour'].mean()\n",
        "\n",
        "ru['time_diff_hour'].mean() / 24"
      ],
      "execution_count": 127,
      "outputs": [
        {
          "output_type": "execute_result",
          "data": {
            "text/plain": [
              "0.8223789586576178"
            ]
          },
          "metadata": {
            "tags": []
          },
          "execution_count": 127
        }
      ]
    },
    {
      "cell_type": "code",
      "metadata": {
        "colab": {
          "base_uri": "https://localhost:8080/",
          "height": 269
        },
        "id": "f8zRxNJfbASP",
        "outputId": "1c8a1adc-9b64-4f87-d3c3-b50f8351e3e0"
      },
      "source": [
        "import seaborn as sns\n",
        "\n",
        "sns.boxplot(data=ru, y='time_diff_hour')"
      ],
      "execution_count": 128,
      "outputs": [
        {
          "output_type": "execute_result",
          "data": {
            "text/plain": [
              "<matplotlib.axes._subplots.AxesSubplot at 0x7f02a9c69410>"
            ]
          },
          "metadata": {
            "tags": []
          },
          "execution_count": 128
        },
        {
          "output_type": "display_data",
          "data": {
            "image/png": "[encoded data removed]",
            "text/plain": [
              "<Figure size 432x288 with 1 Axes>"
            ]
          },
          "metadata": {
            "tags": [],
            "needs_background": "light"
          }
        }
      ]
    },
    {
      "cell_type": "code",
      "metadata": {
        "colab": {
          "base_uri": "https://localhost:8080/"
        },
        "id": "wbcKeO2ybASP",
        "outputId": "b70aae2d-8d61-4bf2-cf45-da09b97493cb"
      },
      "source": [
        "len(ru)"
      ],
      "execution_count": 98,
      "outputs": [
        {
          "output_type": "execute_result",
          "data": {
            "text/plain": [
              "5996"
            ]
          },
          "metadata": {
            "tags": []
          },
          "execution_count": 98
        }
      ]
    },
    {
      "cell_type": "code",
      "metadata": {
        "colab": {
          "base_uri": "https://localhost:8080/"
        },
        "id": "qrCmmXyybASQ",
        "outputId": "2ca49709-2703-465e-fd93-bc0cc350457f"
      },
      "source": [
        "\n",
        "\n",
        "len(ru[ru.time_diff_hour > 65])"
      ],
      "execution_count": 152,
      "outputs": [
        {
          "output_type": "execute_result",
          "data": {
            "text/plain": [
              "71"
            ]
          },
          "metadata": {
            "tags": []
          },
          "execution_count": 152
        }
      ]
    },
    {
      "cell_type": "code",
      "metadata": {
        "id": "2FW4TYhWhJZi"
      },
      "source": [
        "ru[ru['time_diff_hour'] < 0] = 10"
      ],
      "execution_count": 140,
      "outputs": []
    },
    {
      "cell_type": "code",
      "metadata": {
        "id": "rK1VSoy1bASR"
      },
      "source": [
        "run = ru[ru.time_diff_hour <= 65]"
      ],
      "execution_count": 153,
      "outputs": []
    },
    {
      "cell_type": "code",
      "metadata": {
        "colab": {
          "base_uri": "https://localhost:8080/",
          "height": 386
        },
        "id": "ohzql11RbASR",
        "outputId": "ad9a23d6-6bb9-4da0-81ad-a6bc6f6996b8"
      },
      "source": [
        "sns.displot(data=run, x='time_diff_hour', kind='hist',\n",
        "aspect=1.5, bins=20)"
      ],
      "execution_count": 154,
      "outputs": [
        {
          "output_type": "execute_result",
          "data": {
            "text/plain": [
              "<seaborn.axisgrid.FacetGrid at 0x7f02a8ee48d0>"
            ]
          },
          "metadata": {
            "tags": []
          },
          "execution_count": 154
        },
        {
          "output_type": "display_data",
          "data": {
            "image/png": "[encoded data removed]",
            "text/plain": [
              "<Figure size 540x360 with 1 Axes>"
            ]
          },
          "metadata": {
            "tags": [],
            "needs_background": "light"
          }
        }
      ]
    },
    {
      "cell_type": "code",
      "metadata": {
        "id": "-zN3G2S9bASS"
      },
      "source": [
        "ru = ru[ru.time_diff_hour <= 66]"
      ],
      "execution_count": 114,
      "outputs": []
    },
    {
      "cell_type": "code",
      "metadata": {
        "colab": {
          "base_uri": "https://localhost:8080/",
          "height": 269
        },
        "id": "NPnALBdYbASS",
        "outputId": "2641b108-b500-4244-f39a-2ea450add80e"
      },
      "source": [
        "sns.boxplot(data=run, y='time_diff_hour')"
      ],
      "execution_count": 155,
      "outputs": [
        {
          "output_type": "execute_result",
          "data": {
            "text/plain": [
              "<matplotlib.axes._subplots.AxesSubplot at 0x7f02a8e324d0>"
            ]
          },
          "metadata": {
            "tags": []
          },
          "execution_count": 155
        },
        {
          "output_type": "display_data",
          "data": {
            "image/png": "[encoded data removed]",
            "text/plain": [
              "<Figure size 432x288 with 1 Axes>"
            ]
          },
          "metadata": {
            "tags": [],
            "needs_background": "light"
          }
        }
      ]
    },
    {
      "cell_type": "markdown",
      "metadata": {
        "id": "ES3Lty1BjoWy"
      },
      "source": [
        "# ***Let's see that which hours makes the possibility of a video trend the most***"
      ]
    },
    {
      "cell_type": "markdown",
      "metadata": {
        "id": "5fXI5QD8UjPE"
      },
      "source": [
        "***United States - 17th hour***"
      ]
    },
    {
      "cell_type": "code",
      "metadata": {
        "colab": {
          "base_uri": "https://localhost:8080/",
          "height": 528
        },
        "id": "EIEI5iREjuKG",
        "outputId": "829acebf-7ebb-4c53-dc0f-0849d7fdac47"
      },
      "source": [
        "video_data[\"publish_hour\"] = video_data[\"publishedAt\"].apply(lambda x: x[11:13])\n",
        "\n",
        "# plot no of videos published by hour \n",
        "videos_by_pub_hour = video_data.groupby(\"publish_hour\").size().reset_index(name=\"no_of_videos\")\n",
        "    \n",
        "fig, ax = plt.subplots(figsize=(8,8))\n",
        "vph_plot = sns.barplot(x=\"publish_hour\", y=\"no_of_videos\", data=videos_by_pub_hour,palette=\"YlGnBu\")\n",
        "vph_plot = ax.set(xlabel=\"Hour in which the video was published\", ylabel=\"Number of Videos\")\n",
        "plt.title(\"Trending Videos by Published hour\\n\")\n",
        "plt.show()"
      ],
      "execution_count": 157,
      "outputs": [
        {
          "output_type": "display_data",
          "data": {
            "image/png": "[encoded data removed]",
            "text/plain": [
              "<Figure size 576x576 with 1 Axes>"
            ]
          },
          "metadata": {
            "tags": [],
            "needs_background": "light"
          }
        }
      ]
    },
    {
      "cell_type": "markdown",
      "metadata": {
        "id": "Vsur9d8eUuyv"
      },
      "source": [
        "**India - 5th hour**"
      ]
    },
    {
      "cell_type": "code",
      "metadata": {
        "colab": {
          "base_uri": "https://localhost:8080/",
          "height": 528
        },
        "id": "Oz-k9ixUkHSD",
        "outputId": "373409e2-a693-452f-83dd-4c54ae7caa76"
      },
      "source": [
        "video_data_IN[\"publish_hour\"] = video_data_IN[\"publishedAt\"].apply(lambda x: x[11:13])\n",
        "\n",
        "# plot no of videos published by hour \n",
        "videos_by_pub_hour = video_data_IN.groupby(\"publish_hour\").size().reset_index(name=\"no_of_videos\")\n",
        "    \n",
        "fig, ax = plt.subplots(figsize=(8,8))\n",
        "vph_plot = sns.barplot(x=\"publish_hour\", y=\"no_of_videos\", data=videos_by_pub_hour,palette=\"YlGnBu\")\n",
        "vph_plot = ax.set(xlabel=\"Hour in which the video was published\", ylabel=\"Number of Videos\")\n",
        "plt.title(\"Trending Videos by Published hour\\n\")\n",
        "plt.show()"
      ],
      "execution_count": 158,
      "outputs": [
        {
          "output_type": "display_data",
          "data": {
            "image/png": "[encoded data removed]",
            "text/plain": [
              "<Figure size 576x576 with 1 Axes>"
            ]
          },
          "metadata": {
            "tags": [],
            "needs_background": "light"
          }
        }
      ]
    },
    {
      "cell_type": "code",
      "metadata": {
        "id": "MpGlNllQsL31"
      },
      "source": [
        "video_data_RU.drop(video_data_RU[video_data_RU.publishedAt == 10].index, inplace=True)"
      ],
      "execution_count": 168,
      "outputs": []
    },
    {
      "cell_type": "code",
      "metadata": {
        "colab": {
          "base_uri": "https://localhost:8080/",
          "height": 564
        },
        "id": "zJ12U866soji",
        "outputId": "00a3433a-8495-405e-d4b8-ae6fdcbcb00d"
      },
      "source": [
        "video_data_RU.head()"
      ],
      "execution_count": 170,
      "outputs": [
        {
          "output_type": "execute_result",
          "data": {
            "text/html": [
              "<div>\n",
              "<style scoped>\n",
              "    .dataframe tbody tr th:only-of-type {\n",
              "        vertical-align: middle;\n",
              "    }\n",
              "\n",
              "    .dataframe tbody tr th {\n",
              "        vertical-align: top;\n",
              "    }\n",
              "\n",
              "    .dataframe thead th {\n",
              "        text-align: right;\n",
              "    }\n",
              "</style>\n",
              "<table border=\"1\" class=\"dataframe\">\n",
              "  <thead>\n",
              "    <tr style=\"text-align: right;\">\n",
              "      <th></th>\n",
              "      <th>Unnamed: 0</th>\n",
              "      <th>video_id</th>\n",
              "      <th>title</th>\n",
              "      <th>publishedAt</th>\n",
              "      <th>channelId</th>\n",
              "      <th>channelTitle</th>\n",
              "      <th>categoryId</th>\n",
              "      <th>trending_date</th>\n",
              "      <th>tags</th>\n",
              "      <th>view_count</th>\n",
              "      <th>likes</th>\n",
              "      <th>dislikes</th>\n",
              "      <th>comment_count</th>\n",
              "      <th>thumbnail_link</th>\n",
              "      <th>comments_disabled</th>\n",
              "      <th>ratings_disabled</th>\n",
              "      <th>description</th>\n",
              "      <th>time_diff</th>\n",
              "      <th>time_diff_hour</th>\n",
              "    </tr>\n",
              "  </thead>\n",
              "  <tbody>\n",
              "    <tr>\n",
              "      <th>2</th>\n",
              "      <td>2</td>\n",
              "      <td>I-7cJVEPfv8</td>\n",
              "      <td>Кокляев наказал Тарасова / Бой Михаил Кокляев ...</td>\n",
              "      <td>2021-02-20 21:34:47</td>\n",
              "      <td>UCkrbi2bmw7DQuuC8k4TP-QA</td>\n",
              "      <td>TRUE GYM MMA</td>\n",
              "      <td>17</td>\n",
              "      <td>2021-02-22 00:00:00</td>\n",
              "      <td>кокляев|тарасов|бой|михаил кокляев|артём тарас...</td>\n",
              "      <td>1432382</td>\n",
              "      <td>20701</td>\n",
              "      <td>23039</td>\n",
              "      <td>12732</td>\n",
              "      <td>https://i.ytimg.com/vi/I-7cJVEPfv8/default.jpg</td>\n",
              "      <td>False</td>\n",
              "      <td>False</td>\n",
              "      <td>Кокляев наказал Тарасова / Бой Михаил Кокляев ...</td>\n",
              "      <td>1 days 02:25:13</td>\n",
              "      <td>26.420278</td>\n",
              "    </tr>\n",
              "    <tr>\n",
              "      <th>4</th>\n",
              "      <td>4</td>\n",
              "      <td>ayPW7UW9H2Q</td>\n",
              "      <td>ЦИРКУЛОБЗИК И МОЛОТИЖЫ</td>\n",
              "      <td>2021-02-21 10:00:00</td>\n",
              "      <td>UCsJR1qQDNyFvsX_9_bNM63A</td>\n",
              "      <td>Доктор Дью</td>\n",
              "      <td>23</td>\n",
              "      <td>2021-02-22 00:00:00</td>\n",
              "      <td>DIY|самоделки|сделай себе|wow|топ самоделок|ин...</td>\n",
              "      <td>916592</td>\n",
              "      <td>95052</td>\n",
              "      <td>1787</td>\n",
              "      <td>6339</td>\n",
              "      <td>https://i.ytimg.com/vi/ayPW7UW9H2Q/default.jpg</td>\n",
              "      <td>False</td>\n",
              "      <td>False</td>\n",
              "      <td>Беспроводные наушники CGPods: влаго-защита и 2...</td>\n",
              "      <td>0 days 14:00:00</td>\n",
              "      <td>14.000000</td>\n",
              "    </tr>\n",
              "    <tr>\n",
              "      <th>6</th>\n",
              "      <td>6</td>\n",
              "      <td>XDrr1aTX2ek</td>\n",
              "      <td>Вечер бокса Кокляев - Тарасов / Дацик - Тайсон...</td>\n",
              "      <td>2021-02-20 23:42:51</td>\n",
              "      <td>UCkrbi2bmw7DQuuC8k4TP-QA</td>\n",
              "      <td>TRUE GYM MMA</td>\n",
              "      <td>17</td>\n",
              "      <td>2021-02-22 00:00:00</td>\n",
              "      <td>тарасов кокляев бой|дацик тайсон бой|новоселов...</td>\n",
              "      <td>3137893</td>\n",
              "      <td>40539</td>\n",
              "      <td>13461</td>\n",
              "      <td>6502</td>\n",
              "      <td>https://i.ytimg.com/vi/XDrr1aTX2ek/default.jpg</td>\n",
              "      <td>False</td>\n",
              "      <td>False</td>\n",
              "      <td>Прямой эфир вечера бокса / Кокляев - Тарасов, ...</td>\n",
              "      <td>1 days 00:17:09</td>\n",
              "      <td>24.285833</td>\n",
              "    </tr>\n",
              "    <tr>\n",
              "      <th>9</th>\n",
              "      <td>9</td>\n",
              "      <td>CHRn9Sipy-M</td>\n",
              "      <td>Вернуть своё, любой ценой! | Hyundai Solaris</td>\n",
              "      <td>2021-02-21 16:01:29</td>\n",
              "      <td>UCLlSts9lJLf90vFFNx7le4w</td>\n",
              "      <td>Максим Шелков</td>\n",
              "      <td>2</td>\n",
              "      <td>2021-02-22 00:00:00</td>\n",
              "      <td>Максим Шелков|автокриминалист|схема|автохлам|ц...</td>\n",
              "      <td>381392</td>\n",
              "      <td>20951</td>\n",
              "      <td>523</td>\n",
              "      <td>2725</td>\n",
              "      <td>https://i.ytimg.com/vi/CHRn9Sipy-M/default.jpg</td>\n",
              "      <td>False</td>\n",
              "      <td>False</td>\n",
              "      <td>Проверка автомобиля на ПроАвто - http://bit.ly...</td>\n",
              "      <td>0 days 07:58:31</td>\n",
              "      <td>7.975278</td>\n",
              "    </tr>\n",
              "    <tr>\n",
              "      <th>11</th>\n",
              "      <td>11</td>\n",
              "      <td>XPBaJVBV9kI</td>\n",
              "      <td>Последнее слово Навального. Россия будет счаст...</td>\n",
              "      <td>2021-02-20 17:00:43</td>\n",
              "      <td>UCsAw3WynQJMm7tMy093y37A</td>\n",
              "      <td>Алексей Навальный</td>\n",
              "      <td>29</td>\n",
              "      <td>2021-02-22 00:00:00</td>\n",
              "      <td>Навальный|Навальный2018|Фонд борьбы с коррупци...</td>\n",
              "      <td>2099677</td>\n",
              "      <td>188083</td>\n",
              "      <td>5631</td>\n",
              "      <td>27965</td>\n",
              "      <td>https://i.ytimg.com/vi/XPBaJVBV9kI/default.jpg</td>\n",
              "      <td>False</td>\n",
              "      <td>False</td>\n",
              "      <td>Мосгорсуд оставил в силе приговор Навальному, ...</td>\n",
              "      <td>1 days 06:59:17</td>\n",
              "      <td>30.988056</td>\n",
              "    </tr>\n",
              "  </tbody>\n",
              "</table>\n",
              "</div>"
            ],
            "text/plain": [
              "    Unnamed: 0     video_id  ...        time_diff time_diff_hour\n",
              "2            2  I-7cJVEPfv8  ...  1 days 02:25:13      26.420278\n",
              "4            4  ayPW7UW9H2Q  ...  0 days 14:00:00      14.000000\n",
              "6            6  XDrr1aTX2ek  ...  1 days 00:17:09      24.285833\n",
              "9            9  CHRn9Sipy-M  ...  0 days 07:58:31       7.975278\n",
              "11          11  XPBaJVBV9kI  ...  1 days 06:59:17      30.988056\n",
              "\n",
              "[5 rows x 19 columns]"
            ]
          },
          "metadata": {
            "tags": []
          },
          "execution_count": 170
        }
      ]
    },
    {
      "cell_type": "code",
      "metadata": {
        "id": "fsSgrwrDtEhQ"
      },
      "source": [
        "video_data_RU['publishedAt'] = video_data_RU['publishedAt'].astype('object')"
      ],
      "execution_count": 171,
      "outputs": []
    },
    {
      "cell_type": "markdown",
      "metadata": {
        "id": "uQBJ8NfQU-Co"
      },
      "source": [
        "***Russia - 9th and 13th hour***"
      ]
    },
    {
      "cell_type": "code",
      "metadata": {
        "colab": {
          "base_uri": "https://localhost:8080/",
          "height": 528
        },
        "id": "dVte3j23kZ7m",
        "outputId": "1514a5c0-0c04-4717-d0c4-11934e8a11d8"
      },
      "source": [
        "video_data_RU[\"publish_hour\"] = video_data_RU[\"publishedAt\"].apply(lambda x: x[11:13])\n",
        "\n",
        "# plot no of videos published by hour \n",
        "videos_by_pub_hour = video_data_RU.groupby(\"publish_hour\").size().reset_index(name=\"no_of_videos\")\n",
        "    \n",
        "fig, ax = plt.subplots(figsize=(8,8))\n",
        "vph_plot = sns.barplot(x=\"publish_hour\", y=\"no_of_videos\", data=videos_by_pub_hour,palette=\"YlGnBu\")\n",
        "vph_plot = ax.set(xlabel=\"Hour in which the video was published\", ylabel=\"Number of Videos\")\n",
        "plt.title(\"Trending Videos by Published hour\\n\")\n",
        "plt.show()"
      ],
      "execution_count": 180,
      "outputs": [
        {
          "output_type": "display_data",
          "data": {
            "image/png": "[encoded data removed]",
            "text/plain": [
              "<Figure size 576x576 with 1 Axes>"
            ]
          },
          "metadata": {
            "tags": [],
            "needs_background": "light"
          }
        }
      ]
    },
    {
      "cell_type": "markdown",
      "metadata": {
        "id": "ow9n7J8IYfeB"
      },
      "source": [
        "### Categories EDA"
      ]
    },
    {
      "cell_type": "markdown",
      "metadata": {
        "id": "e8nepKvlYY7U"
      },
      "source": [
        "Creating the category dictionary to map category ID to actual categories"
      ]
    },
    {
      "cell_type": "code",
      "metadata": {
        "id": "hO3rplqbXeTN"
      },
      "source": [
        "category_dict={0: 'Film and Animation',\n",
        "               1: 'Autos & Vehicles', \n",
        "               2: 'Music',\n",
        "               3: 'Pets and Animals',\n",
        "               4: 'Sports',\n",
        "               5: 'Short Movies',\n",
        "               6: 'Travel and Events',\n",
        "               7: 'Gaming',\n",
        "               8: 'Video Blogging',\n",
        "               9: 'People and Blogs',\n",
        "               10: 'Comedy',\n",
        "               11: 'Entertainment',\n",
        "               12: 'News and politics',\n",
        "               13: 'Howto and Style',\n",
        "               14: 'Education',\n",
        "               15: 'Science and Technology',\n",
        "               16: 'Nonprofits and activisim',\n",
        "               17: 'Movies',\n",
        "               18: 'Anime/Animation',\n",
        "               19: 'Action/Adventure',\n",
        "               20: 'Classics',\n",
        "               21: 'Comedy',\n",
        "               22: 'Documentary',\n",
        "               23: 'Drama',\n",
        "               24: 'Family',\n",
        "               25: 'Foreign',\n",
        "               26: 'Horror',\n",
        "               27: 'Sci-Fi/Fantasy',\n",
        "               28: 'Thriller',\n",
        "               29: 'Shorts',\n",
        "               30: 'Shows',\n",
        "               31: 'Trailers' }"
      ],
      "execution_count": 19,
      "outputs": []
    },
    {
      "cell_type": "markdown",
      "metadata": {
        "id": "8e-kS9lxYkUB"
      },
      "source": [
        "Reading the data for US, India, Russia"
      ]
    },
    {
      "cell_type": "code",
      "metadata": {
        "id": "kz-zSGNnXjTm"
      },
      "source": [
        "US_data=pd.read_csv('US_videos_data.csv')\n",
        "IN_data=pd.read_csv('IN_videos_data.csv')\n",
        "RU_data=pd.read_csv('RU_videos_data.csv')"
      ],
      "execution_count": 20,
      "outputs": []
    },
    {
      "cell_type": "markdown",
      "metadata": {
        "id": "fI9H3MLSYpLT"
      },
      "source": [
        "Creating function to group by category_id and get the total view count on a specific category. This will tell us what the users want to watch. We keep only top 5 categories"
      ]
    },
    {
      "cell_type": "code",
      "metadata": {
        "id": "I3MVdVA4XnuB"
      },
      "source": [
        "def get_category_stats(data):\n",
        "  test=(data.groupby('categoryId').sum('view_count'))\n",
        "  test=test[['view_count']]\n",
        "  test['category']= test.index.map(category_dict)\n",
        "  \n",
        "  test=test.sort_values(by='view_count', ascending=False).head(5)\n",
        "\n",
        "  return test\n"
      ],
      "execution_count": 21,
      "outputs": []
    },
    {
      "cell_type": "markdown",
      "metadata": {
        "id": "3qKG8Pv7Y4-e"
      },
      "source": [
        "Creating a function to group by category_id and the count of videos in each category. This will tell us the kind of content produced on Youtube for each category. Then we filtered everything to keep only top 5 categories"
      ]
    },
    {
      "cell_type": "code",
      "metadata": {
        "id": "FBVUfrfeXs_S"
      },
      "source": [
        "def get_count_videos_uploaded_by_ctg (data):\n",
        "  count_data=data.groupby('categoryId').count().sort_values(by='video_id',ascending=False)\n",
        "  count_data['category']= count_data.index.map(category_dict)\n",
        "  count_data=count_data[['category','video_id']].head(5)\n",
        "\n",
        "  return count_data\n"
      ],
      "execution_count": 22,
      "outputs": []
    },
    {
      "cell_type": "code",
      "metadata": {
        "id": "E4CZqbXtXxaP"
      },
      "source": [
        "import seaborn as sns\n",
        "\n",
        "ctg_US=get_category_stats(US_data)\n",
        "count_US=get_count_videos_uploaded_by_ctg(US_data)\n",
        "\n",
        "ctg_IN=get_category_stats(IN_data)\n",
        "count_IN=get_count_videos_uploaded_by_ctg(IN_data)\n",
        "\n",
        "ctg_RU=get_category_stats(RU_data)\n",
        "count_RU=get_count_videos_uploaded_by_ctg(RU_data)"
      ],
      "execution_count": 23,
      "outputs": []
    },
    {
      "cell_type": "markdown",
      "metadata": {
        "id": "VS8lc5WFX4L5"
      },
      "source": [
        "US analysis"
      ]
    },
    {
      "cell_type": "code",
      "metadata": {
        "id": "JeJ9Du6FX5hg",
        "colab": {
          "base_uri": "https://localhost:8080/",
          "height": 307
        },
        "outputId": "aa09697d-040a-411d-fd83-d89587b1c1f3"
      },
      "source": [
        "plt.bar(ctg_US['category'],ctg_US['view_count'])\n",
        "plt.ylabel(\"Number of views(In Billion)\")\n",
        "plt.xlabel(\"Category of video\")"
      ],
      "execution_count": 24,
      "outputs": [
        {
          "output_type": "execute_result",
          "data": {
            "text/plain": [
              "Text(0.5, 0, 'Category of video')"
            ]
          },
          "metadata": {
            "tags": []
          },
          "execution_count": 24
        },
        {
          "output_type": "display_data",
          "data": {
            "image/png": "[encoded data removed]",
            "text/plain": [
              "<Figure size 432x288 with 1 Axes>"
            ]
          },
          "metadata": {
            "tags": [],
            "needs_background": "light"
          }
        }
      ]
    },
    {
      "cell_type": "code",
      "metadata": {
        "id": "dbjQboTjX6eT",
        "colab": {
          "base_uri": "https://localhost:8080/",
          "height": 296
        },
        "outputId": "04c899de-4a0f-4c8b-a314-ca51112386c5"
      },
      "source": [
        "plt.bar(count_US['category'],count_US['video_id'])\n",
        "plt.ylabel(\"Number of videos uploaded\")\n",
        "plt.xlabel(\"Category of video\")"
      ],
      "execution_count": 25,
      "outputs": [
        {
          "output_type": "execute_result",
          "data": {
            "text/plain": [
              "Text(0.5, 0, 'Category of video')"
            ]
          },
          "metadata": {
            "tags": []
          },
          "execution_count": 25
        },
        {
          "output_type": "display_data",
          "data": {
            "image/png": "[encoded data removed]",
            "text/plain": [
              "<Figure size 432x288 with 1 Axes>"
            ]
          },
          "metadata": {
            "tags": [],
            "needs_background": "light"
          }
        }
      ]
    },
    {
      "cell_type": "markdown",
      "metadata": {
        "id": "dO2luEIXX919"
      },
      "source": [
        "India Analysis"
      ]
    },
    {
      "cell_type": "code",
      "metadata": {
        "id": "d3WV1C2GX9Y7",
        "colab": {
          "base_uri": "https://localhost:8080/",
          "height": 307
        },
        "outputId": "44dbcc8e-55a5-422a-de17-5dd0a0afd7ef"
      },
      "source": [
        "plt.bar(ctg_IN['category'],ctg_IN['view_count'])\n",
        "plt.ylabel(\"Number of views (In Billion)\")\n",
        "plt.xlabel(\"Category of video\")"
      ],
      "execution_count": 26,
      "outputs": [
        {
          "output_type": "execute_result",
          "data": {
            "text/plain": [
              "Text(0.5, 0, 'Category of video')"
            ]
          },
          "metadata": {
            "tags": []
          },
          "execution_count": 26
        },
        {
          "output_type": "display_data",
          "data": {
            "image/png": "[encoded data removed]",
            "text/plain": [
              "<Figure size 432x288 with 1 Axes>"
            ]
          },
          "metadata": {
            "tags": [],
            "needs_background": "light"
          }
        }
      ]
    },
    {
      "cell_type": "code",
      "metadata": {
        "id": "eSVvO4vSYHgf",
        "colab": {
          "base_uri": "https://localhost:8080/",
          "height": 296
        },
        "outputId": "e6c720cd-d78f-4e20-ef20-5a0f59beddf7"
      },
      "source": [
        "plt.bar(count_IN['category'],count_IN['video_id'])\n",
        "plt.ylabel(\"Number of videos uploaded\")\n",
        "plt.xlabel(\"Category of video\")"
      ],
      "execution_count": 27,
      "outputs": [
        {
          "output_type": "execute_result",
          "data": {
            "text/plain": [
              "Text(0.5, 0, 'Category of video')"
            ]
          },
          "metadata": {
            "tags": []
          },
          "execution_count": 27
        },
        {
          "output_type": "display_data",
          "data": {
            "image/png": "[encoded data removed]",
            "text/plain": [
              "<Figure size 432x288 with 1 Axes>"
            ]
          },
          "metadata": {
            "tags": [],
            "needs_background": "light"
          }
        }
      ]
    },
    {
      "cell_type": "markdown",
      "metadata": {
        "id": "9UySFK7AYJvp"
      },
      "source": [
        "Russia Analysis"
      ]
    },
    {
      "cell_type": "code",
      "metadata": {
        "id": "4rcEUcA4YLQs",
        "colab": {
          "base_uri": "https://localhost:8080/",
          "height": 307
        },
        "outputId": "72fb3103-071f-486f-d174-1ba83f0a9a05"
      },
      "source": [
        "plt.bar(ctg_RU['category'],ctg_RU['view_count'])\n",
        "plt.ylabel(\"Number of views (In Billion)\")\n",
        "plt.xlabel(\"Category of video\")"
      ],
      "execution_count": 28,
      "outputs": [
        {
          "output_type": "execute_result",
          "data": {
            "text/plain": [
              "Text(0.5, 0, 'Category of video')"
            ]
          },
          "metadata": {
            "tags": []
          },
          "execution_count": 28
        },
        {
          "output_type": "display_data",
          "data": {
            "image/png": "[encoded data removed]",
            "text/plain": [
              "<Figure size 432x288 with 1 Axes>"
            ]
          },
          "metadata": {
            "tags": [],
            "needs_background": "light"
          }
        }
      ]
    },
    {
      "cell_type": "code",
      "metadata": {
        "id": "iEi9thNJYOAF",
        "colab": {
          "base_uri": "https://localhost:8080/",
          "height": 296
        },
        "outputId": "b085a5bf-a20d-4575-c832-bee4f088208a"
      },
      "source": [
        "plt.bar(count_RU['category'],count_RU['video_id'])\n",
        "plt.ylabel(\"Number of videos uploaded\")\n",
        "plt.xlabel(\"Category of video\")"
      ],
      "execution_count": 29,
      "outputs": [
        {
          "output_type": "execute_result",
          "data": {
            "text/plain": [
              "Text(0.5, 0, 'Category of video')"
            ]
          },
          "metadata": {
            "tags": []
          },
          "execution_count": 29
        },
        {
          "output_type": "display_data",
          "data": {
            "image/png": "[encoded data removed]",
            "text/plain": [
              "<Figure size 432x288 with 1 Axes>"
            ]
          },
          "metadata": {
            "tags": [],
            "needs_background": "light"
          }
        }
      ]
    },
    {
      "cell_type": "code",
      "metadata": {
        "id": "fzj--tOrXAg4"
      },
      "source": [
        ""
      ],
      "execution_count": null,
      "outputs": []
    },
    {
      "cell_type": "markdown",
      "metadata": {
        "id": "R4uFTyu93Nya"
      },
      "source": [
        "Tried and Failed\n",
        "\n",
        "#### Trying Topic Modelling using LDA on Video Titles\n",
        "#### Cosine Similarity\n",
        "\n",
        "In addition we have tried to extract topics by using LDA through another nlp approach and then find the cosine similarity between them in order to see if two different regions are interested in similar or varying topics. However, we were not able to be successful in it.\n",
        "\n",
        "Still showing it as an effort of what we tried to acheive"
      ]
    },
    {
      "cell_type": "markdown",
      "metadata": {
        "id": "WI_HGt0hYsrR"
      },
      "source": [
        "### Data Preprocessing"
      ]
    },
    {
      "cell_type": "markdown",
      "metadata": {
        "id": "zAzXAgwiYsrR"
      },
      "source": [
        "For convenience, given that the dataset is small, we load the spark dataframe"
      ]
    },
    {
      "cell_type": "code",
      "metadata": {
        "id": "ibNpSlwMYsrS"
      },
      "source": [
        "#video_data=pd.read_csv('US_videos_data.csv/US_videos_data.csv')\n",
        "df = spark.read.csv('US_videos_data.csv',header=True)\n",
        "\n"
      ],
      "execution_count": 37,
      "outputs": []
    },
    {
      "cell_type": "markdown",
      "metadata": {
        "id": "jvzK_qH6UgnB"
      },
      "source": [
        "Fixing Column types"
      ]
    },
    {
      "cell_type": "code",
      "metadata": {
        "id": "9ndBJDPlYsrU"
      },
      "source": [
        "df=df.withColumn(\"view_count\", df[\"view_count\"].cast(\"int\"))\\\n",
        ".withColumn(\"likes\", df[\"likes\"].cast(\"int\"))\\\n",
        ".withColumn(\"dislikes\", df[\"dislikes\"].cast(\"int\"))\\\n",
        ".withColumn(\"comment_count\", df[\"comment_count\"].cast(\"int\"))\\\n",
        ".withColumn(\"trending_date\", to_timestamp(df[\"trending_date\"], \"yy.dd.MM\"))\\\n",
        ".withColumn(\"time_published\", to_timestamp(df[\"publishedAt\"], \"yyyy-MM-dd\"))\\\n",
        ".withColumn(\"categoryId\", df[\"categoryId\"].cast('int'))\\\n",
        ".select('video_id','view_count','title','tags','channelTitle','categoryId','likes','dislikes','comment_count')\n"
      ],
      "execution_count": 38,
      "outputs": []
    },
    {
      "cell_type": "code",
      "metadata": {
        "id": "xYKDDZyYYsrU"
      },
      "source": [
        "## Data for modelling\n",
        "Regression_data=df"
      ],
      "execution_count": 39,
      "outputs": []
    },
    {
      "cell_type": "markdown",
      "metadata": {
        "id": "AYOIVyQqUoMN"
      },
      "source": [
        "Tokenizing the column 'title'"
      ]
    },
    {
      "cell_type": "code",
      "metadata": {
        "id": "5ExP8sklYsrV"
      },
      "source": [
        "from pyspark.ml.feature import HashingTF, IDF, Tokenizer\n",
        "tokenizer = Tokenizer(inputCol=\"title\", outputCol=\"Tokens_title\")\n",
        "df = tokenizer.transform(df)"
      ],
      "execution_count": 40,
      "outputs": []
    },
    {
      "cell_type": "code",
      "metadata": {
        "colab": {
          "base_uri": "https://localhost:8080/"
        },
        "id": "FjPSMet_YsrW",
        "outputId": "191bdb7d-0e8d-4cfc-ed9c-ef0d0c8b73bc"
      },
      "source": [
        "df.limit(3).show()"
      ],
      "execution_count": 41,
      "outputs": [
        {
          "output_type": "stream",
          "text": [
            "+-----------+----------+--------------------+--------------------+---------------+----------+------+--------+-------------+--------------------+\n",
            "|   video_id|view_count|               title|                tags|   channelTitle|categoryId| likes|dislikes|comment_count|        Tokens_title|\n",
            "+-----------+----------+--------------------+--------------------+---------------+----------+------+--------+-------------+--------------------+\n",
            "|IhO1FcjDMV4|   1067147|Meatpacking: Last...|              [none]|LastWeekTonight|        24| 60111|    1221|         6866|[meatpacking:, la...|\n",
            "|p4Wy84AOzj0|   1047854|Best 3D Pen Art W...|              [none]|     ZHC Crafts|        26| 50662|     690|         4879|[best, 3d, pen, a...|\n",
            "|4eKXwKDdXYA|   6133266|100 Days - [Minec...|luke thenotable|l...|Luke TheNotable|        20|372753|    7961|        39551|[100, days, -, [m...|\n",
            "+-----------+----------+--------------------+--------------------+---------------+----------+------+--------+-------------+--------------------+\n",
            "\n"
          ],
          "name": "stdout"
        }
      ]
    },
    {
      "cell_type": "markdown",
      "metadata": {
        "id": "PbinpdUoUwjy"
      },
      "source": [
        "Removing Stop Words from Title"
      ]
    },
    {
      "cell_type": "code",
      "metadata": {
        "id": "ntSgY-LqYsrX"
      },
      "source": [
        "from pyspark.ml.feature import StopWordsRemover\n",
        "remover = StopWordsRemover(inputCol=\"Tokens_title\", outputCol=\"filtered_tokens_title\")\n",
        "df=remover.transform(df)"
      ],
      "execution_count": 42,
      "outputs": []
    },
    {
      "cell_type": "code",
      "metadata": {
        "colab": {
          "base_uri": "https://localhost:8080/"
        },
        "id": "-_YLG6THYsrX",
        "outputId": "eb4e7ab4-cc4d-4d2c-c05c-e66e3ec04010"
      },
      "source": [
        "df.limit(3).show()"
      ],
      "execution_count": 43,
      "outputs": [
        {
          "output_type": "stream",
          "text": [
            "+-----------+----------+--------------------+--------------------+---------------+----------+------+--------+-------------+--------------------+---------------------+\n",
            "|   video_id|view_count|               title|                tags|   channelTitle|categoryId| likes|dislikes|comment_count|        Tokens_title|filtered_tokens_title|\n",
            "+-----------+----------+--------------------+--------------------+---------------+----------+------+--------+-------------+--------------------+---------------------+\n",
            "|IhO1FcjDMV4|   1067147|Meatpacking: Last...|              [none]|LastWeekTonight|        24| 60111|    1221|         6866|[meatpacking:, la...| [meatpacking:, la...|\n",
            "|p4Wy84AOzj0|   1047854|Best 3D Pen Art W...|              [none]|     ZHC Crafts|        26| 50662|     690|         4879|[best, 3d, pen, a...| [best, 3d, pen, a...|\n",
            "|4eKXwKDdXYA|   6133266|100 Days - [Minec...|luke thenotable|l...|Luke TheNotable|        20|372753|    7961|        39551|[100, days, -, [m...| [100, days, -, [m...|\n",
            "+-----------+----------+--------------------+--------------------+---------------+----------+------+--------+-------------+--------------------+---------------------+\n",
            "\n"
          ],
          "name": "stdout"
        }
      ]
    },
    {
      "cell_type": "markdown",
      "metadata": {
        "id": "aYzyoJCZYsrY"
      },
      "source": [
        "#### Trying Topic Modelling using LDA on Video Titles"
      ]
    },
    {
      "cell_type": "code",
      "metadata": {
        "id": "cPnpJNRI3GB7"
      },
      "source": [
        "LDA_data=df"
      ],
      "execution_count": 44,
      "outputs": []
    },
    {
      "cell_type": "code",
      "metadata": {
        "id": "tDXxCH8O3il2",
        "colab": {
          "base_uri": "https://localhost:8080/"
        },
        "outputId": "16910f4f-494b-4787-f99d-c46d6a6ebbd6"
      },
      "source": [
        "LDA_data.columns"
      ],
      "execution_count": 45,
      "outputs": [
        {
          "output_type": "execute_result",
          "data": {
            "text/plain": [
              "['video_id',\n",
              " 'view_count',\n",
              " 'title',\n",
              " 'tags',\n",
              " 'channelTitle',\n",
              " 'categoryId',\n",
              " 'likes',\n",
              " 'dislikes',\n",
              " 'comment_count',\n",
              " 'Tokens_title',\n",
              " 'filtered_tokens_title']"
            ]
          },
          "metadata": {
            "tags": []
          },
          "execution_count": 45
        }
      ]
    },
    {
      "cell_type": "code",
      "metadata": {
        "id": "5yB36Tx74ElQ"
      },
      "source": [
        "test_data=LDA_data.limit(3)"
      ],
      "execution_count": 46,
      "outputs": []
    },
    {
      "cell_type": "code",
      "metadata": {
        "id": "kB-gTEKdYKTa"
      },
      "source": [
        "from pyspark.ml.feature import HashingTF, IDF, Tokenizer"
      ],
      "execution_count": 47,
      "outputs": []
    },
    {
      "cell_type": "code",
      "metadata": {
        "id": "WWO-DtXy0_5t"
      },
      "source": [
        "hashingTF = HashingTF(inputCol=\"filtered_tokens_title\", outputCol=\"TF\", numFeatures=20)\n",
        "featurizedData = hashingTF.transform(test_data)"
      ],
      "execution_count": 48,
      "outputs": []
    },
    {
      "cell_type": "code",
      "metadata": {
        "id": "st7b1kHd1Ojt",
        "colab": {
          "base_uri": "https://localhost:8080/"
        },
        "outputId": "1e3869b9-21c7-4065-8d71-a8a4b3611079"
      },
      "source": [
        "featurizedData.show()"
      ],
      "execution_count": 49,
      "outputs": [
        {
          "output_type": "stream",
          "text": [
            "+-----------+----------+--------------------+--------------------+---------------+----------+------+--------+-------------+--------------------+---------------------+--------------------+\n",
            "|   video_id|view_count|               title|                tags|   channelTitle|categoryId| likes|dislikes|comment_count|        Tokens_title|filtered_tokens_title|                  TF|\n",
            "+-----------+----------+--------------------+--------------------+---------------+----------+------+--------+-------------+--------------------+---------------------+--------------------+\n",
            "|IhO1FcjDMV4|   1067147|Meatpacking: Last...|              [none]|LastWeekTonight|        24| 60111|    1221|         6866|[meatpacking:, la...| [meatpacking:, la...|(20,[1,2,3,9],[1....|\n",
            "|p4Wy84AOzj0|   1047854|Best 3D Pen Art W...|              [none]|     ZHC Crafts|        26| 50662|     690|         4879|[best, 3d, pen, a...| [best, 3d, pen, a...|(20,[1,3,5,12,13,...|\n",
            "|4eKXwKDdXYA|   6133266|100 Days - [Minec...|luke thenotable|l...|Luke TheNotable|        20|372753|    7961|        39551|[100, days, -, [m...| [100, days, -, [m...|(20,[4,12,13,17,1...|\n",
            "+-----------+----------+--------------------+--------------------+---------------+----------+------+--------+-------------+--------------------+---------------------+--------------------+\n",
            "\n"
          ],
          "name": "stdout"
        }
      ]
    },
    {
      "cell_type": "code",
      "metadata": {
        "id": "Bj3cG0ZI4nMO"
      },
      "source": [
        "from pyspark.ml.feature import HashingTF, IDF, Tokenizer\n",
        "idf = IDF(inputCol=\"TF\", outputCol=\"features\")\n",
        "idfModel = idf.fit(featurizedData)\n",
        "result_tfidf = idfModel.transform(featurizedData) "
      ],
      "execution_count": 50,
      "outputs": []
    },
    {
      "cell_type": "code",
      "metadata": {
        "id": "9UA4rROm-pM3",
        "colab": {
          "base_uri": "https://localhost:8080/"
        },
        "outputId": "752fc69d-b69c-49ef-d885-7dd6c94188da"
      },
      "source": [
        "result_tfidf.show()"
      ],
      "execution_count": 51,
      "outputs": [
        {
          "output_type": "stream",
          "text": [
            "+-----------+----------+--------------------+--------------------+---------------+----------+------+--------+-------------+--------------------+---------------------+--------------------+--------------------+\n",
            "|   video_id|view_count|               title|                tags|   channelTitle|categoryId| likes|dislikes|comment_count|        Tokens_title|filtered_tokens_title|                  TF|            features|\n",
            "+-----------+----------+--------------------+--------------------+---------------+----------+------+--------+-------------+--------------------+---------------------+--------------------+--------------------+\n",
            "|IhO1FcjDMV4|   1067147|Meatpacking: Last...|              [none]|LastWeekTonight|        24| 60111|    1221|         6866|[meatpacking:, la...| [meatpacking:, la...|(20,[1,2,3,9],[1....|(20,[1,2,3,9],[0....|\n",
            "|p4Wy84AOzj0|   1047854|Best 3D Pen Art W...|              [none]|     ZHC Crafts|        26| 50662|     690|         4879|[best, 3d, pen, a...| [best, 3d, pen, a...|(20,[1,3,5,12,13,...|(20,[1,3,5,12,13,...|\n",
            "|4eKXwKDdXYA|   6133266|100 Days - [Minec...|luke thenotable|l...|Luke TheNotable|        20|372753|    7961|        39551|[100, days, -, [m...| [100, days, -, [m...|(20,[4,12,13,17,1...|(20,[4,12,13,17,1...|\n",
            "+-----------+----------+--------------------+--------------------+---------------+----------+------+--------+-------------+--------------------+---------------------+--------------------+--------------------+\n",
            "\n"
          ],
          "name": "stdout"
        }
      ]
    },
    {
      "cell_type": "code",
      "metadata": {
        "id": "qgyWftG51tpJ"
      },
      "source": [
        "from pyspark.mllib.clustering import LDA\n",
        "result_tfidf=result_tfidf.select('video_id','features')\n",
        "num_topics = 2\n",
        "max_iterations = 3\n",
        "#lda_model = LDA.train(result_tfidf.rdd, k=num_topics, maxIterations=max_iterations)\n",
        "lda = LDA()\n",
        "#lda=LDA.train(featurizedData['TF'].rdd,k=2)\n",
        "#LDA.train()"
      ],
      "execution_count": 52,
      "outputs": []
    },
    {
      "cell_type": "code",
      "metadata": {
        "id": "s-h42RzwAHkk",
        "colab": {
          "base_uri": "https://localhost:8080/",
          "height": 166
        },
        "outputId": "1de20adf-3f1f-43bc-f88b-31adf608a643"
      },
      "source": [
        "lda.setMaxIter(10)"
      ],
      "execution_count": 53,
      "outputs": [
        {
          "output_type": "error",
          "ename": "AttributeError",
          "evalue": "ignored",
          "traceback": [
            "\u001b[0;31m---------------------------------------------------------------------------\u001b[0m",
            "\u001b[0;31mAttributeError\u001b[0m                            Traceback (most recent call last)",
            "\u001b[0;32m<ipython-input-53-5241f34e4eba>\u001b[0m in \u001b[0;36m<module>\u001b[0;34m()\u001b[0m\n\u001b[0;32m----> 1\u001b[0;31m \u001b[0mlda\u001b[0m\u001b[0;34m.\u001b[0m\u001b[0msetMaxIter\u001b[0m\u001b[0;34m(\u001b[0m\u001b[0;36m10\u001b[0m\u001b[0;34m)\u001b[0m\u001b[0;34m\u001b[0m\u001b[0;34m\u001b[0m\u001b[0m\n\u001b[0m",
            "\u001b[0;31mAttributeError\u001b[0m: 'LDA' object has no attribute 'setMaxIter'"
          ]
        }
      ]
    },
    {
      "cell_type": "code",
      "metadata": {
        "id": "0NZs9rdx64mJ",
        "colab": {
          "base_uri": "https://localhost:8080/"
        },
        "outputId": "d22ba0ac-b1d0-4f2c-b5ff-6ca4829808fc"
      },
      "source": [
        "featurizedData.show()"
      ],
      "execution_count": 54,
      "outputs": [
        {
          "output_type": "stream",
          "text": [
            "+-----------+----------+--------------------+--------------------+---------------+----------+------+--------+-------------+--------------------+---------------------+--------------------+\n",
            "|   video_id|view_count|               title|                tags|   channelTitle|categoryId| likes|dislikes|comment_count|        Tokens_title|filtered_tokens_title|                  TF|\n",
            "+-----------+----------+--------------------+--------------------+---------------+----------+------+--------+-------------+--------------------+---------------------+--------------------+\n",
            "|IhO1FcjDMV4|   1067147|Meatpacking: Last...|              [none]|LastWeekTonight|        24| 60111|    1221|         6866|[meatpacking:, la...| [meatpacking:, la...|(20,[1,2,3,9],[1....|\n",
            "|p4Wy84AOzj0|   1047854|Best 3D Pen Art W...|              [none]|     ZHC Crafts|        26| 50662|     690|         4879|[best, 3d, pen, a...| [best, 3d, pen, a...|(20,[1,3,5,12,13,...|\n",
            "|4eKXwKDdXYA|   6133266|100 Days - [Minec...|luke thenotable|l...|Luke TheNotable|        20|372753|    7961|        39551|[100, days, -, [m...| [100, days, -, [m...|(20,[4,12,13,17,1...|\n",
            "+-----------+----------+--------------------+--------------------+---------------+----------+------+--------+-------------+--------------------+---------------------+--------------------+\n",
            "\n"
          ],
          "name": "stdout"
        }
      ]
    },
    {
      "cell_type": "markdown",
      "metadata": {
        "id": "L_s7fIF0VPdo"
      },
      "source": [
        "Reading data for multiple countries"
      ]
    },
    {
      "cell_type": "code",
      "metadata": {
        "id": "3i6wyxzGXBpW"
      },
      "source": [
        "df_IN = spark.read.csv('IN_videos_data.csv',header=True)\n",
        "df_BR = spark.read.csv('BR_videos_data.csv',header=True)\n",
        "df_FR = spark.read.csv('FR_videos_data.csv',header=True)\n",
        "df_CA= spark.read.csv('CA_videos_data.csv',header=True)\n",
        "df_RU = spark.read.csv('RU_videos_data.csv',header=True)\n",
        "df_JP = spark.read.csv('JP_videos_data.csv',header=True)"
      ],
      "execution_count": 55,
      "outputs": []
    },
    {
      "cell_type": "code",
      "metadata": {
        "id": "TjjRuzrKXBpX"
      },
      "source": [
        "df_MX = spark.read.csv('MX_videos_data.csv',header=True)"
      ],
      "execution_count": 57,
      "outputs": []
    },
    {
      "cell_type": "code",
      "metadata": {
        "colab": {
          "base_uri": "https://localhost:8080/"
        },
        "id": "0PwXu4kzXBpX",
        "outputId": "17af9d3f-a0b8-4fa4-8f42-7fc4a31510c2"
      },
      "source": [
        "df_IN.columns"
      ],
      "execution_count": 58,
      "outputs": [
        {
          "output_type": "execute_result",
          "data": {
            "text/plain": [
              "['_c0',\n",
              " 'video_id',\n",
              " 'title',\n",
              " 'publishedAt',\n",
              " 'channelId',\n",
              " 'channelTitle',\n",
              " 'categoryId',\n",
              " 'trending_date',\n",
              " 'tags',\n",
              " 'view_count',\n",
              " 'likes',\n",
              " 'dislikes',\n",
              " 'comment_count',\n",
              " 'thumbnail_link',\n",
              " 'comments_disabled',\n",
              " 'ratings_disabled',\n",
              " 'description']"
            ]
          },
          "metadata": {
            "tags": []
          },
          "execution_count": 58
        }
      ]
    },
    {
      "cell_type": "code",
      "metadata": {
        "id": "X4HhEH7EXBpY"
      },
      "source": [
        "df_IN=df_IN.withColumn(\"view_count\", df_IN[\"view_count\"].cast(\"int\"))\\\n",
        ".withColumn(\"likes\", df_IN[\"likes\"].cast(\"int\"))\\\n",
        ".withColumn(\"dislikes\", df_IN[\"dislikes\"].cast(\"int\"))\\\n",
        ".withColumn(\"comment_count\", df_IN[\"comment_count\"].cast(\"int\"))\\\n",
        ".withColumn(\"trending_date\", to_timestamp(df_IN[\"trending_date\"], \"yy.dd.MM\"))\\\n",
        ".withColumn(\"time_published\", to_timestamp(df_IN[\"publishedAt\"], \"yyyy-MM-dd\"))\\\n",
        ".withColumn(\"categoryId\", df_IN[\"categoryId\"].cast('int'))\\\n",
        ".select('view_count','title','tags','channelTitle','categoryId')"
      ],
      "execution_count": 59,
      "outputs": []
    },
    {
      "cell_type": "code",
      "metadata": {
        "id": "8KyvZZ8HXBpY"
      },
      "source": [
        "df_IN_category=df_IN.groupBy('categoryId').sum().select('categoryId','sum(view_count)')"
      ],
      "execution_count": 60,
      "outputs": []
    },
    {
      "cell_type": "code",
      "metadata": {
        "id": "q6nRpy5lB1y7"
      },
      "source": [
        "IN_top5_categories=df_IN_category.filter(df_IN_category['categoryId'].isNotNull()).orderBy(df_IN_category['sum(view_count)'].desc()).limit(5)"
      ],
      "execution_count": 61,
      "outputs": []
    },
    {
      "cell_type": "code",
      "metadata": {
        "id": "KtyNEm-hXBpZ"
      },
      "source": [
        "df_BR=df_BR.withColumn(\"view_count\", df_BR[\"view_count\"].cast(\"int\"))\\\n",
        ".withColumn(\"likes\", df_BR[\"likes\"].cast(\"int\"))\\\n",
        ".withColumn(\"dislikes\", df_BR[\"dislikes\"].cast(\"int\"))\\\n",
        ".withColumn(\"comment_count\", df_BR[\"comment_count\"].cast(\"int\"))\\\n",
        ".withColumn(\"trending_date\", to_timestamp(df_BR[\"trending_date\"], \"yy.dd.MM\"))\\\n",
        ".withColumn(\"time_published\", to_timestamp(df_BR[\"publishedAt\"], \"yyyy-MM-dd\"))\\\n",
        ".withColumn(\"categoryId\", df_BR[\"categoryId\"].cast('int'))\\\n",
        ".select('view_count','title','tags','channelTitle','categoryId')\n",
        "\n",
        "df_BR_category=df_BR.groupBy('categoryId').sum().select('categoryId','sum(view_count)')"
      ],
      "execution_count": 62,
      "outputs": []
    },
    {
      "cell_type": "code",
      "metadata": {
        "id": "bOPfrFx4CAtN"
      },
      "source": [
        "BR_top5_categories=df_BR_category.filter(df_BR_category['categoryId'].isNotNull()).orderBy(df_BR_category['sum(view_count)'].desc()).limit(5)"
      ],
      "execution_count": 63,
      "outputs": []
    },
    {
      "cell_type": "code",
      "metadata": {
        "id": "QXwnJK7WXBpb"
      },
      "source": [
        "df_CA=df_CA.withColumn(\"view_count\", df_CA[\"view_count\"].cast(\"int\"))\\\n",
        ".withColumn(\"likes\", df_CA[\"likes\"].cast(\"int\"))\\\n",
        ".withColumn(\"dislikes\", df_CA[\"dislikes\"].cast(\"int\"))\\\n",
        ".withColumn(\"comment_count\", df_CA[\"comment_count\"].cast(\"int\"))\\\n",
        ".withColumn(\"trending_date\", to_timestamp(df_CA[\"trending_date\"], \"yy.dd.MM\"))\\\n",
        ".withColumn(\"time_published\", to_timestamp(df_CA[\"publishedAt\"], \"yyyy-MM-dd\"))\\\n",
        ".withColumn(\"categoryId\", df_CA[\"categoryId\"].cast('int'))\\\n",
        ".select('view_count','title','tags','channelTitle','categoryId')\n",
        "\n",
        "df_CA_category=df_CA.groupBy('categoryId').sum().select('categoryId','sum(view_count)')"
      ],
      "execution_count": 64,
      "outputs": []
    },
    {
      "cell_type": "code",
      "metadata": {
        "id": "7eveLOJGCG97"
      },
      "source": [
        "CA_top5_categories=df_CA_category.filter(df_CA_category['categoryId'].isNotNull()).orderBy(df_CA_category['sum(view_count)'].desc()).limit(5)"
      ],
      "execution_count": 65,
      "outputs": []
    },
    {
      "cell_type": "code",
      "metadata": {
        "id": "7Q3gYRLjXBpb"
      },
      "source": [
        "df_FR=df_FR.withColumn(\"view_count\", df_FR[\"view_count\"].cast(\"int\"))\\\n",
        ".withColumn(\"likes\", df_FR[\"likes\"].cast(\"int\"))\\\n",
        ".withColumn(\"dislikes\", df_FR[\"dislikes\"].cast(\"int\"))\\\n",
        ".withColumn(\"comment_count\", df_FR[\"comment_count\"].cast(\"int\"))\\\n",
        ".withColumn(\"trending_date\", to_timestamp(df_FR[\"trending_date\"], \"yy.dd.MM\"))\\\n",
        ".withColumn(\"time_published\", to_timestamp(df_FR[\"publishedAt\"], \"yyyy-MM-dd\"))\\\n",
        ".withColumn(\"categoryId\", df_FR[\"categoryId\"].cast('int'))\\\n",
        ".select('view_count','title','tags','channelTitle','categoryId')\n",
        "\n",
        "df_FR_category=df_FR.groupBy('categoryId').sum().select('categoryId','sum(view_count)')"
      ],
      "execution_count": 66,
      "outputs": []
    },
    {
      "cell_type": "code",
      "metadata": {
        "id": "s4vVju3FCMQm"
      },
      "source": [
        "FR_top5_categories=df_FR_category.filter(df_FR_category['categoryId'].isNotNull()).orderBy(df_FR_category['sum(view_count)'].desc()).limit(5)"
      ],
      "execution_count": 67,
      "outputs": []
    },
    {
      "cell_type": "code",
      "metadata": {
        "id": "WF4dIJ-SXBpc"
      },
      "source": [
        "df_MX=df_MX.withColumn(\"view_count\", df_MX[\"view_count\"].cast(\"int\"))\\\n",
        ".withColumn(\"likes\", df_MX[\"likes\"].cast(\"int\"))\\\n",
        ".withColumn(\"dislikes\", df_MX[\"dislikes\"].cast(\"int\"))\\\n",
        ".withColumn(\"comment_count\", df_MX[\"comment_count\"].cast(\"int\"))\\\n",
        ".withColumn(\"trending_date\", to_timestamp(df_MX[\"trending_date\"], \"yy.dd.MM\"))\\\n",
        ".withColumn(\"time_published\", to_timestamp(df_MX[\"publishedAt\"], \"yyyy-MM-dd\"))\\\n",
        ".withColumn(\"categoryId\", df_MX[\"categoryId\"].cast('int'))\\\n",
        ".select('view_count','title','tags','channelTitle','categoryId')\n",
        "\n",
        "df_MX_category=df_MX.groupBy('categoryId').sum().select('categoryId','sum(view_count)')"
      ],
      "execution_count": 68,
      "outputs": []
    },
    {
      "cell_type": "code",
      "metadata": {
        "id": "giLc4O6PCQh2"
      },
      "source": [
        "MX_top5_categories=df_MX_category.filter(df_MX_category['categoryId'].isNotNull()).orderBy(df_MX_category['sum(view_count)'].desc()).limit(5)"
      ],
      "execution_count": 69,
      "outputs": []
    },
    {
      "cell_type": "markdown",
      "metadata": {
        "id": "crgeUVpDF2eI"
      },
      "source": [
        "### Pairwise country Cosine Similarity"
      ]
    },
    {
      "cell_type": "code",
      "metadata": {
        "id": "nRIAX0iwF52n"
      },
      "source": [
        "IN_vector=IN_top5_categories.select('categoryId').collect()\n",
        "IN_array = [row[0] for row in IN_vector]"
      ],
      "execution_count": 70,
      "outputs": []
    },
    {
      "cell_type": "code",
      "metadata": {
        "id": "sZUkPnesHQlK",
        "colab": {
          "base_uri": "https://localhost:8080/"
        },
        "outputId": "a8e23612-2818-4ee6-de1f-ac1959af929f"
      },
      "source": [
        "IN_array"
      ],
      "execution_count": 71,
      "outputs": [
        {
          "output_type": "execute_result",
          "data": {
            "text/plain": [
              "[10, 24, 23, 28, 1]"
            ]
          },
          "metadata": {
            "tags": []
          },
          "execution_count": 71
        }
      ]
    },
    {
      "cell_type": "code",
      "metadata": {
        "id": "YL_rIoIaIAVz",
        "colab": {
          "base_uri": "https://localhost:8080/"
        },
        "outputId": "b0a196d6-2c9d-4937-fcc5-3c3ffad5474d"
      },
      "source": [
        "from scipy import spatial\n",
        "#US_vector=US_top5_categories.select('categoryId').collect()\n",
        "US_array = [row for row in IN_array]\n",
        "\n",
        "1 - spatial.distance.cosine(IN_array, US_array)"
      ],
      "execution_count": 75,
      "outputs": [
        {
          "output_type": "execute_result",
          "data": {
            "text/plain": [
              "1.0"
            ]
          },
          "metadata": {
            "tags": []
          },
          "execution_count": 75
        }
      ]
    }
  ]
}